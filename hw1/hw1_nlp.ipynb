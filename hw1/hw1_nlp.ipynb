{
  "nbformat": 4,
  "nbformat_minor": 0,
  "metadata": {
    "colab": {
      "name": "hw1_nlp.ipynb",
      "provenance": [],
      "toc_visible": true,
      "authorship_tag": "ABX9TyMqxApX4nF3bTjUgWv0GeGs"
    },
    "kernelspec": {
      "name": "python3",
      "display_name": "Python 3"
    }
  },
  "cells": [
    {
      "cell_type": "markdown",
      "metadata": {
        "id": "_wbodGCFCXcn"
      },
      "source": [
        "# Домашнее задание 1. Извлечение ключевых слов"
      ]
    },
    {
      "cell_type": "markdown",
      "metadata": {
        "id": "pg9LK8FJCb6o"
      },
      "source": [
        "Мини-корпус с уже выделенной разметкой ключевых слов + самостоятельной разметкой ключевых слов. Источник текстов -- новостной сайт [вести.ру](https://www.vesti.ru/); ключевые слова представлены в виде тегов, по которым можно сделать поиск похожих статей.\n",
        "\n"
      ]
    },
    {
      "cell_type": "code",
      "metadata": {
        "id": "Yd1nEG3ndkXU",
        "outputId": "5e8076f8-da19-4ab2-dd56-ac97974375ab",
        "colab": {
          "base_uri": "https://localhost:8080/",
          "height": 427
        }
      },
      "source": [
        "import pandas as pd\n",
        "df = pd.read_csv('kw_corpus.csv')\n",
        "df.head()"
      ],
      "execution_count": 1,
      "outputs": [
        {
          "output_type": "execute_result",
          "data": {
            "text/html": [
              "<div>\n",
              "<style scoped>\n",
              "    .dataframe tbody tr th:only-of-type {\n",
              "        vertical-align: middle;\n",
              "    }\n",
              "\n",
              "    .dataframe tbody tr th {\n",
              "        vertical-align: top;\n",
              "    }\n",
              "\n",
              "    .dataframe thead th {\n",
              "        text-align: right;\n",
              "    }\n",
              "</style>\n",
              "<table border=\"1\" class=\"dataframe\">\n",
              "  <thead>\n",
              "    <tr style=\"text-align: right;\">\n",
              "      <th></th>\n",
              "      <th>text</th>\n",
              "      <th>url</th>\n",
              "      <th>keywords by source</th>\n",
              "      <th>keywords by me</th>\n",
              "      <th>sum of keywords</th>\n",
              "    </tr>\n",
              "  </thead>\n",
              "  <tbody>\n",
              "    <tr>\n",
              "      <th>0</th>\n",
              "      <td>Администрация мессенджера WhatsApp, принадлежа...</td>\n",
              "      <td>https://www.vesti.ru/hitech/article/2482035</td>\n",
              "      <td>технологии, новости, мессенджеры, WhatsApp, пл...</td>\n",
              "      <td>WhatsApp, Индия, денежные переводы</td>\n",
              "      <td>NaN</td>\n",
              "    </tr>\n",
              "    <tr>\n",
              "      <th>1</th>\n",
              "      <td>Вслед за Евросоюзом дополнительные санкции в о...</td>\n",
              "      <td>https://www.vesti.ru/article/2482032</td>\n",
              "      <td>общество, в мире, политика, новости, Белорусси...</td>\n",
              "      <td>Канада, Беларусь, санкции, права целовека</td>\n",
              "      <td>NaN</td>\n",
              "    </tr>\n",
              "    <tr>\n",
              "      <th>2</th>\n",
              "      <td>Естественная убыль населения в период с января...</td>\n",
              "      <td>https://www.vesti.ru/article/2482034</td>\n",
              "      <td>общество, новости, смертность, статистика, Рос...</td>\n",
              "      <td>естественная убыль населения, Росстат, смертно...</td>\n",
              "      <td>NaN</td>\n",
              "    </tr>\n",
              "    <tr>\n",
              "      <th>3</th>\n",
              "      <td>Россияне стали более требовательны к местным о...</td>\n",
              "      <td>https://www.vesti.ru/article/2481993</td>\n",
              "      <td>общество, политика, новости, Владимир Путин, в...</td>\n",
              "      <td>выборы, волонтерство, доверие, технологичность</td>\n",
              "      <td>NaN</td>\n",
              "    </tr>\n",
              "    <tr>\n",
              "      <th>4</th>\n",
              "      <td>\"Медленный Джо\", так Байдена всю дорогу называ...</td>\n",
              "      <td>https://www.vesti.ru/article/2481999</td>\n",
              "      <td>политика, новости, президент, Джозеф Байден, С...</td>\n",
              "      <td>Байден, Трамп, подсчет голосов, голосование</td>\n",
              "      <td>NaN</td>\n",
              "    </tr>\n",
              "  </tbody>\n",
              "</table>\n",
              "</div>"
            ],
            "text/plain": [
              "                                                text  ... sum of keywords\n",
              "0  Администрация мессенджера WhatsApp, принадлежа...  ...             NaN\n",
              "1  Вслед за Евросоюзом дополнительные санкции в о...  ...             NaN\n",
              "2  Естественная убыль населения в период с января...  ...             NaN\n",
              "3  Россияне стали более требовательны к местным о...  ...             NaN\n",
              "4  \"Медленный Джо\", так Байдена всю дорогу называ...  ...             NaN\n",
              "\n",
              "[5 rows x 5 columns]"
            ]
          },
          "metadata": {
            "tags": []
          },
          "execution_count": 1
        }
      ]
    },
    {
      "cell_type": "markdown",
      "metadata": {
        "id": "KDrehXEBLqNV"
      },
      "source": [
        "Добавим последний столбец (эталон разметки) -- объединение ручной разметки и исходной"
      ]
    },
    {
      "cell_type": "code",
      "metadata": {
        "id": "EpeAId_wOe52",
        "outputId": "8d821eb1-a82a-4460-8a81-70973026728f",
        "colab": {
          "base_uri": "https://localhost:8080/",
          "height": 531
        }
      },
      "source": [
        "kw_source = df['keywords by source'].tolist()\n",
        "kw_author = df['keywords by me'].tolist()\n",
        "kw_sum = [', '.join(list(set(el.split(', ') + kw_author[i].split(', ')))) for i, el in enumerate(kw_source)]\n",
        "df['sum of keywords'] = kw_sum\n",
        "df.head()"
      ],
      "execution_count": 2,
      "outputs": [
        {
          "output_type": "execute_result",
          "data": {
            "text/html": [
              "<div>\n",
              "<style scoped>\n",
              "    .dataframe tbody tr th:only-of-type {\n",
              "        vertical-align: middle;\n",
              "    }\n",
              "\n",
              "    .dataframe tbody tr th {\n",
              "        vertical-align: top;\n",
              "    }\n",
              "\n",
              "    .dataframe thead th {\n",
              "        text-align: right;\n",
              "    }\n",
              "</style>\n",
              "<table border=\"1\" class=\"dataframe\">\n",
              "  <thead>\n",
              "    <tr style=\"text-align: right;\">\n",
              "      <th></th>\n",
              "      <th>text</th>\n",
              "      <th>url</th>\n",
              "      <th>keywords by source</th>\n",
              "      <th>keywords by me</th>\n",
              "      <th>sum of keywords</th>\n",
              "    </tr>\n",
              "  </thead>\n",
              "  <tbody>\n",
              "    <tr>\n",
              "      <th>0</th>\n",
              "      <td>Администрация мессенджера WhatsApp, принадлежа...</td>\n",
              "      <td>https://www.vesti.ru/hitech/article/2482035</td>\n",
              "      <td>технологии, новости, мессенджеры, WhatsApp, пл...</td>\n",
              "      <td>WhatsApp, Индия, денежные переводы</td>\n",
              "      <td>мессенджеры, платежи, WhatsApp, hi-tech, новос...</td>\n",
              "    </tr>\n",
              "    <tr>\n",
              "      <th>1</th>\n",
              "      <td>Вслед за Евросоюзом дополнительные санкции в о...</td>\n",
              "      <td>https://www.vesti.ru/article/2482032</td>\n",
              "      <td>общество, в мире, политика, новости, Белорусси...</td>\n",
              "      <td>Канада, Беларусь, санкции, права целовека</td>\n",
              "      <td>права целовека, Белоруссия, Александр Лукашенк...</td>\n",
              "    </tr>\n",
              "    <tr>\n",
              "      <th>2</th>\n",
              "      <td>Естественная убыль населения в период с января...</td>\n",
              "      <td>https://www.vesti.ru/article/2482034</td>\n",
              "      <td>общество, новости, смертность, статистика, Рос...</td>\n",
              "      <td>естественная убыль населения, Росстат, смертно...</td>\n",
              "      <td>Росстат, естественная убыль населения, коронав...</td>\n",
              "    </tr>\n",
              "    <tr>\n",
              "      <th>3</th>\n",
              "      <td>Россияне стали более требовательны к местным о...</td>\n",
              "      <td>https://www.vesti.ru/article/2481993</td>\n",
              "      <td>общество, политика, новости, Владимир Путин, в...</td>\n",
              "      <td>выборы, волонтерство, доверие, технологичность</td>\n",
              "      <td>технологичность, Владимир Путин, новости, воло...</td>\n",
              "    </tr>\n",
              "    <tr>\n",
              "      <th>4</th>\n",
              "      <td>\"Медленный Джо\", так Байдена всю дорогу называ...</td>\n",
              "      <td>https://www.vesti.ru/article/2481999</td>\n",
              "      <td>политика, новости, президент, Джозеф Байден, С...</td>\n",
              "      <td>Байден, Трамп, подсчет голосов, голосование</td>\n",
              "      <td>голосование, Трамп, Америка, выборы в США 2020...</td>\n",
              "    </tr>\n",
              "  </tbody>\n",
              "</table>\n",
              "</div>"
            ],
            "text/plain": [
              "                                                text  ...                                    sum of keywords\n",
              "0  Администрация мессенджера WhatsApp, принадлежа...  ...  мессенджеры, платежи, WhatsApp, hi-tech, новос...\n",
              "1  Вслед за Евросоюзом дополнительные санкции в о...  ...  права целовека, Белоруссия, Александр Лукашенк...\n",
              "2  Естественная убыль населения в период с января...  ...  Росстат, естественная убыль населения, коронав...\n",
              "3  Россияне стали более требовательны к местным о...  ...  технологичность, Владимир Путин, новости, воло...\n",
              "4  \"Медленный Джо\", так Байдена всю дорогу называ...  ...  голосование, Трамп, Америка, выборы в США 2020...\n",
              "\n",
              "[5 rows x 5 columns]"
            ]
          },
          "metadata": {
            "tags": []
          },
          "execution_count": 2
        }
      ]
    },
    {
      "cell_type": "markdown",
      "metadata": {
        "id": "oqIpD8yRxTvb"
      },
      "source": [
        "## Нормализация текстов"
      ]
    },
    {
      "cell_type": "code",
      "metadata": {
        "id": "nfDIpO46yGLD"
      },
      "source": [
        "#pip install git+https://github.com/aatimofeev/spacy_russian_tokenizer.git"
      ],
      "execution_count": 139,
      "outputs": []
    },
    {
      "cell_type": "code",
      "metadata": {
        "id": "8NEm3ecG5XZ1"
      },
      "source": [
        "#pip install pymorphy2"
      ],
      "execution_count": 140,
      "outputs": []
    },
    {
      "cell_type": "code",
      "metadata": {
        "id": "TW8N03mKxXEO",
        "outputId": "685444d1-2e66-43c8-f1ff-0d9e038bf738",
        "colab": {
          "base_uri": "https://localhost:8080/"
        }
      },
      "source": [
        "import nltk\n",
        "nltk.download('stopwords')\n",
        "from nltk.corpus import stopwords\n",
        "from pymorphy2 import MorphAnalyzer\n",
        "from spacy.lang.ru import Russian\n",
        "from spacy_russian_tokenizer import RussianTokenizer, MERGE_PATTERNS\n"
      ],
      "execution_count": 3,
      "outputs": [
        {
          "output_type": "stream",
          "text": [
            "[nltk_data] Downloading package stopwords to /root/nltk_data...\n",
            "[nltk_data]   Package stopwords is already up-to-date!\n"
          ],
          "name": "stdout"
        }
      ]
    },
    {
      "cell_type": "code",
      "metadata": {
        "id": "WjRD8Q84xs34"
      },
      "source": [
        "morph = MorphAnalyzer()\n",
        "def normalize_text(text):\n",
        "    # убираем стоп-слова\n",
        "    text = ' '.join([word for word in text.lower().split() if word not in stopwords.words('russian')])\n",
        "    # разбиваем на токены\n",
        "    nlp = Russian()\n",
        "    doc = nlp(text)\n",
        "    russian_tokenizer = RussianTokenizer(nlp, MERGE_PATTERNS)\n",
        "    nlp.add_pipe(russian_tokenizer, name='russian_tokenizer')\n",
        "    doc = nlp(text)\n",
        "    tokens = [token.text for token in doc if token.text not in ',.!?-();:\"\"«»—_–#' and '.' not in token.text]\n",
        "    return ' '.join([morph.parse(word)[0].normal_form for word in tokens])"
      ],
      "execution_count": 4,
      "outputs": []
    },
    {
      "cell_type": "code",
      "metadata": {
        "id": "f69exspdyL54"
      },
      "source": [
        "df['normalized_text'] = df['text'].apply(normalize_text)"
      ],
      "execution_count": 5,
      "outputs": []
    },
    {
      "cell_type": "markdown",
      "metadata": {
        "id": "tbq6y-pZ2Z92"
      },
      "source": [
        "## RAKE"
      ]
    },
    {
      "cell_type": "code",
      "metadata": {
        "id": "wB3GxHtULMhR"
      },
      "source": [
        "#pip install python-rake"
      ],
      "execution_count": 6,
      "outputs": []
    },
    {
      "cell_type": "code",
      "metadata": {
        "id": "PbTS0rtsMIBh"
      },
      "source": [
        "import RAKE"
      ],
      "execution_count": 7,
      "outputs": []
    },
    {
      "cell_type": "code",
      "metadata": {
        "id": "wjlt8AzaMMYW"
      },
      "source": [
        "stop = stopwords.words('russian')"
      ],
      "execution_count": 8,
      "outputs": []
    },
    {
      "cell_type": "code",
      "metadata": {
        "id": "fJ-OA426MOsp"
      },
      "source": [
        "rake = RAKE.Rake(stop)"
      ],
      "execution_count": 9,
      "outputs": []
    },
    {
      "cell_type": "code",
      "metadata": {
        "id": "bMlVMv8yMftZ"
      },
      "source": [
        "rake_kw = []\n",
        "for i, row in df.iterrows():\n",
        "    rake_words = [w[0] for w in rake.run(df['text'][i], maxWords=2, minFrequency=1)]\n",
        "    list_kw = []\n",
        "    for word in rake_words:\n",
        "        w = ' '.join([morph.parse(word)[0].normal_form for word in word.split()])\n",
        "        list_kw.append(w)\n",
        "    list_kw = ', '.join(list_kw)\n",
        "    rake_kw.append(list_kw)"
      ],
      "execution_count": 44,
      "outputs": []
    },
    {
      "cell_type": "code",
      "metadata": {
        "id": "ZLr6pH7U5dwS"
      },
      "source": [
        "df['RAKE'] = rake_kw"
      ],
      "execution_count": 49,
      "outputs": []
    },
    {
      "cell_type": "markdown",
      "metadata": {
        "id": "dBaGa2kj2niS"
      },
      "source": [
        "## Summa\n"
      ]
    },
    {
      "cell_type": "code",
      "metadata": {
        "id": "YDLoOmP57DO3"
      },
      "source": [
        "#pip install summa"
      ],
      "execution_count": 12,
      "outputs": []
    },
    {
      "cell_type": "code",
      "metadata": {
        "id": "w7Lmxr0T7F7y"
      },
      "source": [
        "from summa import keywords"
      ],
      "execution_count": 13,
      "outputs": []
    },
    {
      "cell_type": "code",
      "metadata": {
        "id": "TYifCZnGNCPQ"
      },
      "source": [
        "summa_kw = []\n",
        "for i, row in df.iterrows():\n",
        "    summa_kw.append(', '.join([w[0] for w in keywords.keywords(df['normalized_text'][i], language='russian', additional_stopwords=stop, scores=True)]))"
      ],
      "execution_count": 14,
      "outputs": []
    },
    {
      "cell_type": "code",
      "metadata": {
        "id": "bieR_EnX6qJE"
      },
      "source": [
        "df['summa'] = summa_kw"
      ],
      "execution_count": 15,
      "outputs": []
    },
    {
      "cell_type": "markdown",
      "metadata": {
        "id": "BW5VHe1Q2uqL"
      },
      "source": [
        "## TextRank"
      ]
    },
    {
      "cell_type": "code",
      "metadata": {
        "id": "IpmdQGVFEiFG"
      },
      "source": [
        "from gensim.summarization import keywords as kw"
      ],
      "execution_count": 16,
      "outputs": []
    },
    {
      "cell_type": "code",
      "metadata": {
        "id": "uZWv5b9xGDjx"
      },
      "source": [
        "textrank_kw = []\n",
        "for i, row in df.iterrows():\n",
        "    textrank_kw.append(', '.join([w[0] for w in kw(df['normalized_text'][i], pos_filter=[], scores=True)]))"
      ],
      "execution_count": 17,
      "outputs": []
    },
    {
      "cell_type": "code",
      "metadata": {
        "id": "U95umFoQNNE3"
      },
      "source": [
        "df['TextRank'] = textrank_kw"
      ],
      "execution_count": 18,
      "outputs": []
    },
    {
      "cell_type": "markdown",
      "metadata": {
        "id": "g_95Zbf3NIp2"
      },
      "source": [
        "## Морфосинтаксические шаблоны"
      ]
    },
    {
      "cell_type": "markdown",
      "metadata": {
        "id": "KuMbOTkkNfvU"
      },
      "source": [
        "Будем использовать шаблоны ADJ + NOUN, NOUN + NOUN, NOUN (также в качестве pos-теггера для улучшения качества работы TextRank)"
      ]
    },
    {
      "cell_type": "code",
      "metadata": {
        "id": "f1_CM-FdNLKe"
      },
      "source": [
        "def pos(kw):\n",
        "    res = []\n",
        "    list_kw = kw.split(', ')\n",
        "    for word in list_kw:\n",
        "        if len(word.split()) == 1:\n",
        "            res.append(morph.parse(word)[0].tag.POS)\n",
        "        else:\n",
        "            res.append([morph.parse(w)[0].tag.POS for w in word.split()])\n",
        "    \n",
        "    return res"
      ],
      "execution_count": 19,
      "outputs": []
    },
    {
      "cell_type": "code",
      "metadata": {
        "id": "to9q8j3T3jR2"
      },
      "source": [
        "templates = ['NOUN', \"['ADJF', 'NOUN']\", \"['NOUN', 'NOUN']\"]"
      ],
      "execution_count": 20,
      "outputs": []
    },
    {
      "cell_type": "markdown",
      "metadata": {
        "id": "PTV0hN9aCCei"
      },
      "source": [
        "## RAKE + pos-tagging"
      ]
    },
    {
      "cell_type": "code",
      "metadata": {
        "id": "Uu72ER0cCV4i"
      },
      "source": [
        "rake_kw_pos = []\n",
        "for k, kw in enumerate(rake_kw):\n",
        "    pos_tagging = pos(kw)\n",
        "    kw = kw.split(', ')\n",
        "    text_kw = [kw[i] for i, el in enumerate(pos_tagging) if str(el) in templates]\n",
        "    rake_kw_pos.append(', '.join(text_kw))\n",
        "\n",
        "df['RAKE + pos-tagging'] = rake_kw_pos"
      ],
      "execution_count": 46,
      "outputs": []
    },
    {
      "cell_type": "markdown",
      "metadata": {
        "id": "QSb4IWWpCINY"
      },
      "source": [
        "## summa + pos-tagging"
      ]
    },
    {
      "cell_type": "code",
      "metadata": {
        "id": "ig3SsbnA4BX8"
      },
      "source": [
        "summa_kw_pos = []\n",
        "for k, kw in enumerate(summa_kw):\n",
        "    pos_tagging = pos(kw)\n",
        "    kw = kw.split(', ')\n",
        "    text_kw = [kw[i] for i, el in enumerate(pos_tagging) if str(el) in templates]\n",
        "    summa_kw_pos.append(', '.join(text_kw))"
      ],
      "execution_count": 22,
      "outputs": []
    },
    {
      "cell_type": "code",
      "metadata": {
        "id": "QOMCC9169chG"
      },
      "source": [
        "df['summa + pos-tagging'] = summa_kw_pos"
      ],
      "execution_count": 23,
      "outputs": []
    },
    {
      "cell_type": "markdown",
      "metadata": {
        "id": "EOTX1QsACRlN"
      },
      "source": [
        "## TextRank + pos-tagging"
      ]
    },
    {
      "cell_type": "code",
      "metadata": {
        "id": "dbzLdQ0uBv9j"
      },
      "source": [
        "textrank_kw_pos = []\n",
        "for k, kw in enumerate(textrank_kw):\n",
        "    pos_tagging = pos(kw)\n",
        "    kw = kw.split(', ')\n",
        "    text_kw = [kw[i] for i, el in enumerate(pos_tagging) if str(el) in templates]\n",
        "    textrank_kw_pos.append(', '.join(text_kw))\n",
        "\n",
        "df['TextRank + pos-tagging'] = textrank_kw_pos"
      ],
      "execution_count": 24,
      "outputs": []
    },
    {
      "cell_type": "code",
      "metadata": {
        "id": "hWUuPvOKDlJZ",
        "outputId": "aa962667-260c-4764-ad21-1d68ff4c2b99",
        "colab": {
          "base_uri": "https://localhost:8080/",
          "height": 603
        }
      },
      "source": [
        "df.head()"
      ],
      "execution_count": 25,
      "outputs": [
        {
          "output_type": "execute_result",
          "data": {
            "text/html": [
              "<div>\n",
              "<style scoped>\n",
              "    .dataframe tbody tr th:only-of-type {\n",
              "        vertical-align: middle;\n",
              "    }\n",
              "\n",
              "    .dataframe tbody tr th {\n",
              "        vertical-align: top;\n",
              "    }\n",
              "\n",
              "    .dataframe thead th {\n",
              "        text-align: right;\n",
              "    }\n",
              "</style>\n",
              "<table border=\"1\" class=\"dataframe\">\n",
              "  <thead>\n",
              "    <tr style=\"text-align: right;\">\n",
              "      <th></th>\n",
              "      <th>text</th>\n",
              "      <th>url</th>\n",
              "      <th>keywords by source</th>\n",
              "      <th>keywords by me</th>\n",
              "      <th>sum of keywords</th>\n",
              "      <th>normalized_text</th>\n",
              "      <th>RAKE</th>\n",
              "      <th>summa</th>\n",
              "      <th>TextRank</th>\n",
              "      <th>RAKE + pos-tagging</th>\n",
              "      <th>summa + pos-tagging</th>\n",
              "      <th>TextRank + pos-tagging</th>\n",
              "    </tr>\n",
              "  </thead>\n",
              "  <tbody>\n",
              "    <tr>\n",
              "      <th>0</th>\n",
              "      <td>Администрация мессенджера WhatsApp, принадлежа...</td>\n",
              "      <td>https://www.vesti.ru/hitech/article/2482035</td>\n",
              "      <td>технологии, новости, мессенджеры, WhatsApp, пл...</td>\n",
              "      <td>WhatsApp, Индия, денежные переводы</td>\n",
              "      <td>мессенджеры, платежи, WhatsApp, hi-tech, новос...</td>\n",
              "      <td>администрация мессенджер whatsapp принадлежащи...</td>\n",
              "      <td>которая тестироваться, запуск сервис, позволяю...</td>\n",
              "      <td>индия, мессенджер whatsapp, платёжный, upi, ba...</td>\n",
              "      <td>индия, мессенджер whatsapp, функция, платежныи...</td>\n",
              "      <td>запуск сервис, дебетовую карта, блоге компания...</td>\n",
              "      <td>индия, банк, перевод, деньга, время, пользоват...</td>\n",
              "      <td>индия, функция, платежныи, банк, деньга, местн...</td>\n",
              "    </tr>\n",
              "    <tr>\n",
              "      <th>1</th>\n",
              "      <td>Вслед за Евросоюзом дополнительные санкции в о...</td>\n",
              "      <td>https://www.vesti.ru/article/2482032</td>\n",
              "      <td>общество, в мире, политика, новости, Белорусси...</td>\n",
              "      <td>Канада, Беларусь, санкции, права целовека</td>\n",
              "      <td>права целовека, Белоруссия, Александр Лукашенк...</td>\n",
              "      <td>вслед евросоюз дополнительный санкция отношени...</td>\n",
              "      <td>санкции связать, политической ситуация, канаде...</td>\n",
              "      <td>санкция отношение, ес, канада, мид, недовольст...</td>\n",
              "      <td>санкция отношение, канада, мид, недовольство, ...</td>\n",
              "      <td>политической ситуация, санкциях ес, своей стра...</td>\n",
              "      <td>санкция отношение, ес, канада, мид, недовольст...</td>\n",
              "      <td>санкция отношение, канада, мид, недовольство, ...</td>\n",
              "    </tr>\n",
              "    <tr>\n",
              "      <th>2</th>\n",
              "      <td>Естественная убыль населения в период с января...</td>\n",
              "      <td>https://www.vesti.ru/article/2482034</td>\n",
              "      <td>общество, новости, смертность, статистика, Рос...</td>\n",
              "      <td>естественная убыль населения, Росстат, смертно...</td>\n",
              "      <td>Росстат, естественная убыль населения, коронав...</td>\n",
              "      <td>естественный убыль население период январь сен...</td>\n",
              "      <td>прошлом года, сайте ведомство, росстате отмеча...</td>\n",
              "      <td>сентябрь, тысяча человек, росстат, год состави...</td>\n",
              "      <td>тысяча человек, сентябрь, росстат, год состави...</td>\n",
              "      <td>прошлом года, сайте ведомство, период, январь,...</td>\n",
              "      <td>сентябрь, тысяча человек, росстат, смертность,...</td>\n",
              "      <td>тысяча человек, сентябрь, росстат, ведомство, ...</td>\n",
              "    </tr>\n",
              "    <tr>\n",
              "      <th>3</th>\n",
              "      <td>Россияне стали более требовательны к местным о...</td>\n",
              "      <td>https://www.vesti.ru/article/2481993</td>\n",
              "      <td>общество, политика, новости, Владимир Путин, в...</td>\n",
              "      <td>выборы, волонтерство, доверие, технологичность</td>\n",
              "      <td>технологичность, Владимир Путин, новости, воло...</td>\n",
              "      <td>россиянин стать требовательный местный орган в...</td>\n",
              "      <td>россияне стать, одержал побед, который прошеть...</td>\n",
              "      <td>выборы следующий год, человек, памфилов, урове...</td>\n",
              "      <td>выборы, тот, человек, год, которыи, сам, урове...</td>\n",
              "      <td>новых лица, ходе разговор, главой государство,...</td>\n",
              "      <td>человек, памфилов, результат, избирательный си...</td>\n",
              "      <td>выборы, человек, год, которыи, результат, наро...</td>\n",
              "    </tr>\n",
              "    <tr>\n",
              "      <th>4</th>\n",
              "      <td>\"Медленный Джо\", так Байдена всю дорогу называ...</td>\n",
              "      <td>https://www.vesti.ru/article/2481999</td>\n",
              "      <td>политика, новости, президент, Джозеф Байден, С...</td>\n",
              "      <td>Байден, Трамп, подсчет голосов, голосование</td>\n",
              "      <td>голосование, Трамп, Америка, выборы в США 2020...</td>\n",
              "      <td>медленный джо байден дорога называть трамп сег...</td>\n",
              "      <td>знаменитый лас-вегас, медленный джо, стать пер...</td>\n",
              "      <td>трамп сегодня, это, байден, президент, демокра...</td>\n",
              "      <td>это, трамп сегодня, баиден, которыи, президент...</td>\n",
              "      <td>знаменитый лас-вегас, медленный джо, пенсильва...</td>\n",
              "      <td>байден, президент, демократия, подсчёт голос, ...</td>\n",
              "      <td>баиден, которыи, президент, подсчет голос, чел...</td>\n",
              "    </tr>\n",
              "  </tbody>\n",
              "</table>\n",
              "</div>"
            ],
            "text/plain": [
              "                                                text  ...                             TextRank + pos-tagging\n",
              "0  Администрация мессенджера WhatsApp, принадлежа...  ...  индия, функция, платежныи, банк, деньга, местн...\n",
              "1  Вслед за Евросоюзом дополнительные санкции в о...  ...  санкция отношение, канада, мид, недовольство, ...\n",
              "2  Естественная убыль населения в период с января...  ...  тысяча человек, сентябрь, росстат, ведомство, ...\n",
              "3  Россияне стали более требовательны к местным о...  ...  выборы, человек, год, которыи, результат, наро...\n",
              "4  \"Медленный Джо\", так Байдена всю дорогу называ...  ...  баиден, которыи, президент, подсчет голос, чел...\n",
              "\n",
              "[5 rows x 12 columns]"
            ]
          },
          "metadata": {
            "tags": []
          },
          "execution_count": 25
        }
      ]
    },
    {
      "cell_type": "markdown",
      "metadata": {
        "id": "s6lh0ePjEE41"
      },
      "source": [
        "## Точность, полнота и f-мера относительно эталона"
      ]
    },
    {
      "cell_type": "code",
      "metadata": {
        "id": "MAbF67MSFTU5"
      },
      "source": [
        "def tp(kw_gold, kw_counted):\n",
        "    a = kw_gold.lower().split(', ')\n",
        "    b = kw_counted.split(', ')\n",
        "    c = []\n",
        "    for i in a:\n",
        "        for j in b:\n",
        "            if i == j:\n",
        "                c.append(i)\n",
        "                break\n",
        "    return len(c)\n",
        "\n",
        "def fp(kw_gold, kw_counted):\n",
        "    # резмечены методом как ключевые слова, но отсутствуют в эталонном списке\n",
        "    right_kw = tp(kw_gold, kw_counted)\n",
        "    return len(kw_counted.split(', ')) - right_kw\n",
        "\n",
        "def fn(kw_gold, kw_counted):\n",
        "    # количество слов из эталонного списка, которые ошибочно не были размечены как ключевые\n",
        "    right_kw = tp(kw_gold, kw_counted)\n",
        "    return len(kw_gold.split(', ')) - right_kw"
      ],
      "execution_count": 47,
      "outputs": []
    },
    {
      "cell_type": "code",
      "metadata": {
        "id": "T05zRbczV_fY"
      },
      "source": [
        "def precision(kw_gold, kw_counted):\n",
        "    return round(tp(kw_gold, kw_counted)/(tp(kw_gold, kw_counted)+fp(kw_gold, kw_counted)), 4)\n",
        "\n",
        "def recall(kw_gold, kw_counted):\n",
        "    return round(tp(kw_gold, kw_counted)/(tp(kw_gold, kw_counted)+fn(kw_gold, kw_counted)), 4)\n",
        "\n",
        "def f_measure(kw_gold, kw_counted):\n",
        "    if precision(kw_gold, kw_counted)+recall(kw_gold, kw_counted) == 0:\n",
        "        return 0\n",
        "    else:\n",
        "        return round(2*precision(kw_gold, kw_counted)*recall(kw_gold, kw_counted)/(precision(kw_gold, kw_counted)+recall(kw_gold, kw_counted)), 4)"
      ],
      "execution_count": 53,
      "outputs": []
    },
    {
      "cell_type": "code",
      "metadata": {
        "id": "Ana3eSBRVSyA"
      },
      "source": [
        "from prettytable import PrettyTable"
      ],
      "execution_count": 28,
      "outputs": []
    },
    {
      "cell_type": "code",
      "metadata": {
        "id": "2D2FvmOIVFlF",
        "outputId": "74803874-215d-4e82-d1c7-4b320eb4854a",
        "colab": {
          "base_uri": "https://localhost:8080/"
        }
      },
      "source": [
        "for i, row in df.iterrows():\n",
        "    print('Качество выделения ключевых слов для текста ', (i+1))\n",
        "    x = PrettyTable()\n",
        "    x.field_names = [' ', 'RAKE', 'summa', 'TextRank', \n",
        "                                      'RAKE + pos-tagging', 'summa + pos-tagging', \n",
        "                                      'TextRank + pos-tagging']\n",
        "    gold = row['sum of keywords']\n",
        "    x.add_row(['precision', precision(gold, row['RAKE']), \n",
        "               precision(gold, row['summa']), \n",
        "               precision(gold, row['TextRank']), \n",
        "               precision(gold, row['RAKE + pos-tagging']), \n",
        "               precision(gold, row['summa + pos-tagging']), \n",
        "               precision(gold, row['TextRank + pos-tagging'])])\n",
        "    x.add_row(['recall', recall(gold, row['RAKE']), \n",
        "               recall(gold, row['summa']), \n",
        "               recall(gold, row['TextRank']), \n",
        "               recall(gold, row['RAKE + pos-tagging']), \n",
        "               recall(gold, row['summa + pos-tagging']), \n",
        "               recall(gold, row['TextRank + pos-tagging'])])\n",
        "    x.add_row(['f-measure',  f_measure(gold, row['RAKE']), \n",
        "               f_measure(gold, row['summa']), \n",
        "               f_measure(gold, row['TextRank']), \n",
        "               f_measure(gold, row['RAKE + pos-tagging']),\n",
        "               f_measure(gold, row['summa + pos-tagging']), \n",
        "               f_measure(gold, row['TextRank + pos-tagging'])])\n",
        "    print(x, '\\n')"
      ],
      "execution_count": 54,
      "outputs": [
        {
          "output_type": "stream",
          "text": [
            "Качество выделения ключевых слов для текста  1\n",
            "+-----------+--------+--------+----------+--------------------+---------------------+------------------------+\n",
            "|           |  RAKE  | summa  | TextRank | RAKE + pos-tagging | summa + pos-tagging | TextRank + pos-tagging |\n",
            "+-----------+--------+--------+----------+--------------------+---------------------+------------------------+\n",
            "| precision | 0.0294 | 0.0556 |  0.0588  |        0.0         |        0.1429       |         0.0909         |\n",
            "|   recall  | 0.125  | 0.125  |  0.125   |        0.0         |        0.125        |         0.125          |\n",
            "| f-measure | 0.0476 | 0.077  |   0.08   |         0          |        0.1334       |         0.1053         |\n",
            "+-----------+--------+--------+----------+--------------------+---------------------+------------------------+ \n",
            "\n",
            "Качество выделения ключевых слов для текста  2\n",
            "+-----------+--------+-------+----------+--------------------+---------------------+------------------------+\n",
            "|           |  RAKE  | summa | TextRank | RAKE + pos-tagging | summa + pos-tagging | TextRank + pos-tagging |\n",
            "+-----------+--------+-------+----------+--------------------+---------------------+------------------------+\n",
            "| precision | 0.0476 |  0.1  |   0.1    |       0.0909       |         0.1         |         0.125          |\n",
            "|   recall  |  0.1   |  0.1  |   0.1    |        0.1         |         0.1         |          0.1           |\n",
            "| f-measure | 0.0645 |  0.1  |   0.1    |       0.0952       |         0.1         |         0.1111         |\n",
            "+-----------+--------+-------+----------+--------------------+---------------------+------------------------+ \n",
            "\n",
            "Качество выделения ключевых слов для текста  3\n",
            "+-----------+--------+--------+----------+--------------------+---------------------+------------------------+\n",
            "|           |  RAKE  | summa  | TextRank | RAKE + pos-tagging | summa + pos-tagging | TextRank + pos-tagging |\n",
            "+-----------+--------+--------+----------+--------------------+---------------------+------------------------+\n",
            "| precision | 0.0714 | 0.2222 |  0.125   |       0.1429       |        0.3333       |         0.1667         |\n",
            "|   recall  | 0.125  |  0.25  |  0.125   |       0.125        |         0.25        |         0.125          |\n",
            "| f-measure | 0.0909 | 0.2353 |  0.125   |       0.1334       |        0.2857       |         0.1429         |\n",
            "+-----------+--------+--------+----------+--------------------+---------------------+------------------------+ \n",
            "\n",
            "Качество выделения ключевых слов для текста  4\n",
            "+-----------+--------+--------+----------+--------------------+---------------------+------------------------+\n",
            "|           |  RAKE  | summa  | TextRank | RAKE + pos-tagging | summa + pos-tagging | TextRank + pos-tagging |\n",
            "+-----------+--------+--------+----------+--------------------+---------------------+------------------------+\n",
            "| precision | 0.0309 | 0.0303 |  0.0556  |       0.075        |        0.0769       |         0.087          |\n",
            "|   recall  | 0.3333 | 0.1111 |  0.2222  |       0.3333       |        0.1111       |         0.2222         |\n",
            "| f-measure | 0.0566 | 0.0476 |  0.0889  |       0.1224       |        0.0909       |         0.125          |\n",
            "+-----------+--------+--------+----------+--------------------+---------------------+------------------------+ \n",
            "\n",
            "Качество выделения ключевых слов для текста  5\n",
            "+-----------+--------+--------+----------+--------------------+---------------------+------------------------+\n",
            "|           |  RAKE  | summa  | TextRank | RAKE + pos-tagging | summa + pos-tagging | TextRank + pos-tagging |\n",
            "+-----------+--------+--------+----------+--------------------+---------------------+------------------------+\n",
            "| precision | 0.0107 | 0.0374 |  0.028   |       0.0253       |        0.0889       |         0.0508         |\n",
            "|   recall  | 0.3333 | 0.3333 |   0.25   |       0.3333       |        0.3333       |          0.25          |\n",
            "| f-measure | 0.0207 | 0.0673 |  0.0504  |       0.047        |        0.1404       |         0.0844         |\n",
            "+-----------+--------+--------+----------+--------------------+---------------------+------------------------+ \n",
            "\n",
            "Качество выделения ключевых слов для текста  6\n",
            "+-----------+------+--------+----------+--------------------+---------------------+------------------------+\n",
            "|           | RAKE | summa  | TextRank | RAKE + pos-tagging | summa + pos-tagging | TextRank + pos-tagging |\n",
            "+-----------+------+--------+----------+--------------------+---------------------+------------------------+\n",
            "| precision | 0.0  | 0.1667 |   0.0    |        0.0         |        0.3333       |          0.0           |\n",
            "|   recall  | 0.0  | 0.2857 |   0.0    |        0.0         |        0.2857       |          0.0           |\n",
            "| f-measure |  0   | 0.2105 |    0     |         0          |        0.3077       |           0            |\n",
            "+-----------+------+--------+----------+--------------------+---------------------+------------------------+ \n",
            "\n",
            "Качество выделения ключевых слов для текста  7\n",
            "+-----------+--------+--------+----------+--------------------+---------------------+------------------------+\n",
            "|           |  RAKE  | summa  | TextRank | RAKE + pos-tagging | summa + pos-tagging | TextRank + pos-tagging |\n",
            "+-----------+--------+--------+----------+--------------------+---------------------+------------------------+\n",
            "| precision | 0.0714 | 0.3333 |  0.3333  |       0.1111       |         0.5         |         0.3636         |\n",
            "|   recall  | 0.0833 | 0.3333 |  0.3333  |       0.0833       |        0.3333       |         0.3333         |\n",
            "| f-measure | 0.0769 | 0.3333 |  0.3333  |       0.0952       |         0.4         |         0.3478         |\n",
            "+-----------+--------+--------+----------+--------------------+---------------------+------------------------+ \n",
            "\n",
            "Качество выделения ключевых слов для текста  8\n",
            "+-----------+--------+--------+----------+--------------------+---------------------+------------------------+\n",
            "|           |  RAKE  | summa  | TextRank | RAKE + pos-tagging | summa + pos-tagging | TextRank + pos-tagging |\n",
            "+-----------+--------+--------+----------+--------------------+---------------------+------------------------+\n",
            "| precision | 0.0625 | 0.0769 |  0.0667  |        0.2         |        0.1667       |         0.125          |\n",
            "|   recall  | 0.1667 | 0.0833 |  0.0833  |       0.1667       |        0.0833       |         0.0833         |\n",
            "| f-measure | 0.0909 |  0.08  |  0.0741  |       0.1818       |        0.1111       |          0.1           |\n",
            "+-----------+--------+--------+----------+--------------------+---------------------+------------------------+ \n",
            "\n",
            "Качество выделения ключевых слов для текста  9\n",
            "+-----------+------+-------+----------+--------------------+---------------------+------------------------+\n",
            "|           | RAKE | summa | TextRank | RAKE + pos-tagging | summa + pos-tagging | TextRank + pos-tagging |\n",
            "+-----------+------+-------+----------+--------------------+---------------------+------------------------+\n",
            "| precision | 0.0  |  0.0  |   0.0    |        0.0         |         0.0         |          0.0           |\n",
            "|   recall  | 0.0  |  0.0  |   0.0    |        0.0         |         0.0         |          0.0           |\n",
            "| f-measure |  0   |   0   |    0     |         0          |          0          |           0            |\n",
            "+-----------+------+-------+----------+--------------------+---------------------+------------------------+ \n",
            "\n",
            "Качество выделения ключевых слов для текста  10\n",
            "+-----------+--------+--------+----------+--------------------+---------------------+------------------------+\n",
            "|           |  RAKE  | summa  | TextRank | RAKE + pos-tagging | summa + pos-tagging | TextRank + pos-tagging |\n",
            "+-----------+--------+--------+----------+--------------------+---------------------+------------------------+\n",
            "| precision | 0.0244 | 0.2727 |  0.2727  |       0.0345       |         0.6         |         0.375          |\n",
            "|   recall  | 0.0909 | 0.2727 |  0.2727  |       0.0909       |        0.2727       |         0.2727         |\n",
            "| f-measure | 0.0385 | 0.2727 |  0.2727  |        0.05        |        0.375        |         0.3158         |\n",
            "+-----------+--------+--------+----------+--------------------+---------------------+------------------------+ \n",
            "\n"
          ],
          "name": "stdout"
        }
      ]
    },
    {
      "cell_type": "markdown",
      "metadata": {
        "id": "MiRSOGe1UQZa"
      },
      "source": [
        "## Описание ошибок и методы решения"
      ]
    },
    {
      "cell_type": "markdown",
      "metadata": {
        "id": "a015F4Vkb00L"
      },
      "source": [
        "Выбранные метрики показывают низкое качество (с учетом частеречных шаблонок несколько выше) работы методов по автоматическому извлечению ключевых слов. Это может объясняться следующими причинами:\n",
        "\n",
        "\n",
        "\n",
        "1.   Автоматический подсчет (по полному совпадению) полноты, точности и ф-меры. Это значит, например, что для первого текста в эталонную разметку входили слова 'мессенджеры' и 'whatsapp', а в разметку TextRank словосочетание 'мессенджер whatsapp', которое не засчитывается, как правильное (при ручном определении true positive, false positive и false negative, скорее всего, качество было бы выше)\n",
        "2.   Слишком мало слов в эталонной разметке или недостаточная длина некоторых текстов в корпусе\n",
        "3.   Ошибки и неточности в pos-тэггере: разметка 'который' в качестве существительного, практически никогда не используемая в речи лемма 'деньга' и т.д. \n",
        "\n",
        "Еще описание ошибок автоматического выделения слов:\n",
        "\n",
        "- Для метода RAKE были использованы нелемматизированные и нетокенизированные тексты, так как в противном случае для некоторых текстов метод совсем не выделял ключевые слова. Далее уже полученные ключевые слова были лемматизированы, чтобы улучшить качество при сравнении слов с эталоном, но несмотря на это многие ключевые слова выглядят странно (не согласуются между собой и т.д.)\n",
        "- Метод RAKE выделяет большое количество именных сущностей, которые, хотя и могут быть важными для некоторых текстов, в данном корусе привели к неправильному выбору ключевых слов: в тексте 6 идет перечисление людей, которые высказали свои соболезнования, и метод выделяет их как главные существительные текста. Можно попробовать избавиться от этой ошибки путем удаления именованных сущностей из текста, или удалением тех именнованных сущностей, которые встречаются в тексте только один раз\n",
        "- Ожидаемо, автоматические методы не выделяют ключевые слова, которые связаны с общим содержанием текста или передают его тематику: такую задачу мог бы выполнить прагматический анализ текста. Можно использовать методы тематического моделирования, классифицировать по теме наиболее частотные слова в тексте или сами тексты, тогда в списке ключевых слов будут слова, которые не встречались в тексте, но отражают его содержание. \n",
        "- Автоматические методы часто выделяют глагольные группы в качестве ключевых слов: говорит Путин, выросло доверие и т.д. Однако в русском языке при обозначении ключевых слов носителями чаще используются имена, а для обозначения действий отглагльные существительные --> можно заменять выделенные словосочетания с глаголом словосочетниями типа сущ + сущ.\n",
        "- Для больших текстов автоматические методы выбирают много ключевых слов, но большинство из них оказываются нерелевантными или синонимичными (*крик, гнев, нож* для политической новости про выборы в США) -- как средство для решения: отбирать топ ключевых слов, а не включать в список все слова, выделенные моделью"
      ]
    },
    {
      "cell_type": "code",
      "metadata": {
        "id": "iKnKmbLskWxY"
      },
      "source": [
        ""
      ],
      "execution_count": null,
      "outputs": []
    }
  ]
}