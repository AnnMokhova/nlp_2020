{
  "nbformat": 4,
  "nbformat_minor": 0,
  "metadata": {
    "colab": {
      "name": "ner_crf.ipynb",
      "provenance": [],
      "authorship_tag": "ABX9TyMLKnE17kIXQxOYwSmq4Cgf"
    },
    "kernelspec": {
      "name": "python3",
      "display_name": "Python 3"
    },
    "widgets": {
      "application/vnd.jupyter.widget-state+json": {
        "1e63399b391447eea9f8734c4b61248a": {
          "model_module": "@jupyter-widgets/controls",
          "model_name": "HBoxModel",
          "state": {
            "_view_name": "HBoxView",
            "_dom_classes": [],
            "_model_name": "HBoxModel",
            "_view_module": "@jupyter-widgets/controls",
            "_model_module_version": "1.5.0",
            "_view_count": null,
            "_view_module_version": "1.5.0",
            "box_style": "",
            "layout": "IPY_MODEL_1c940ff603fe49cca6ec92035820f859",
            "_model_module": "@jupyter-widgets/controls",
            "children": [
              "IPY_MODEL_2a0ab01f4b18400eaf622fcd3f714d8d",
              "IPY_MODEL_e191c3ae528e485a86d75d0801aa207b"
            ]
          }
        },
        "1c940ff603fe49cca6ec92035820f859": {
          "model_module": "@jupyter-widgets/base",
          "model_name": "LayoutModel",
          "state": {
            "_view_name": "LayoutView",
            "grid_template_rows": null,
            "right": null,
            "justify_content": null,
            "_view_module": "@jupyter-widgets/base",
            "overflow": null,
            "_model_module_version": "1.2.0",
            "_view_count": null,
            "flex_flow": null,
            "width": null,
            "min_width": null,
            "border": null,
            "align_items": null,
            "bottom": null,
            "_model_module": "@jupyter-widgets/base",
            "top": null,
            "grid_column": null,
            "overflow_y": null,
            "overflow_x": null,
            "grid_auto_flow": null,
            "grid_area": null,
            "grid_template_columns": null,
            "flex": null,
            "_model_name": "LayoutModel",
            "justify_items": null,
            "grid_row": null,
            "max_height": null,
            "align_content": null,
            "visibility": null,
            "align_self": null,
            "height": null,
            "min_height": null,
            "padding": null,
            "grid_auto_rows": null,
            "grid_gap": null,
            "max_width": null,
            "order": null,
            "_view_module_version": "1.2.0",
            "grid_template_areas": null,
            "object_position": null,
            "object_fit": null,
            "grid_auto_columns": null,
            "margin": null,
            "display": null,
            "left": null
          }
        },
        "2a0ab01f4b18400eaf622fcd3f714d8d": {
          "model_module": "@jupyter-widgets/controls",
          "model_name": "FloatProgressModel",
          "state": {
            "_view_name": "ProgressView",
            "style": "IPY_MODEL_95b1562a67f24e19ba2ee23430e66666",
            "_dom_classes": [],
            "description": "100%",
            "_model_name": "FloatProgressModel",
            "bar_style": "success",
            "max": 1048575,
            "_view_module": "@jupyter-widgets/controls",
            "_model_module_version": "1.5.0",
            "value": 1048575,
            "_view_count": null,
            "_view_module_version": "1.5.0",
            "orientation": "horizontal",
            "min": 0,
            "description_tooltip": null,
            "_model_module": "@jupyter-widgets/controls",
            "layout": "IPY_MODEL_0df4106bc0bf4717a76f8c564f07071e"
          }
        },
        "e191c3ae528e485a86d75d0801aa207b": {
          "model_module": "@jupyter-widgets/controls",
          "model_name": "HTMLModel",
          "state": {
            "_view_name": "HTMLView",
            "style": "IPY_MODEL_b133b06f12624ccba43c27dbd08bbcd9",
            "_dom_classes": [],
            "description": "",
            "_model_name": "HTMLModel",
            "placeholder": "​",
            "_view_module": "@jupyter-widgets/controls",
            "_model_module_version": "1.5.0",
            "value": " 1048575/1048575 [00:02&lt;00:00, 476457.33it/s]",
            "_view_count": null,
            "_view_module_version": "1.5.0",
            "description_tooltip": null,
            "_model_module": "@jupyter-widgets/controls",
            "layout": "IPY_MODEL_d1f0ad1096424d7592b22ba5bfff6bf3"
          }
        },
        "95b1562a67f24e19ba2ee23430e66666": {
          "model_module": "@jupyter-widgets/controls",
          "model_name": "ProgressStyleModel",
          "state": {
            "_view_name": "StyleView",
            "_model_name": "ProgressStyleModel",
            "description_width": "initial",
            "_view_module": "@jupyter-widgets/base",
            "_model_module_version": "1.5.0",
            "_view_count": null,
            "_view_module_version": "1.2.0",
            "bar_color": null,
            "_model_module": "@jupyter-widgets/controls"
          }
        },
        "0df4106bc0bf4717a76f8c564f07071e": {
          "model_module": "@jupyter-widgets/base",
          "model_name": "LayoutModel",
          "state": {
            "_view_name": "LayoutView",
            "grid_template_rows": null,
            "right": null,
            "justify_content": null,
            "_view_module": "@jupyter-widgets/base",
            "overflow": null,
            "_model_module_version": "1.2.0",
            "_view_count": null,
            "flex_flow": null,
            "width": null,
            "min_width": null,
            "border": null,
            "align_items": null,
            "bottom": null,
            "_model_module": "@jupyter-widgets/base",
            "top": null,
            "grid_column": null,
            "overflow_y": null,
            "overflow_x": null,
            "grid_auto_flow": null,
            "grid_area": null,
            "grid_template_columns": null,
            "flex": null,
            "_model_name": "LayoutModel",
            "justify_items": null,
            "grid_row": null,
            "max_height": null,
            "align_content": null,
            "visibility": null,
            "align_self": null,
            "height": null,
            "min_height": null,
            "padding": null,
            "grid_auto_rows": null,
            "grid_gap": null,
            "max_width": null,
            "order": null,
            "_view_module_version": "1.2.0",
            "grid_template_areas": null,
            "object_position": null,
            "object_fit": null,
            "grid_auto_columns": null,
            "margin": null,
            "display": null,
            "left": null
          }
        },
        "b133b06f12624ccba43c27dbd08bbcd9": {
          "model_module": "@jupyter-widgets/controls",
          "model_name": "DescriptionStyleModel",
          "state": {
            "_view_name": "StyleView",
            "_model_name": "DescriptionStyleModel",
            "description_width": "",
            "_view_module": "@jupyter-widgets/base",
            "_model_module_version": "1.5.0",
            "_view_count": null,
            "_view_module_version": "1.2.0",
            "_model_module": "@jupyter-widgets/controls"
          }
        },
        "d1f0ad1096424d7592b22ba5bfff6bf3": {
          "model_module": "@jupyter-widgets/base",
          "model_name": "LayoutModel",
          "state": {
            "_view_name": "LayoutView",
            "grid_template_rows": null,
            "right": null,
            "justify_content": null,
            "_view_module": "@jupyter-widgets/base",
            "overflow": null,
            "_model_module_version": "1.2.0",
            "_view_count": null,
            "flex_flow": null,
            "width": null,
            "min_width": null,
            "border": null,
            "align_items": null,
            "bottom": null,
            "_model_module": "@jupyter-widgets/base",
            "top": null,
            "grid_column": null,
            "overflow_y": null,
            "overflow_x": null,
            "grid_auto_flow": null,
            "grid_area": null,
            "grid_template_columns": null,
            "flex": null,
            "_model_name": "LayoutModel",
            "justify_items": null,
            "grid_row": null,
            "max_height": null,
            "align_content": null,
            "visibility": null,
            "align_self": null,
            "height": null,
            "min_height": null,
            "padding": null,
            "grid_auto_rows": null,
            "grid_gap": null,
            "max_width": null,
            "order": null,
            "_view_module_version": "1.2.0",
            "grid_template_areas": null,
            "object_position": null,
            "object_fit": null,
            "grid_auto_columns": null,
            "margin": null,
            "display": null,
            "left": null
          }
        }
      }
    }
  },
  "cells": [
    {
      "cell_type": "code",
      "metadata": {
        "colab": {
          "base_uri": "https://localhost:8080/"
        },
        "id": "FlHnrq1jcvxM",
        "outputId": "ae4b5377-ed3a-4900-9e92-18c60a06579a"
      },
      "source": [
        "from google.colab import drive\r\n",
        "drive.mount('gdrive')"
      ],
      "execution_count": 1,
      "outputs": [
        {
          "output_type": "stream",
          "text": [
            "Mounted at gdrive\n"
          ],
          "name": "stdout"
        }
      ]
    },
    {
      "cell_type": "code",
      "metadata": {
        "colab": {
          "base_uri": "https://localhost:8080/"
        },
        "id": "1m_52kLcfeKJ",
        "outputId": "2eb2920d-ad25-4278-8b66-617277b21200"
      },
      "source": [
        "%cd /content/gdrive/My Drive/"
      ],
      "execution_count": 2,
      "outputs": [
        {
          "output_type": "stream",
          "text": [
            "/content/gdrive/My Drive\n"
          ],
          "name": "stdout"
        }
      ]
    },
    {
      "cell_type": "code",
      "metadata": {
        "id": "cP1nnHQ1folU"
      },
      "source": [
        "import pandas as pd\r\n",
        "import numpy as np\r\n",
        "\r\n",
        "data = pd.read_csv(\"ner_dataset.csv\", encoding=\"latin1\")"
      ],
      "execution_count": 3,
      "outputs": []
    },
    {
      "cell_type": "code",
      "metadata": {
        "id": "alUXJj8CftVk"
      },
      "source": [
        "data = data.fillna(method=\"ffill\")"
      ],
      "execution_count": 4,
      "outputs": []
    },
    {
      "cell_type": "code",
      "metadata": {
        "colab": {
          "base_uri": "https://localhost:8080/",
          "height": 202
        },
        "id": "3qOkTN6lfvaL",
        "outputId": "dbe68508-c3b9-49f5-9df7-f9790cff4055"
      },
      "source": [
        "data.head()"
      ],
      "execution_count": 5,
      "outputs": [
        {
          "output_type": "execute_result",
          "data": {
            "text/html": [
              "<div>\n",
              "<style scoped>\n",
              "    .dataframe tbody tr th:only-of-type {\n",
              "        vertical-align: middle;\n",
              "    }\n",
              "\n",
              "    .dataframe tbody tr th {\n",
              "        vertical-align: top;\n",
              "    }\n",
              "\n",
              "    .dataframe thead th {\n",
              "        text-align: right;\n",
              "    }\n",
              "</style>\n",
              "<table border=\"1\" class=\"dataframe\">\n",
              "  <thead>\n",
              "    <tr style=\"text-align: right;\">\n",
              "      <th></th>\n",
              "      <th>Sentence #</th>\n",
              "      <th>Word</th>\n",
              "      <th>POS</th>\n",
              "      <th>Tag</th>\n",
              "    </tr>\n",
              "  </thead>\n",
              "  <tbody>\n",
              "    <tr>\n",
              "      <th>0</th>\n",
              "      <td>Sentence: 1</td>\n",
              "      <td>Thousands</td>\n",
              "      <td>NNS</td>\n",
              "      <td>O</td>\n",
              "    </tr>\n",
              "    <tr>\n",
              "      <th>1</th>\n",
              "      <td>Sentence: 1</td>\n",
              "      <td>of</td>\n",
              "      <td>IN</td>\n",
              "      <td>O</td>\n",
              "    </tr>\n",
              "    <tr>\n",
              "      <th>2</th>\n",
              "      <td>Sentence: 1</td>\n",
              "      <td>demonstrators</td>\n",
              "      <td>NNS</td>\n",
              "      <td>O</td>\n",
              "    </tr>\n",
              "    <tr>\n",
              "      <th>3</th>\n",
              "      <td>Sentence: 1</td>\n",
              "      <td>have</td>\n",
              "      <td>VBP</td>\n",
              "      <td>O</td>\n",
              "    </tr>\n",
              "    <tr>\n",
              "      <th>4</th>\n",
              "      <td>Sentence: 1</td>\n",
              "      <td>marched</td>\n",
              "      <td>VBN</td>\n",
              "      <td>O</td>\n",
              "    </tr>\n",
              "  </tbody>\n",
              "</table>\n",
              "</div>"
            ],
            "text/plain": [
              "    Sentence #           Word  POS Tag\n",
              "0  Sentence: 1      Thousands  NNS   O\n",
              "1  Sentence: 1             of   IN   O\n",
              "2  Sentence: 1  demonstrators  NNS   O\n",
              "3  Sentence: 1           have  VBP   O\n",
              "4  Sentence: 1        marched  VBN   O"
            ]
          },
          "metadata": {
            "tags": []
          },
          "execution_count": 5
        }
      ]
    },
    {
      "cell_type": "code",
      "metadata": {
        "id": "aRKeGoj5fw9P"
      },
      "source": [
        "words = list(set(data[\"Word\"].values))"
      ],
      "execution_count": 6,
      "outputs": []
    },
    {
      "cell_type": "code",
      "metadata": {
        "colab": {
          "base_uri": "https://localhost:8080/"
        },
        "id": "-ZIepPDTf2v9",
        "outputId": "f25ca410-1ef6-4024-a541-d66cbf706446"
      },
      "source": [
        "n_words = len(words); n_words"
      ],
      "execution_count": 7,
      "outputs": [
        {
          "output_type": "execute_result",
          "data": {
            "text/plain": [
              "35178"
            ]
          },
          "metadata": {
            "tags": []
          },
          "execution_count": 7
        }
      ]
    },
    {
      "cell_type": "code",
      "metadata": {
        "id": "lWLiZ1tDf4hQ"
      },
      "source": [
        "class SentenceGetter(object):\r\n",
        "    \r\n",
        "    def __init__(self, data):\r\n",
        "        self.n_sent = 1\r\n",
        "        self.data = data\r\n",
        "        self.empty = False\r\n",
        "        agg_func = lambda s: [(w, p, t) for w, p, t in zip(s[\"Word\"].values.tolist(),\r\n",
        "                                                           s[\"POS\"].values.tolist(),\r\n",
        "                                                           s[\"Tag\"].values.tolist())]\r\n",
        "        self.grouped = self.data.groupby(\"Sentence #\").apply(agg_func)\r\n",
        "        self.sentences = [s for s in self.grouped]\r\n",
        "    \r\n",
        "    def get_next(self):\r\n",
        "        try:\r\n",
        "            s = self.grouped[\"Sentence: {}\".format(self.n_sent)]\r\n",
        "            self.n_sent += 1\r\n",
        "            return s\r\n",
        "        except:\r\n",
        "            return None"
      ],
      "execution_count": 8,
      "outputs": []
    },
    {
      "cell_type": "code",
      "metadata": {
        "colab": {
          "base_uri": "https://localhost:8080/"
        },
        "id": "tTb84dth67wv",
        "outputId": "149f82b1-de28-4428-cf57-0f0399fa4a21"
      },
      "source": [
        "set(data[\"Tag\"].values.tolist())"
      ],
      "execution_count": 9,
      "outputs": [
        {
          "output_type": "execute_result",
          "data": {
            "text/plain": [
              "{'B-art',\n",
              " 'B-eve',\n",
              " 'B-geo',\n",
              " 'B-gpe',\n",
              " 'B-nat',\n",
              " 'B-org',\n",
              " 'B-per',\n",
              " 'B-tim',\n",
              " 'I-art',\n",
              " 'I-eve',\n",
              " 'I-geo',\n",
              " 'I-gpe',\n",
              " 'I-nat',\n",
              " 'I-org',\n",
              " 'I-per',\n",
              " 'I-tim',\n",
              " 'O'}"
            ]
          },
          "metadata": {
            "tags": []
          },
          "execution_count": 9
        }
      ]
    },
    {
      "cell_type": "code",
      "metadata": {
        "id": "VmGFONGGiN9D"
      },
      "source": [
        "def tagging_stanza(tag):\r\n",
        "    if tag == 'B-geo' or tag == 'I-geo':\r\n",
        "        new_tag = 'GPE'\r\n",
        "    elif tag == 'B-org' or tag == 'I-org':\r\n",
        "        new_tag = 'ORG'\r\n",
        "    elif tag == 'O':\r\n",
        "        new_tag = 'O'\r\n",
        "    elif tag == 'B-per' or tag == 'I-per':\r\n",
        "        new_tag = 'PERSON'\r\n",
        "    elif tag == 'B-tim' or tag == 'I-tim':\r\n",
        "        new_tag = 'DATE'\r\n",
        "    elif tag == 'B-eve' or tag == 'I-eve':\r\n",
        "        new_tag = 'EVENT'\r\n",
        "    elif tag == 'B-gpe' or tag == 'I-gpe':\r\n",
        "        new_tag = 'GPE'\r\n",
        "    elif tag == 'B-art' or tag == 'I-art':\r\n",
        "        new_tag = 'WORK_OF_ART'\r\n",
        "    else:\r\n",
        "        new_tag = 'MISC'\r\n",
        "        \r\n",
        "    return new_tag "
      ],
      "execution_count": 11,
      "outputs": []
    },
    {
      "cell_type": "code",
      "metadata": {
        "colab": {
          "base_uri": "https://localhost:8080/",
          "height": 67,
          "referenced_widgets": [
            "1e63399b391447eea9f8734c4b61248a",
            "1c940ff603fe49cca6ec92035820f859",
            "2a0ab01f4b18400eaf622fcd3f714d8d",
            "e191c3ae528e485a86d75d0801aa207b",
            "95b1562a67f24e19ba2ee23430e66666",
            "0df4106bc0bf4717a76f8c564f07071e",
            "b133b06f12624ccba43c27dbd08bbcd9",
            "d1f0ad1096424d7592b22ba5bfff6bf3"
          ]
        },
        "id": "3DAGvIUCiVzh",
        "outputId": "90c0b3bd-65b5-4347-ee01-6e92a26ffbd6"
      },
      "source": [
        "from tqdm._tqdm_notebook import tqdm_notebook\r\n",
        "tqdm_notebook.pandas('PROGRESS>>>')\r\n",
        "data['Tag_stanza'] = data['Tag'].progress_apply(tagging_stanza)"
      ],
      "execution_count": 13,
      "outputs": [
        {
          "output_type": "display_data",
          "data": {
            "application/vnd.jupyter.widget-view+json": {
              "model_id": "1e63399b391447eea9f8734c4b61248a",
              "version_minor": 0,
              "version_major": 2
            },
            "text/plain": [
              "HBox(children=(FloatProgress(value=0.0, max=1048575.0), HTML(value='')))"
            ]
          },
          "metadata": {
            "tags": []
          }
        },
        {
          "output_type": "stream",
          "text": [
            "\n"
          ],
          "name": "stdout"
        }
      ]
    },
    {
      "cell_type": "code",
      "metadata": {
        "colab": {
          "base_uri": "https://localhost:8080/",
          "height": 509
        },
        "id": "gUXnfL0NmntK",
        "outputId": "4ae29030-941b-44c8-b67d-779b105cb91d"
      },
      "source": [
        "data.head(15)"
      ],
      "execution_count": 14,
      "outputs": [
        {
          "output_type": "execute_result",
          "data": {
            "text/html": [
              "<div>\n",
              "<style scoped>\n",
              "    .dataframe tbody tr th:only-of-type {\n",
              "        vertical-align: middle;\n",
              "    }\n",
              "\n",
              "    .dataframe tbody tr th {\n",
              "        vertical-align: top;\n",
              "    }\n",
              "\n",
              "    .dataframe thead th {\n",
              "        text-align: right;\n",
              "    }\n",
              "</style>\n",
              "<table border=\"1\" class=\"dataframe\">\n",
              "  <thead>\n",
              "    <tr style=\"text-align: right;\">\n",
              "      <th></th>\n",
              "      <th>Sentence #</th>\n",
              "      <th>Word</th>\n",
              "      <th>POS</th>\n",
              "      <th>Tag</th>\n",
              "      <th>Tag_flair</th>\n",
              "      <th>Tag_stanza</th>\n",
              "    </tr>\n",
              "  </thead>\n",
              "  <tbody>\n",
              "    <tr>\n",
              "      <th>0</th>\n",
              "      <td>Sentence: 1</td>\n",
              "      <td>Thousands</td>\n",
              "      <td>NNS</td>\n",
              "      <td>O</td>\n",
              "      <td>O</td>\n",
              "      <td>O</td>\n",
              "    </tr>\n",
              "    <tr>\n",
              "      <th>1</th>\n",
              "      <td>Sentence: 1</td>\n",
              "      <td>of</td>\n",
              "      <td>IN</td>\n",
              "      <td>O</td>\n",
              "      <td>O</td>\n",
              "      <td>O</td>\n",
              "    </tr>\n",
              "    <tr>\n",
              "      <th>2</th>\n",
              "      <td>Sentence: 1</td>\n",
              "      <td>demonstrators</td>\n",
              "      <td>NNS</td>\n",
              "      <td>O</td>\n",
              "      <td>O</td>\n",
              "      <td>O</td>\n",
              "    </tr>\n",
              "    <tr>\n",
              "      <th>3</th>\n",
              "      <td>Sentence: 1</td>\n",
              "      <td>have</td>\n",
              "      <td>VBP</td>\n",
              "      <td>O</td>\n",
              "      <td>O</td>\n",
              "      <td>O</td>\n",
              "    </tr>\n",
              "    <tr>\n",
              "      <th>4</th>\n",
              "      <td>Sentence: 1</td>\n",
              "      <td>marched</td>\n",
              "      <td>VBN</td>\n",
              "      <td>O</td>\n",
              "      <td>O</td>\n",
              "      <td>O</td>\n",
              "    </tr>\n",
              "    <tr>\n",
              "      <th>5</th>\n",
              "      <td>Sentence: 1</td>\n",
              "      <td>through</td>\n",
              "      <td>IN</td>\n",
              "      <td>O</td>\n",
              "      <td>O</td>\n",
              "      <td>O</td>\n",
              "    </tr>\n",
              "    <tr>\n",
              "      <th>6</th>\n",
              "      <td>Sentence: 1</td>\n",
              "      <td>London</td>\n",
              "      <td>NNP</td>\n",
              "      <td>B-geo</td>\n",
              "      <td>LOC</td>\n",
              "      <td>GPE</td>\n",
              "    </tr>\n",
              "    <tr>\n",
              "      <th>7</th>\n",
              "      <td>Sentence: 1</td>\n",
              "      <td>to</td>\n",
              "      <td>TO</td>\n",
              "      <td>O</td>\n",
              "      <td>O</td>\n",
              "      <td>O</td>\n",
              "    </tr>\n",
              "    <tr>\n",
              "      <th>8</th>\n",
              "      <td>Sentence: 1</td>\n",
              "      <td>protest</td>\n",
              "      <td>VB</td>\n",
              "      <td>O</td>\n",
              "      <td>O</td>\n",
              "      <td>O</td>\n",
              "    </tr>\n",
              "    <tr>\n",
              "      <th>9</th>\n",
              "      <td>Sentence: 1</td>\n",
              "      <td>the</td>\n",
              "      <td>DT</td>\n",
              "      <td>O</td>\n",
              "      <td>O</td>\n",
              "      <td>O</td>\n",
              "    </tr>\n",
              "    <tr>\n",
              "      <th>10</th>\n",
              "      <td>Sentence: 1</td>\n",
              "      <td>war</td>\n",
              "      <td>NN</td>\n",
              "      <td>O</td>\n",
              "      <td>O</td>\n",
              "      <td>O</td>\n",
              "    </tr>\n",
              "    <tr>\n",
              "      <th>11</th>\n",
              "      <td>Sentence: 1</td>\n",
              "      <td>in</td>\n",
              "      <td>IN</td>\n",
              "      <td>O</td>\n",
              "      <td>O</td>\n",
              "      <td>O</td>\n",
              "    </tr>\n",
              "    <tr>\n",
              "      <th>12</th>\n",
              "      <td>Sentence: 1</td>\n",
              "      <td>Iraq</td>\n",
              "      <td>NNP</td>\n",
              "      <td>B-geo</td>\n",
              "      <td>LOC</td>\n",
              "      <td>GPE</td>\n",
              "    </tr>\n",
              "    <tr>\n",
              "      <th>13</th>\n",
              "      <td>Sentence: 1</td>\n",
              "      <td>and</td>\n",
              "      <td>CC</td>\n",
              "      <td>O</td>\n",
              "      <td>O</td>\n",
              "      <td>O</td>\n",
              "    </tr>\n",
              "    <tr>\n",
              "      <th>14</th>\n",
              "      <td>Sentence: 1</td>\n",
              "      <td>demand</td>\n",
              "      <td>VB</td>\n",
              "      <td>O</td>\n",
              "      <td>O</td>\n",
              "      <td>O</td>\n",
              "    </tr>\n",
              "  </tbody>\n",
              "</table>\n",
              "</div>"
            ],
            "text/plain": [
              "     Sentence #           Word  POS    Tag Tag_flair Tag_stanza\n",
              "0   Sentence: 1      Thousands  NNS      O         O          O\n",
              "1   Sentence: 1             of   IN      O         O          O\n",
              "2   Sentence: 1  demonstrators  NNS      O         O          O\n",
              "3   Sentence: 1           have  VBP      O         O          O\n",
              "4   Sentence: 1        marched  VBN      O         O          O\n",
              "5   Sentence: 1        through   IN      O         O          O\n",
              "6   Sentence: 1         London  NNP  B-geo       LOC        GPE\n",
              "7   Sentence: 1             to   TO      O         O          O\n",
              "8   Sentence: 1        protest   VB      O         O          O\n",
              "9   Sentence: 1            the   DT      O         O          O\n",
              "10  Sentence: 1            war   NN      O         O          O\n",
              "11  Sentence: 1             in   IN      O         O          O\n",
              "12  Sentence: 1           Iraq  NNP  B-geo       LOC        GPE\n",
              "13  Sentence: 1            and   CC      O         O          O\n",
              "14  Sentence: 1         demand   VB      O         O          O"
            ]
          },
          "metadata": {
            "tags": []
          },
          "execution_count": 14
        }
      ]
    },
    {
      "cell_type": "code",
      "metadata": {
        "id": "0i7Y8ZYyf9q3"
      },
      "source": [
        "getter = SentenceGetter(data)"
      ],
      "execution_count": 15,
      "outputs": []
    },
    {
      "cell_type": "code",
      "metadata": {
        "id": "K_Dj1GJMf_Qf"
      },
      "source": [
        "sent = getter.get_next()"
      ],
      "execution_count": 16,
      "outputs": []
    },
    {
      "cell_type": "code",
      "metadata": {
        "colab": {
          "base_uri": "https://localhost:8080/"
        },
        "id": "c3KjqXQggCuC",
        "outputId": "198b24ab-9fef-44a7-da15-651b5bea4694"
      },
      "source": [
        "print(sent)"
      ],
      "execution_count": 17,
      "outputs": [
        {
          "output_type": "stream",
          "text": [
            "[('Thousands', 'NNS', 'O'), ('of', 'IN', 'O'), ('demonstrators', 'NNS', 'O'), ('have', 'VBP', 'O'), ('marched', 'VBN', 'O'), ('through', 'IN', 'O'), ('London', 'NNP', 'B-geo'), ('to', 'TO', 'O'), ('protest', 'VB', 'O'), ('the', 'DT', 'O'), ('war', 'NN', 'O'), ('in', 'IN', 'O'), ('Iraq', 'NNP', 'B-geo'), ('and', 'CC', 'O'), ('demand', 'VB', 'O'), ('the', 'DT', 'O'), ('withdrawal', 'NN', 'O'), ('of', 'IN', 'O'), ('British', 'JJ', 'B-gpe'), ('troops', 'NNS', 'O'), ('from', 'IN', 'O'), ('that', 'DT', 'O'), ('country', 'NN', 'O'), ('.', '.', 'O')]\n"
          ],
          "name": "stdout"
        }
      ]
    },
    {
      "cell_type": "code",
      "metadata": {
        "id": "KF3o5Cm1gEm4"
      },
      "source": [
        "sentences = getter.sentences"
      ],
      "execution_count": 18,
      "outputs": []
    },
    {
      "cell_type": "code",
      "metadata": {
        "id": "7oWMDg4Pq3K5"
      },
      "source": [
        "texts = []\r\n",
        "for sent in sentences:\r\n",
        "    text = ' '.join([str(s[0]) for s in sent])\r\n",
        "    texts.append(text)"
      ],
      "execution_count": 19,
      "outputs": []
    },
    {
      "cell_type": "code",
      "metadata": {
        "colab": {
          "base_uri": "https://localhost:8080/"
        },
        "id": "3qx1EFKRwaxz",
        "outputId": "89372336-53e7-4ed5-9897-bfaa7ce6ab79"
      },
      "source": [
        "texts[:5]"
      ],
      "execution_count": 20,
      "outputs": [
        {
          "output_type": "execute_result",
          "data": {
            "text/plain": [
              "['Thousands of demonstrators have marched through London to protest the war in Iraq and demand the withdrawal of British troops from that country .',\n",
              " 'Iranian officials say they expect to get access to sealed sensitive parts of the plant Wednesday , after an IAEA surveillance system begins functioning .',\n",
              " 'Helicopter gunships Saturday pounded militant hideouts in the Orakzai tribal region , where many Taliban militants are believed to have fled to avoid an earlier military offensive in nearby South Waziristan .',\n",
              " 'They left after a tense hour-long standoff with riot police .',\n",
              " 'U.N. relief coordinator Jan Egeland said Sunday , U.S. , Indonesian and Australian military helicopters are ferrying out food and supplies to remote areas of western Aceh province that ground crews can not reach .']"
            ]
          },
          "metadata": {
            "tags": []
          },
          "execution_count": 20
        }
      ]
    },
    {
      "cell_type": "code",
      "metadata": {
        "colab": {
          "base_uri": "https://localhost:8080/"
        },
        "id": "_yqOAqeTsRtl",
        "outputId": "4751482d-ab3e-4953-afe4-5a2c1c0aa1a0"
      },
      "source": [
        "len(texts)"
      ],
      "execution_count": 21,
      "outputs": [
        {
          "output_type": "execute_result",
          "data": {
            "text/plain": [
              "47959"
            ]
          },
          "metadata": {
            "tags": []
          },
          "execution_count": 21
        }
      ]
    },
    {
      "cell_type": "markdown",
      "metadata": {
        "id": "-TAashTwPLOq"
      },
      "source": [
        "## CRF классификатор"
      ]
    },
    {
      "cell_type": "code",
      "metadata": {
        "id": "83HhulPvgH0N"
      },
      "source": [
        "def word2features(sent, i):\r\n",
        "    word = sent[i][0]\r\n",
        "    postag = sent[i][1]\r\n",
        "\r\n",
        "    features = {\r\n",
        "        'bias': 1.0,\r\n",
        "        'word.lower()': word.lower(),\r\n",
        "        'word[-3:]': word[-3:],\r\n",
        "        'word[-2:]': word[-2:],\r\n",
        "        'word.isupper()': word.isupper(),\r\n",
        "        'word.istitle()': word.istitle(),\r\n",
        "        'word.isdigit()': word.isdigit(),\r\n",
        "        'postag': postag,\r\n",
        "        'postag[:2]': postag[:2],\r\n",
        "    }\r\n",
        "    if i > 0:\r\n",
        "        word1 = sent[i-1][0]\r\n",
        "        postag1 = sent[i-1][1]\r\n",
        "        features.update({\r\n",
        "            '-1:word.lower()': word1.lower(),\r\n",
        "            '-1:word.istitle()': word1.istitle(),\r\n",
        "            '-1:word.isupper()': word1.isupper(),\r\n",
        "            '-1:postag': postag1,\r\n",
        "            '-1:postag[:2]': postag1[:2],\r\n",
        "        })\r\n",
        "    else:\r\n",
        "        features['BOS'] = True\r\n",
        "\r\n",
        "    if i < len(sent)-1:\r\n",
        "        word1 = sent[i+1][0]\r\n",
        "        postag1 = sent[i+1][1]\r\n",
        "        features.update({\r\n",
        "            '+1:word.lower()': word1.lower(),\r\n",
        "            '+1:word.istitle()': word1.istitle(),\r\n",
        "            '+1:word.isupper()': word1.isupper(),\r\n",
        "            '+1:postag': postag1,\r\n",
        "            '+1:postag[:2]': postag1[:2],\r\n",
        "        })\r\n",
        "    else:\r\n",
        "        features['EOS'] = True\r\n",
        "\r\n",
        "    return features\r\n",
        "\r\n",
        "\r\n",
        "def sent2features(sent):\r\n",
        "    return [word2features(sent, i) for i in range(len(sent))]\r\n",
        "\r\n",
        "def sent2labels(sent):\r\n",
        "    return [label for token, postag, label in sent]\r\n",
        "\r\n",
        "def sent2tokens(sent):\r\n",
        "    return [token for token, postag, label in sent]"
      ],
      "execution_count": 22,
      "outputs": []
    },
    {
      "cell_type": "code",
      "metadata": {
        "id": "-JgMEE89gMNb"
      },
      "source": [
        "X = [sent2features(s) for s in sentences]\r\n",
        "y = [sent2labels(s) for s in sentences]"
      ],
      "execution_count": 23,
      "outputs": []
    },
    {
      "cell_type": "code",
      "metadata": {
        "colab": {
          "base_uri": "https://localhost:8080/"
        },
        "id": "QQ_2FTN3909-",
        "outputId": "e3bd726c-208c-41d6-ab20-aa1c7acdfc09"
      },
      "source": [
        "len(X_train), len(y_train)"
      ],
      "execution_count": 28,
      "outputs": [
        {
          "output_type": "execute_result",
          "data": {
            "text/plain": [
              "(42959, 42959)"
            ]
          },
          "metadata": {
            "tags": []
          },
          "execution_count": 28
        }
      ]
    },
    {
      "cell_type": "code",
      "metadata": {
        "id": "-y1K5xt99y6x"
      },
      "source": [
        "X_train = X[5000:]\r\n",
        "X_test = X[:5000]\r\n",
        "y_train = y[5000:]\r\n",
        "y_test = y[:5000]"
      ],
      "execution_count": 27,
      "outputs": []
    },
    {
      "cell_type": "code",
      "metadata": {
        "colab": {
          "base_uri": "https://localhost:8080/"
        },
        "id": "p9yiRw49gTcM",
        "outputId": "2c44c829-6c32-4745-bf6f-d2f8eeb8ea7d"
      },
      "source": [
        "pip install sklearn_crfsuite"
      ],
      "execution_count": 29,
      "outputs": [
        {
          "output_type": "stream",
          "text": [
            "Collecting sklearn_crfsuite\n",
            "  Downloading https://files.pythonhosted.org/packages/25/74/5b7befa513482e6dee1f3dd68171a6c9dfc14c0eaa00f885ffeba54fe9b0/sklearn_crfsuite-0.3.6-py2.py3-none-any.whl\n",
            "Requirement already satisfied: tqdm>=2.0 in /usr/local/lib/python3.6/dist-packages (from sklearn_crfsuite) (4.41.1)\n",
            "Requirement already satisfied: six in /usr/local/lib/python3.6/dist-packages (from sklearn_crfsuite) (1.15.0)\n",
            "Requirement already satisfied: tabulate in /usr/local/lib/python3.6/dist-packages (from sklearn_crfsuite) (0.8.7)\n",
            "Collecting python-crfsuite>=0.8.3\n",
            "\u001b[?25l  Downloading https://files.pythonhosted.org/packages/95/99/869dde6dbf3e0d07a013c8eebfb0a3d30776334e0097f8432b631a9a3a19/python_crfsuite-0.9.7-cp36-cp36m-manylinux1_x86_64.whl (743kB)\n",
            "\u001b[K     |████████████████████████████████| 747kB 4.4MB/s \n",
            "\u001b[?25hInstalling collected packages: python-crfsuite, sklearn-crfsuite\n",
            "Successfully installed python-crfsuite-0.9.7 sklearn-crfsuite-0.3.6\n"
          ],
          "name": "stdout"
        }
      ]
    },
    {
      "cell_type": "code",
      "metadata": {
        "id": "ToTXIYklgN8x",
        "colab": {
          "base_uri": "https://localhost:8080/"
        },
        "outputId": "ac08ca8b-63a6-4813-fdb2-4e369efdc3fb"
      },
      "source": [
        "from sklearn_crfsuite import CRF\r\n",
        "\r\n",
        "crf = CRF(algorithm='lbfgs',\r\n",
        "          c1=0.1,\r\n",
        "          c2=0.1,\r\n",
        "          max_iterations=100,\r\n",
        "          all_possible_transitions=False)\r\n",
        "crf.fit(X_train, y_train)"
      ],
      "execution_count": 30,
      "outputs": [
        {
          "output_type": "stream",
          "text": [
            "/usr/local/lib/python3.6/dist-packages/sklearn/base.py:197: FutureWarning: From version 0.24, get_params will raise an AttributeError if a parameter cannot be retrieved as an instance attribute. Previously it would return None.\n",
            "  FutureWarning)\n"
          ],
          "name": "stderr"
        },
        {
          "output_type": "execute_result",
          "data": {
            "text/plain": [
              "CRF(algorithm='lbfgs', all_possible_states=None, all_possible_transitions=False,\n",
              "    averaging=None, c=None, c1=0.1, c2=0.1, calibration_candidates=None,\n",
              "    calibration_eta=None, calibration_max_trials=None, calibration_rate=None,\n",
              "    calibration_samples=None, delta=None, epsilon=None, error_sensitive=None,\n",
              "    gamma=None, keep_tempfiles=None, linesearch=None, max_iterations=100,\n",
              "    max_linesearch=None, min_freq=None, model_filename=None, num_memories=None,\n",
              "    pa_type=None, period=None, trainer_cls=None, variance=None, verbose=False)"
            ]
          },
          "metadata": {
            "tags": []
          },
          "execution_count": 30
        }
      ]
    },
    {
      "cell_type": "code",
      "metadata": {
        "id": "wgrs5hajgQ9L"
      },
      "source": [
        "from sklearn.model_selection import cross_val_predict\r\n",
        "from sklearn_crfsuite.metrics import flat_classification_report"
      ],
      "execution_count": 31,
      "outputs": []
    },
    {
      "cell_type": "code",
      "metadata": {
        "id": "9zoU4PFPALwY"
      },
      "source": [
        "from sklearn_crfsuite import metrics"
      ],
      "execution_count": 32,
      "outputs": []
    },
    {
      "cell_type": "code",
      "metadata": {
        "colab": {
          "base_uri": "https://localhost:8080/"
        },
        "id": "uH0hXxJEAS6C",
        "outputId": "1a559dd8-4447-44d7-b1a1-948a3ba758dd"
      },
      "source": [
        "labels = list(crf.classes_)\r\n",
        "labels.remove('O')\r\n",
        "labels"
      ],
      "execution_count": 33,
      "outputs": [
        {
          "output_type": "execute_result",
          "data": {
            "text/plain": [
              "['B-geo',\n",
              " 'I-geo',\n",
              " 'B-org',\n",
              " 'I-org',\n",
              " 'B-eve',\n",
              " 'I-eve',\n",
              " 'B-gpe',\n",
              " 'B-tim',\n",
              " 'B-per',\n",
              " 'I-per',\n",
              " 'I-tim',\n",
              " 'B-art',\n",
              " 'I-art',\n",
              " 'I-gpe',\n",
              " 'B-nat',\n",
              " 'I-nat']"
            ]
          },
          "metadata": {
            "tags": []
          },
          "execution_count": 33
        }
      ]
    },
    {
      "cell_type": "code",
      "metadata": {
        "colab": {
          "base_uri": "https://localhost:8080/"
        },
        "id": "Iitdke1_gZUL",
        "outputId": "9b46750d-f39c-446c-8936-3ffa78cf4ba5"
      },
      "source": [
        "y_pred = crf.predict(X_test)\r\n",
        "metrics.flat_f1_score(y_test, y_pred,\r\n",
        "                      average='weighted', labels=labels)"
      ],
      "execution_count": 34,
      "outputs": [
        {
          "output_type": "execute_result",
          "data": {
            "text/plain": [
              "0.8384334414259855"
            ]
          },
          "metadata": {
            "tags": []
          },
          "execution_count": 34
        }
      ]
    },
    {
      "cell_type": "code",
      "metadata": {
        "colab": {
          "base_uri": "https://localhost:8080/"
        },
        "id": "ung5UnGZguSu",
        "outputId": "c2758790-cf81-4ad9-e411-2f8cb0969315"
      },
      "source": [
        "sorted_labels = sorted(\r\n",
        "    labels,\r\n",
        "    key=lambda name: (name[1:], name[0])\r\n",
        ")\r\n",
        "print(metrics.flat_classification_report(\r\n",
        "    y_test, y_pred, labels=sorted_labels, digits=3\r\n",
        "))"
      ],
      "execution_count": 35,
      "outputs": [
        {
          "output_type": "stream",
          "text": [
            "              precision    recall  f1-score   support\n",
            "\n",
            "       B-art      0.200     0.022     0.040        45\n",
            "       I-art      0.000     0.000     0.000        35\n",
            "       B-eve      0.435     0.263     0.328        38\n",
            "       I-eve      0.278     0.135     0.182        37\n",
            "       B-geo      0.834     0.896     0.864      3746\n",
            "       I-geo      0.775     0.797     0.786       710\n",
            "       B-gpe      0.968     0.943     0.956      1653\n",
            "       I-gpe      1.000     0.250     0.400        16\n",
            "       B-nat      0.750     0.391     0.514        23\n",
            "       I-nat      1.000     0.200     0.333        10\n",
            "       B-org      0.791     0.707     0.746      2206\n",
            "       I-org      0.800     0.791     0.796      1719\n",
            "       B-per      0.838     0.815     0.827      1732\n",
            "       I-per      0.853     0.896     0.874      1758\n",
            "       B-tim      0.921     0.887     0.903      2100\n",
            "       I-tim      0.820     0.783     0.801       650\n",
            "\n",
            "   micro avg      0.847     0.837     0.842     16478\n",
            "   macro avg      0.704     0.549     0.584     16478\n",
            "weighted avg      0.843     0.837     0.838     16478\n",
            "\n"
          ],
          "name": "stdout"
        }
      ]
    },
    {
      "cell_type": "code",
      "metadata": {
        "id": "_Ocsw8TZKgkY"
      },
      "source": [
        "hand_test = y_pred[:100]\r\n",
        "summ = 0\r\n",
        "for h in hand_test:\r\n",
        "    summ += len(h)"
      ],
      "execution_count": 39,
      "outputs": []
    },
    {
      "cell_type": "code",
      "metadata": {
        "id": "S-vrr6XRLXWl"
      },
      "source": [
        "new_df = data[:summ]"
      ],
      "execution_count": 41,
      "outputs": []
    },
    {
      "cell_type": "code",
      "metadata": {
        "id": "Tczrn_HqLez0"
      },
      "source": [
        "test = []\r\n",
        "for h in hand_test:\r\n",
        "    test += h"
      ],
      "execution_count": 44,
      "outputs": []
    },
    {
      "cell_type": "code",
      "metadata": {
        "colab": {
          "base_uri": "https://localhost:8080/"
        },
        "id": "ApkdfvdpMEBX",
        "outputId": "7ea1ae7b-4f0b-4c96-adf8-f252611deaf8"
      },
      "source": [
        "len(test)"
      ],
      "execution_count": 45,
      "outputs": [
        {
          "output_type": "execute_result",
          "data": {
            "text/plain": [
              "2264"
            ]
          },
          "metadata": {
            "tags": []
          },
          "execution_count": 45
        }
      ]
    },
    {
      "cell_type": "code",
      "metadata": {
        "colab": {
          "base_uri": "https://localhost:8080/"
        },
        "id": "1Ma8v_PIMHYu",
        "outputId": "a6a0cea1-382f-40df-9825-34807c9c60fb"
      },
      "source": [
        "new_df['crf_results'] = test"
      ],
      "execution_count": 46,
      "outputs": [
        {
          "output_type": "stream",
          "text": [
            "/usr/local/lib/python3.6/dist-packages/ipykernel_launcher.py:1: SettingWithCopyWarning: \n",
            "A value is trying to be set on a copy of a slice from a DataFrame.\n",
            "Try using .loc[row_indexer,col_indexer] = value instead\n",
            "\n",
            "See the caveats in the documentation: https://pandas.pydata.org/pandas-docs/stable/user_guide/indexing.html#returning-a-view-versus-a-copy\n",
            "  \"\"\"Entry point for launching an IPython kernel.\n"
          ],
          "name": "stderr"
        }
      ]
    },
    {
      "cell_type": "code",
      "metadata": {
        "colab": {
          "base_uri": "https://localhost:8080/",
          "height": 415
        },
        "id": "vqGkwlkaMQsM",
        "outputId": "4a9b666e-4710-4919-e583-a537c00f01a0"
      },
      "source": [
        ""
      ],
      "execution_count": 48,
      "outputs": [
        {
          "output_type": "execute_result",
          "data": {
            "text/html": [
              "<div>\n",
              "<style scoped>\n",
              "    .dataframe tbody tr th:only-of-type {\n",
              "        vertical-align: middle;\n",
              "    }\n",
              "\n",
              "    .dataframe tbody tr th {\n",
              "        vertical-align: top;\n",
              "    }\n",
              "\n",
              "    .dataframe thead th {\n",
              "        text-align: right;\n",
              "    }\n",
              "</style>\n",
              "<table border=\"1\" class=\"dataframe\">\n",
              "  <thead>\n",
              "    <tr style=\"text-align: right;\">\n",
              "      <th></th>\n",
              "      <th>Sentence #</th>\n",
              "      <th>Word</th>\n",
              "      <th>POS</th>\n",
              "      <th>Tag</th>\n",
              "      <th>Tag_flair</th>\n",
              "      <th>Tag_stanza</th>\n",
              "      <th>crf_results</th>\n",
              "    </tr>\n",
              "  </thead>\n",
              "  <tbody>\n",
              "    <tr>\n",
              "      <th>0</th>\n",
              "      <td>Sentence: 1</td>\n",
              "      <td>Thousands</td>\n",
              "      <td>NNS</td>\n",
              "      <td>O</td>\n",
              "      <td>O</td>\n",
              "      <td>O</td>\n",
              "      <td>O</td>\n",
              "    </tr>\n",
              "    <tr>\n",
              "      <th>1</th>\n",
              "      <td>Sentence: 1</td>\n",
              "      <td>of</td>\n",
              "      <td>IN</td>\n",
              "      <td>O</td>\n",
              "      <td>O</td>\n",
              "      <td>O</td>\n",
              "      <td>O</td>\n",
              "    </tr>\n",
              "    <tr>\n",
              "      <th>2</th>\n",
              "      <td>Sentence: 1</td>\n",
              "      <td>demonstrators</td>\n",
              "      <td>NNS</td>\n",
              "      <td>O</td>\n",
              "      <td>O</td>\n",
              "      <td>O</td>\n",
              "      <td>O</td>\n",
              "    </tr>\n",
              "    <tr>\n",
              "      <th>3</th>\n",
              "      <td>Sentence: 1</td>\n",
              "      <td>have</td>\n",
              "      <td>VBP</td>\n",
              "      <td>O</td>\n",
              "      <td>O</td>\n",
              "      <td>O</td>\n",
              "      <td>O</td>\n",
              "    </tr>\n",
              "    <tr>\n",
              "      <th>4</th>\n",
              "      <td>Sentence: 1</td>\n",
              "      <td>marched</td>\n",
              "      <td>VBN</td>\n",
              "      <td>O</td>\n",
              "      <td>O</td>\n",
              "      <td>O</td>\n",
              "      <td>O</td>\n",
              "    </tr>\n",
              "    <tr>\n",
              "      <th>...</th>\n",
              "      <td>...</td>\n",
              "      <td>...</td>\n",
              "      <td>...</td>\n",
              "      <td>...</td>\n",
              "      <td>...</td>\n",
              "      <td>...</td>\n",
              "      <td>...</td>\n",
              "    </tr>\n",
              "    <tr>\n",
              "      <th>2259</th>\n",
              "      <td>Sentence: 99</td>\n",
              "      <td>a</td>\n",
              "      <td>DT</td>\n",
              "      <td>O</td>\n",
              "      <td>O</td>\n",
              "      <td>O</td>\n",
              "      <td>O</td>\n",
              "    </tr>\n",
              "    <tr>\n",
              "      <th>2260</th>\n",
              "      <td>Sentence: 99</td>\n",
              "      <td>third</td>\n",
              "      <td>JJ</td>\n",
              "      <td>O</td>\n",
              "      <td>O</td>\n",
              "      <td>O</td>\n",
              "      <td>O</td>\n",
              "    </tr>\n",
              "    <tr>\n",
              "      <th>2261</th>\n",
              "      <td>Sentence: 99</td>\n",
              "      <td>day</td>\n",
              "      <td>NN</td>\n",
              "      <td>O</td>\n",
              "      <td>O</td>\n",
              "      <td>O</td>\n",
              "      <td>O</td>\n",
              "    </tr>\n",
              "    <tr>\n",
              "      <th>2262</th>\n",
              "      <td>Sentence: 99</td>\n",
              "      <td>,</td>\n",
              "      <td>,</td>\n",
              "      <td>O</td>\n",
              "      <td>O</td>\n",
              "      <td>O</td>\n",
              "      <td>O</td>\n",
              "    </tr>\n",
              "    <tr>\n",
              "      <th>2263</th>\n",
              "      <td>Sentence: 99</td>\n",
              "      <td>launching</td>\n",
              "      <td>VBG</td>\n",
              "      <td>O</td>\n",
              "      <td>O</td>\n",
              "      <td>O</td>\n",
              "      <td>O</td>\n",
              "    </tr>\n",
              "  </tbody>\n",
              "</table>\n",
              "<p>2264 rows × 7 columns</p>\n",
              "</div>"
            ],
            "text/plain": [
              "        Sentence #           Word  POS Tag Tag_flair Tag_stanza crf_results\n",
              "0      Sentence: 1      Thousands  NNS   O         O          O           O\n",
              "1      Sentence: 1             of   IN   O         O          O           O\n",
              "2      Sentence: 1  demonstrators  NNS   O         O          O           O\n",
              "3      Sentence: 1           have  VBP   O         O          O           O\n",
              "4      Sentence: 1        marched  VBN   O         O          O           O\n",
              "...            ...            ...  ...  ..       ...        ...         ...\n",
              "2259  Sentence: 99              a   DT   O         O          O           O\n",
              "2260  Sentence: 99          third   JJ   O         O          O           O\n",
              "2261  Sentence: 99            day   NN   O         O          O           O\n",
              "2262  Sentence: 99              ,    ,   O         O          O           O\n",
              "2263  Sentence: 99      launching  VBG   O         O          O           O\n",
              "\n",
              "[2264 rows x 7 columns]"
            ]
          },
          "metadata": {
            "tags": []
          },
          "execution_count": 48
        }
      ]
    },
    {
      "cell_type": "markdown",
      "metadata": {
        "id": "TXMv8vsIsU6Z"
      },
      "source": [
        "## stanza"
      ]
    },
    {
      "cell_type": "code",
      "metadata": {
        "colab": {
          "base_uri": "https://localhost:8080/"
        },
        "id": "lX6Vm8UTsk-m",
        "outputId": "ceaa3142-a25b-42c1-ac24-075fbe156e5c"
      },
      "source": [
        "pip install stanza"
      ],
      "execution_count": 49,
      "outputs": [
        {
          "output_type": "stream",
          "text": [
            "Collecting stanza\n",
            "\u001b[?25l  Downloading https://files.pythonhosted.org/packages/e7/8b/3a9e7a8d8cb14ad6afffc3983b7a7322a3a24d94ebc978a70746fcffc085/stanza-1.1.1-py3-none-any.whl (227kB)\n",
            "\r\u001b[K     |█▍                              | 10kB 12.7MB/s eta 0:00:01\r\u001b[K     |██▉                             | 20kB 17.4MB/s eta 0:00:01\r\u001b[K     |████▎                           | 30kB 11.1MB/s eta 0:00:01\r\u001b[K     |█████▊                          | 40kB 9.0MB/s eta 0:00:01\r\u001b[K     |███████▏                        | 51kB 4.8MB/s eta 0:00:01\r\u001b[K     |████████▋                       | 61kB 5.3MB/s eta 0:00:01\r\u001b[K     |██████████                      | 71kB 5.2MB/s eta 0:00:01\r\u001b[K     |███████████▌                    | 81kB 5.3MB/s eta 0:00:01\r\u001b[K     |█████████████                   | 92kB 5.8MB/s eta 0:00:01\r\u001b[K     |██████████████▍                 | 102kB 6.1MB/s eta 0:00:01\r\u001b[K     |███████████████▉                | 112kB 6.1MB/s eta 0:00:01\r\u001b[K     |█████████████████▎              | 122kB 6.1MB/s eta 0:00:01\r\u001b[K     |██████████████████▊             | 133kB 6.1MB/s eta 0:00:01\r\u001b[K     |████████████████████▏           | 143kB 6.1MB/s eta 0:00:01\r\u001b[K     |█████████████████████▋          | 153kB 6.1MB/s eta 0:00:01\r\u001b[K     |███████████████████████         | 163kB 6.1MB/s eta 0:00:01\r\u001b[K     |████████████████████████▌       | 174kB 6.1MB/s eta 0:00:01\r\u001b[K     |██████████████████████████      | 184kB 6.1MB/s eta 0:00:01\r\u001b[K     |███████████████████████████▍    | 194kB 6.1MB/s eta 0:00:01\r\u001b[K     |████████████████████████████▉   | 204kB 6.1MB/s eta 0:00:01\r\u001b[K     |██████████████████████████████▎ | 215kB 6.1MB/s eta 0:00:01\r\u001b[K     |███████████████████████████████▊| 225kB 6.1MB/s eta 0:00:01\r\u001b[K     |████████████████████████████████| 235kB 6.1MB/s \n",
            "\u001b[?25hRequirement already satisfied: requests in /usr/local/lib/python3.6/dist-packages (from stanza) (2.23.0)\n",
            "Requirement already satisfied: tqdm in /usr/local/lib/python3.6/dist-packages (from stanza) (4.41.1)\n",
            "Requirement already satisfied: protobuf in /usr/local/lib/python3.6/dist-packages (from stanza) (3.12.4)\n",
            "Requirement already satisfied: numpy in /usr/local/lib/python3.6/dist-packages (from stanza) (1.19.4)\n",
            "Requirement already satisfied: torch>=1.3.0 in /usr/local/lib/python3.6/dist-packages (from stanza) (1.7.0+cu101)\n",
            "Requirement already satisfied: urllib3!=1.25.0,!=1.25.1,<1.26,>=1.21.1 in /usr/local/lib/python3.6/dist-packages (from requests->stanza) (1.24.3)\n",
            "Requirement already satisfied: idna<3,>=2.5 in /usr/local/lib/python3.6/dist-packages (from requests->stanza) (2.10)\n",
            "Requirement already satisfied: chardet<4,>=3.0.2 in /usr/local/lib/python3.6/dist-packages (from requests->stanza) (3.0.4)\n",
            "Requirement already satisfied: certifi>=2017.4.17 in /usr/local/lib/python3.6/dist-packages (from requests->stanza) (2020.12.5)\n",
            "Requirement already satisfied: six>=1.9 in /usr/local/lib/python3.6/dist-packages (from protobuf->stanza) (1.15.0)\n",
            "Requirement already satisfied: setuptools in /usr/local/lib/python3.6/dist-packages (from protobuf->stanza) (50.3.2)\n",
            "Requirement already satisfied: typing-extensions in /usr/local/lib/python3.6/dist-packages (from torch>=1.3.0->stanza) (3.7.4.3)\n",
            "Requirement already satisfied: dataclasses in /usr/local/lib/python3.6/dist-packages (from torch>=1.3.0->stanza) (0.8)\n",
            "Requirement already satisfied: future in /usr/local/lib/python3.6/dist-packages (from torch>=1.3.0->stanza) (0.16.0)\n",
            "Installing collected packages: stanza\n",
            "Successfully installed stanza-1.1.1\n"
          ],
          "name": "stdout"
        }
      ]
    },
    {
      "cell_type": "code",
      "metadata": {
        "id": "mjTp9DLEmHcn"
      },
      "source": [
        "import stanza"
      ],
      "execution_count": 50,
      "outputs": []
    },
    {
      "cell_type": "code",
      "metadata": {
        "colab": {
          "base_uri": "https://localhost:8080/"
        },
        "id": "ggaAFPBNtMmH",
        "outputId": "be622e68-5b51-486d-9258-16b3f7b848d0"
      },
      "source": [
        "stanza.download('en')"
      ],
      "execution_count": 52,
      "outputs": [
        {
          "output_type": "stream",
          "text": [
            "Downloading https://raw.githubusercontent.com/stanfordnlp/stanza-resources/master/resources_1.1.0.json: 122kB [00:00, 17.4MB/s]                    \n",
            "2020-12-21 17:21:01 INFO: Downloading default packages for language: en (English)...\n",
            "Downloading http://nlp.stanford.edu/software/stanza/1.1.0/en/default.zip: 100%|██████████| 428M/428M [02:27<00:00, 2.91MB/s]\n",
            "2020-12-21 17:23:37 INFO: Finished downloading models and saved to /root/stanza_resources.\n"
          ],
          "name": "stderr"
        }
      ]
    },
    {
      "cell_type": "code",
      "metadata": {
        "colab": {
          "base_uri": "https://localhost:8080/"
        },
        "id": "2UqNF5fnsjd-",
        "outputId": "364cc410-4679-49fa-ef07-31a1c6033323"
      },
      "source": [
        "dictionary = []\r\n",
        "nlp = stanza.Pipeline(lang='en', processors='tokenize,ner')\r\n",
        "for text in texts[:5000]:\r\n",
        "    doc = nlp(text)\r\n",
        "    ner = {}\r\n",
        "    for sent in doc.sentences:\r\n",
        "        for ent in sent.ents:\r\n",
        "            ner[ent.text] = ent.type\r\n",
        "    \r\n",
        "    for word in text.split(' '):\r\n",
        "        d = {}\r\n",
        "        if word in ner.keys():\r\n",
        "            d[word] = ner[word]\r\n",
        "        else:\r\n",
        "            d[word] = 'O'\r\n",
        "        \r\n",
        "        dictionary.append(d)"
      ],
      "execution_count": 53,
      "outputs": [
        {
          "output_type": "stream",
          "text": [
            "2020-12-21 17:24:21 INFO: Loading these models for language: en (English):\n",
            "=========================\n",
            "| Processor | Package   |\n",
            "-------------------------\n",
            "| tokenize  | ewt       |\n",
            "| ner       | ontonotes |\n",
            "=========================\n",
            "\n",
            "2020-12-21 17:24:22 INFO: Use device: cpu\n",
            "2020-12-21 17:24:22 INFO: Loading: tokenize\n",
            "2020-12-21 17:24:22 INFO: Loading: ner\n",
            "2020-12-21 17:24:22 INFO: Done loading processors!\n"
          ],
          "name": "stderr"
        }
      ]
    },
    {
      "cell_type": "code",
      "metadata": {
        "id": "0ma8lcyutHe8",
        "colab": {
          "base_uri": "https://localhost:8080/"
        },
        "outputId": "3993a428-74e3-4477-f217-7e4859d0169a"
      },
      "source": [
        "dictionary"
      ],
      "execution_count": 54,
      "outputs": [
        {
          "output_type": "execute_result",
          "data": {
            "text/plain": [
              "[{'Thousands': 'CARDINAL'},\n",
              " {'of': 'O'},\n",
              " {'demonstrators': 'O'},\n",
              " {'have': 'O'},\n",
              " {'marched': 'O'},\n",
              " {'through': 'O'},\n",
              " {'London': 'GPE'},\n",
              " {'to': 'O'},\n",
              " {'protest': 'O'},\n",
              " {'the': 'O'},\n",
              " {'war': 'O'},\n",
              " {'in': 'O'},\n",
              " {'Iraq': 'GPE'},\n",
              " {'and': 'O'},\n",
              " {'demand': 'O'},\n",
              " {'the': 'O'},\n",
              " {'withdrawal': 'O'},\n",
              " {'of': 'O'},\n",
              " {'British': 'NORP'},\n",
              " {'troops': 'O'},\n",
              " {'from': 'O'},\n",
              " {'that': 'O'},\n",
              " {'country': 'O'},\n",
              " {'.': 'O'},\n",
              " {'Iranian': 'NORP'},\n",
              " {'officials': 'O'},\n",
              " {'say': 'O'},\n",
              " {'they': 'O'},\n",
              " {'expect': 'O'},\n",
              " {'to': 'O'},\n",
              " {'get': 'O'},\n",
              " {'access': 'O'},\n",
              " {'to': 'O'},\n",
              " {'sealed': 'O'},\n",
              " {'sensitive': 'O'},\n",
              " {'parts': 'O'},\n",
              " {'of': 'O'},\n",
              " {'the': 'O'},\n",
              " {'plant': 'O'},\n",
              " {'Wednesday': 'DATE'},\n",
              " {',': 'O'},\n",
              " {'after': 'O'},\n",
              " {'an': 'O'},\n",
              " {'IAEA': 'ORG'},\n",
              " {'surveillance': 'O'},\n",
              " {'system': 'O'},\n",
              " {'begins': 'O'},\n",
              " {'functioning': 'O'},\n",
              " {'.': 'O'},\n",
              " {'Helicopter': 'O'},\n",
              " {'gunships': 'O'},\n",
              " {'Saturday': 'DATE'},\n",
              " {'pounded': 'O'},\n",
              " {'militant': 'O'},\n",
              " {'hideouts': 'O'},\n",
              " {'in': 'O'},\n",
              " {'the': 'O'},\n",
              " {'Orakzai': 'GPE'},\n",
              " {'tribal': 'O'},\n",
              " {'region': 'O'},\n",
              " {',': 'O'},\n",
              " {'where': 'O'},\n",
              " {'many': 'O'},\n",
              " {'Taliban': 'ORG'},\n",
              " {'militants': 'O'},\n",
              " {'are': 'O'},\n",
              " {'believed': 'O'},\n",
              " {'to': 'O'},\n",
              " {'have': 'O'},\n",
              " {'fled': 'O'},\n",
              " {'to': 'O'},\n",
              " {'avoid': 'O'},\n",
              " {'an': 'O'},\n",
              " {'earlier': 'O'},\n",
              " {'military': 'O'},\n",
              " {'offensive': 'O'},\n",
              " {'in': 'O'},\n",
              " {'nearby': 'O'},\n",
              " {'South': 'O'},\n",
              " {'Waziristan': 'O'},\n",
              " {'.': 'O'},\n",
              " {'They': 'O'},\n",
              " {'left': 'O'},\n",
              " {'after': 'O'},\n",
              " {'a': 'O'},\n",
              " {'tense': 'O'},\n",
              " {'hour-long': 'O'},\n",
              " {'standoff': 'O'},\n",
              " {'with': 'O'},\n",
              " {'riot': 'O'},\n",
              " {'police': 'O'},\n",
              " {'.': 'O'},\n",
              " {'U.N.': 'ORG'},\n",
              " {'relief': 'O'},\n",
              " {'coordinator': 'O'},\n",
              " {'Jan': 'O'},\n",
              " {'Egeland': 'O'},\n",
              " {'said': 'O'},\n",
              " {'Sunday': 'DATE'},\n",
              " {',': 'O'},\n",
              " {'U.S.': 'GPE'},\n",
              " {',': 'O'},\n",
              " {'Indonesian': 'NORP'},\n",
              " {'and': 'O'},\n",
              " {'Australian': 'NORP'},\n",
              " {'military': 'O'},\n",
              " {'helicopters': 'O'},\n",
              " {'are': 'O'},\n",
              " {'ferrying': 'O'},\n",
              " {'out': 'O'},\n",
              " {'food': 'O'},\n",
              " {'and': 'O'},\n",
              " {'supplies': 'O'},\n",
              " {'to': 'O'},\n",
              " {'remote': 'O'},\n",
              " {'areas': 'O'},\n",
              " {'of': 'O'},\n",
              " {'western': 'O'},\n",
              " {'Aceh': 'GPE'},\n",
              " {'province': 'O'},\n",
              " {'that': 'O'},\n",
              " {'ground': 'O'},\n",
              " {'crews': 'O'},\n",
              " {'can': 'O'},\n",
              " {'not': 'O'},\n",
              " {'reach': 'O'},\n",
              " {'.': 'O'},\n",
              " {'Mr.': 'O'},\n",
              " {'Egeland': 'PERSON'},\n",
              " {'said': 'O'},\n",
              " {'the': 'O'},\n",
              " {'latest': 'O'},\n",
              " {'figures': 'O'},\n",
              " {'show': 'O'},\n",
              " {'1.8': 'O'},\n",
              " {'million': 'O'},\n",
              " {'people': 'O'},\n",
              " {'are': 'O'},\n",
              " {'in': 'O'},\n",
              " {'need': 'O'},\n",
              " {'of': 'O'},\n",
              " {'food': 'O'},\n",
              " {'assistance': 'O'},\n",
              " {'-': 'O'},\n",
              " {'with': 'O'},\n",
              " {'the': 'O'},\n",
              " {'need': 'O'},\n",
              " {'greatest': 'O'},\n",
              " {'in': 'O'},\n",
              " {'Indonesia': 'GPE'},\n",
              " {',': 'O'},\n",
              " {'Sri': 'O'},\n",
              " {'Lanka': 'O'},\n",
              " {',': 'O'},\n",
              " {'the': 'O'},\n",
              " {'Maldives': 'GPE'},\n",
              " {'and': 'O'},\n",
              " {'India': 'GPE'},\n",
              " {'.': 'O'},\n",
              " {'He': 'O'},\n",
              " {'said': 'O'},\n",
              " {'last': 'O'},\n",
              " {'week': 'O'},\n",
              " {\"'s\": 'O'},\n",
              " {'tsunami': 'O'},\n",
              " {'and': 'O'},\n",
              " {'the': 'O'},\n",
              " {'massive': 'O'},\n",
              " {'underwater': 'O'},\n",
              " {'earthquake': 'O'},\n",
              " {'that': 'O'},\n",
              " {'triggered': 'O'},\n",
              " {'it': 'O'},\n",
              " {'has': 'O'},\n",
              " {'affected': 'O'},\n",
              " {'millions': 'CARDINAL'},\n",
              " {'in': 'O'},\n",
              " {'Asia': 'LOC'},\n",
              " {'and': 'O'},\n",
              " {'Africa': 'LOC'},\n",
              " {'.': 'O'},\n",
              " {'Some': 'O'},\n",
              " {'1,27,000': 'O'},\n",
              " {'people': 'O'},\n",
              " {'are': 'O'},\n",
              " {'known': 'O'},\n",
              " {'dead': 'O'},\n",
              " {'.': 'O'},\n",
              " {'Aid': 'O'},\n",
              " {'is': 'O'},\n",
              " {'being': 'O'},\n",
              " {'rushed': 'O'},\n",
              " {'to': 'O'},\n",
              " {'the': 'O'},\n",
              " {'region': 'O'},\n",
              " {',': 'O'},\n",
              " {'but': 'O'},\n",
              " {'the': 'O'},\n",
              " {'U.N.': 'ORG'},\n",
              " {'official': 'O'},\n",
              " {'stressed': 'O'},\n",
              " {'that': 'O'},\n",
              " {'bottlenecks': 'O'},\n",
              " {'and': 'O'},\n",
              " {'a': 'O'},\n",
              " {'lack': 'O'},\n",
              " {'of': 'O'},\n",
              " {'infrastructure': 'O'},\n",
              " {'remain': 'O'},\n",
              " {'a': 'O'},\n",
              " {'challenge': 'O'},\n",
              " {'.': 'O'},\n",
              " {'Lebanese': 'NORP'},\n",
              " {'politicians': 'O'},\n",
              " {'are': 'O'},\n",
              " {'condemning': 'O'},\n",
              " {'Friday': 'DATE'},\n",
              " {\"'s\": 'O'},\n",
              " {'bomb': 'O'},\n",
              " {'blast': 'O'},\n",
              " {'in': 'O'},\n",
              " {'a': 'O'},\n",
              " {'Christian': 'NORP'},\n",
              " {'neighborhood': 'O'},\n",
              " {'of': 'O'},\n",
              " {'Beirut': 'GPE'},\n",
              " {'as': 'O'},\n",
              " {'an': 'O'},\n",
              " {'attempt': 'O'},\n",
              " {'to': 'O'},\n",
              " {'sow': 'O'},\n",
              " {'sectarian': 'O'},\n",
              " {'strife': 'O'},\n",
              " {'in': 'O'},\n",
              " {'the': 'O'},\n",
              " {'formerly': 'O'},\n",
              " {'war-torn': 'O'},\n",
              " {'country': 'O'},\n",
              " {'.': 'O'},\n",
              " {'In': 'O'},\n",
              " {'Beirut': 'GPE'},\n",
              " {',': 'O'},\n",
              " {'a': 'O'},\n",
              " {'string': 'O'},\n",
              " {'of': 'O'},\n",
              " {'officials': 'O'},\n",
              " {'voiced': 'O'},\n",
              " {'their': 'O'},\n",
              " {'anger': 'O'},\n",
              " {',': 'O'},\n",
              " {'while': 'O'},\n",
              " {'at': 'O'},\n",
              " {'the': 'O'},\n",
              " {'United': 'O'},\n",
              " {'Nations': 'O'},\n",
              " {'summit': 'O'},\n",
              " {'in': 'O'},\n",
              " {'New': 'O'},\n",
              " {'York': 'O'},\n",
              " {',': 'O'},\n",
              " {'Prime': 'O'},\n",
              " {'Minister': 'O'},\n",
              " {'Fouad': 'O'},\n",
              " {'Siniora': 'O'},\n",
              " {'said': 'O'},\n",
              " {'the': 'O'},\n",
              " {'Lebanese': 'NORP'},\n",
              " {'people': 'O'},\n",
              " {'are': 'O'},\n",
              " {'resolute': 'O'},\n",
              " {'in': 'O'},\n",
              " {'preventing': 'O'},\n",
              " {'such': 'O'},\n",
              " {'attempts': 'O'},\n",
              " {'from': 'O'},\n",
              " {'destroying': 'O'},\n",
              " {'their': 'O'},\n",
              " {'spirit': 'O'},\n",
              " {'.': 'O'},\n",
              " {'One': 'CARDINAL'},\n",
              " {'person': 'O'},\n",
              " {'was': 'O'},\n",
              " {'killed': 'O'},\n",
              " {'and': 'O'},\n",
              " {'more': 'O'},\n",
              " {'than': 'O'},\n",
              " {'20': 'O'},\n",
              " {'others': 'O'},\n",
              " {'injured': 'O'},\n",
              " {'in': 'O'},\n",
              " {'the': 'O'},\n",
              " {'bomb': 'O'},\n",
              " {'blast': 'O'},\n",
              " {'late': 'O'},\n",
              " {'Friday': 'O'},\n",
              " {',': 'O'},\n",
              " {'which': 'O'},\n",
              " {'took': 'O'},\n",
              " {'place': 'O'},\n",
              " {'on': 'O'},\n",
              " {'a': 'O'},\n",
              " {'residential': 'O'},\n",
              " {'street': 'O'},\n",
              " {'.': 'O'},\n",
              " {'Lebanon': 'GPE'},\n",
              " {'has': 'O'},\n",
              " {'suffered': 'O'},\n",
              " {'a': 'O'},\n",
              " {'series': 'O'},\n",
              " {'of': 'O'},\n",
              " {'bombings': 'O'},\n",
              " {'since': 'O'},\n",
              " {'the': 'O'},\n",
              " {'massive': 'O'},\n",
              " {'explosion': 'O'},\n",
              " {'in': 'O'},\n",
              " {'February': 'DATE'},\n",
              " {'that': 'O'},\n",
              " {'killed': 'O'},\n",
              " {'former': 'O'},\n",
              " {'Prime': 'O'},\n",
              " {'Minister': 'O'},\n",
              " {'Rafik': 'O'},\n",
              " {'Hariri': 'O'},\n",
              " {'and': 'O'},\n",
              " {'20': 'CARDINAL'},\n",
              " {'other': 'O'},\n",
              " {'people': 'O'},\n",
              " {'.': 'O'},\n",
              " {'Syria': 'GPE'},\n",
              " {'is': 'O'},\n",
              " {'widely': 'O'},\n",
              " {'accused': 'O'},\n",
              " {'of': 'O'},\n",
              " {'involvement': 'O'},\n",
              " {'in': 'O'},\n",
              " {'his': 'O'},\n",
              " {'killing': 'O'},\n",
              " {',': 'O'},\n",
              " {'and': 'O'},\n",
              " {'Friday': 'DATE'},\n",
              " {\"'s\": 'O'},\n",
              " {'explosion': 'O'},\n",
              " {'comes': 'O'},\n",
              " {'days': 'DATE'},\n",
              " {'before': 'O'},\n",
              " {'U.N.': 'ORG'},\n",
              " {'investigator': 'O'},\n",
              " {'Detlev': 'O'},\n",
              " {'Mehlis': 'O'},\n",
              " {'is': 'O'},\n",
              " {'to': 'O'},\n",
              " {'return': 'O'},\n",
              " {'to': 'O'},\n",
              " {'Damascus': 'GPE'},\n",
              " {'to': 'O'},\n",
              " {'interview': 'O'},\n",
              " {'several': 'O'},\n",
              " {'Syrian': 'NORP'},\n",
              " {'officials': 'O'},\n",
              " {'about': 'O'},\n",
              " {'the': 'O'},\n",
              " {'assassination': 'O'},\n",
              " {'.': 'O'},\n",
              " {'The': 'O'},\n",
              " {'global': 'O'},\n",
              " {'financial': 'O'},\n",
              " {'crisis': 'O'},\n",
              " {'has': 'O'},\n",
              " {'left': 'O'},\n",
              " {'Iceland': 'GPE'},\n",
              " {\"'s\": 'O'},\n",
              " {'economy': 'O'},\n",
              " {'in': 'O'},\n",
              " {'shambles': 'O'},\n",
              " {'.': 'O'},\n",
              " {'Israeli': 'NORP'},\n",
              " {'officials': 'O'},\n",
              " {'say': 'O'},\n",
              " {'Prime': 'O'},\n",
              " {'Minister': 'O'},\n",
              " {'Ariel': 'O'},\n",
              " {'Sharon': 'O'},\n",
              " {'will': 'O'},\n",
              " {'undergo': 'O'},\n",
              " {'a': 'O'},\n",
              " {'medical': 'O'},\n",
              " {'procedure': 'O'},\n",
              " {'Thursday': 'DATE'},\n",
              " {'to': 'O'},\n",
              " {'close': 'O'},\n",
              " {'a': 'O'},\n",
              " {'tiny': 'O'},\n",
              " {'hole': 'O'},\n",
              " {'in': 'O'},\n",
              " {'his': 'O'},\n",
              " {'heart': 'O'},\n",
              " {'discovered': 'O'},\n",
              " {'during': 'O'},\n",
              " {'treatment': 'O'},\n",
              " {'for': 'O'},\n",
              " {'a': 'O'},\n",
              " {'minor': 'O'},\n",
              " {'stroke': 'O'},\n",
              " {'suffered': 'O'},\n",
              " {'last': 'O'},\n",
              " {'month': 'O'},\n",
              " {'.': 'O'},\n",
              " {'Doctors': 'O'},\n",
              " {'describe': 'O'},\n",
              " {'the': 'O'},\n",
              " {'tiny': 'O'},\n",
              " {'hole': 'O'},\n",
              " {'as': 'O'},\n",
              " {'a': 'O'},\n",
              " {'minor': 'O'},\n",
              " {'birth': 'O'},\n",
              " {'defect': 'O'},\n",
              " {'and': 'O'},\n",
              " {'say': 'O'},\n",
              " {'it': 'O'},\n",
              " {'is': 'O'},\n",
              " {'in': 'O'},\n",
              " {'the': 'O'},\n",
              " {'partition': 'O'},\n",
              " {'between': 'O'},\n",
              " {'the': 'O'},\n",
              " {'upper': 'O'},\n",
              " {'chambers': 'O'},\n",
              " {'of': 'O'},\n",
              " {'Mr.': 'O'},\n",
              " {'Sharon': 'PERSON'},\n",
              " {\"'s\": 'O'},\n",
              " {'heart': 'O'},\n",
              " {'.': 'O'},\n",
              " {'The': 'O'},\n",
              " {'procedure': 'O'},\n",
              " {',': 'O'},\n",
              " {'known': 'O'},\n",
              " {'as': 'O'},\n",
              " {'cardiac': 'O'},\n",
              " {'catheterization': 'O'},\n",
              " {',': 'O'},\n",
              " {'involves': 'O'},\n",
              " {'inserting': 'O'},\n",
              " {'a': 'O'},\n",
              " {'catheter': 'O'},\n",
              " {'through': 'O'},\n",
              " {'a': 'O'},\n",
              " {'blood': 'O'},\n",
              " {'vessel': 'O'},\n",
              " {'into': 'O'},\n",
              " {'the': 'O'},\n",
              " {'heart': 'O'},\n",
              " {',': 'O'},\n",
              " {'where': 'O'},\n",
              " {'an': 'O'},\n",
              " {'umbrella-like': 'O'},\n",
              " {'device': 'O'},\n",
              " {'will': 'O'},\n",
              " {'plug': 'O'},\n",
              " {'the': 'O'},\n",
              " {'hole': 'O'},\n",
              " {'.': 'O'},\n",
              " {'Doctors': 'O'},\n",
              " {'say': 'O'},\n",
              " {'they': 'O'},\n",
              " {'expect': 'O'},\n",
              " {'Mr.': 'O'},\n",
              " {'Sharon': 'PERSON'},\n",
              " {'will': 'O'},\n",
              " {'make': 'O'},\n",
              " {'a': 'O'},\n",
              " {'full': 'O'},\n",
              " {'recovery': 'O'},\n",
              " {'.': 'O'},\n",
              " {'Mr.': 'O'},\n",
              " {'Sharon': 'PERSON'},\n",
              " {'returned': 'O'},\n",
              " {'to': 'O'},\n",
              " {'work': 'O'},\n",
              " {'on': 'O'},\n",
              " {'December': 'O'},\n",
              " {'25': 'O'},\n",
              " {',': 'O'},\n",
              " {'one': 'O'},\n",
              " {'week': 'O'},\n",
              " {'after': 'O'},\n",
              " {'his': 'O'},\n",
              " {'emergency': 'O'},\n",
              " {'hospitalization': 'O'},\n",
              " {'.': 'O'},\n",
              " {'Doctors': 'O'},\n",
              " {'say': 'O'},\n",
              " {'the': 'O'},\n",
              " {'stroke': 'O'},\n",
              " {'has': 'O'},\n",
              " {'not': 'O'},\n",
              " {'caused': 'O'},\n",
              " {'any': 'O'},\n",
              " {'permanent': 'O'},\n",
              " {'damage': 'O'},\n",
              " {'.': 'O'},\n",
              " {'The': 'O'},\n",
              " {'designers': 'O'},\n",
              " {'of': 'O'},\n",
              " {'the': 'O'},\n",
              " {'first': 'ORDINAL'},\n",
              " {'private': 'O'},\n",
              " {'manned': 'O'},\n",
              " {'rocket': 'O'},\n",
              " {'to': 'O'},\n",
              " {'burst': 'O'},\n",
              " {'into': 'O'},\n",
              " {'space': 'O'},\n",
              " {'have': 'O'},\n",
              " {'received': 'O'},\n",
              " {'a': 'O'},\n",
              " {'$': 'O'},\n",
              " {'10': 'O'},\n",
              " {'million': 'O'},\n",
              " {'prize': 'O'},\n",
              " {'created': 'O'},\n",
              " {'to': 'O'},\n",
              " {'promote': 'O'},\n",
              " {'space': 'O'},\n",
              " {'tourism': 'O'},\n",
              " {'.': 'O'},\n",
              " {'SpaceShipOne': 'ORG'},\n",
              " {'designer': 'O'},\n",
              " {'Burt': 'O'},\n",
              " {'Rutan': 'O'},\n",
              " {'accepted': 'O'},\n",
              " {'the': 'O'},\n",
              " {'Ansari': 'O'},\n",
              " {'X': 'O'},\n",
              " {'Prize': 'O'},\n",
              " {'money': 'O'},\n",
              " {'and': 'O'},\n",
              " {'a': 'O'},\n",
              " {'trophy': 'O'},\n",
              " {'on': 'O'},\n",
              " {'behalf': 'O'},\n",
              " {'of': 'O'},\n",
              " {'his': 'O'},\n",
              " {'team': 'O'},\n",
              " {'Saturday': 'DATE'},\n",
              " {'during': 'O'},\n",
              " {'an': 'O'},\n",
              " {'awards': 'O'},\n",
              " {'ceremony': 'O'},\n",
              " {'in': 'O'},\n",
              " {'the': 'O'},\n",
              " {'U.S.': 'GPE'},\n",
              " {'state': 'O'},\n",
              " {'of': 'O'},\n",
              " {'Missouri': 'GPE'},\n",
              " {'.': 'O'},\n",
              " {'To': 'O'},\n",
              " {'win': 'O'},\n",
              " {'the': 'O'},\n",
              " {'money': 'O'},\n",
              " {',': 'O'},\n",
              " {'SpaceShipOne': 'ORG'},\n",
              " {'had': 'O'},\n",
              " {'to': 'O'},\n",
              " {'blast': 'O'},\n",
              " {'off': 'O'},\n",
              " {'into': 'O'},\n",
              " {'space': 'O'},\n",
              " {'twice': 'O'},\n",
              " {'in': 'O'},\n",
              " {'a': 'O'},\n",
              " {'two-week': 'DATE'},\n",
              " {'period': 'O'},\n",
              " {'and': 'O'},\n",
              " {'fly': 'O'},\n",
              " {'at': 'O'},\n",
              " {'least': 'O'},\n",
              " {'100': 'O'},\n",
              " {'kilometers': 'O'},\n",
              " {'above': 'O'},\n",
              " {'Earth': 'LOC'},\n",
              " {'.': 'O'},\n",
              " {'The': 'O'},\n",
              " {'spacecraft': 'O'},\n",
              " {'made': 'O'},\n",
              " {'its': 'O'},\n",
              " {'flights': 'O'},\n",
              " {'in': 'O'},\n",
              " {'late': 'O'},\n",
              " {'September': 'O'},\n",
              " {'and': 'O'},\n",
              " {'early': 'O'},\n",
              " {'October': 'O'},\n",
              " {',': 'O'},\n",
              " {'lifting': 'O'},\n",
              " {'off': 'O'},\n",
              " {'from': 'O'},\n",
              " {'California': 'GPE'},\n",
              " {\"'s\": 'O'},\n",
              " {'Mojave': 'O'},\n",
              " {'desert': 'O'},\n",
              " {'.': 'O'},\n",
              " {'Three': 'CARDINAL'},\n",
              " {'major': 'O'},\n",
              " {'banks': 'O'},\n",
              " {'have': 'O'},\n",
              " {'collapsed': 'O'},\n",
              " {',': 'O'},\n",
              " {'unemployment': 'O'},\n",
              " {'has': 'O'},\n",
              " {'soared': 'O'},\n",
              " {',': 'O'},\n",
              " {'and': 'O'},\n",
              " {'the': 'O'},\n",
              " {'value': 'O'},\n",
              " {'of': 'O'},\n",
              " {'the': 'O'},\n",
              " {'krona': 'O'},\n",
              " {'has': 'O'},\n",
              " {'plunged': 'O'},\n",
              " {'.': 'O'},\n",
              " {'The': 'O'},\n",
              " {'vehicle': 'O'},\n",
              " {'had': 'O'},\n",
              " {'to': 'O'},\n",
              " {'carry': 'O'},\n",
              " {'a': 'O'},\n",
              " {'pilot': 'O'},\n",
              " {'and': 'O'},\n",
              " {'weight': 'O'},\n",
              " {'equivalent': 'O'},\n",
              " {'to': 'O'},\n",
              " {'two': 'CARDINAL'},\n",
              " {'passengers': 'O'},\n",
              " {'.': 'O'},\n",
              " {'SpaceShipOne': 'ORG'},\n",
              " {'was': 'O'},\n",
              " {'financed': 'O'},\n",
              " {'with': 'O'},\n",
              " {'more': 'O'},\n",
              " {'than': 'O'},\n",
              " {'$': 'O'},\n",
              " {'20': 'O'},\n",
              " {'million': 'O'},\n",
              " {'from': 'O'},\n",
              " {'Paul': 'O'},\n",
              " {'Allen': 'O'},\n",
              " {',': 'O'},\n",
              " {'a': 'O'},\n",
              " {'co-founder': 'O'},\n",
              " {'of': 'O'},\n",
              " {'the': 'O'},\n",
              " {'Microsoft': 'O'},\n",
              " {'Corporation': 'O'},\n",
              " {'.': 'O'},\n",
              " {'North': 'O'},\n",
              " {'Korea': 'O'},\n",
              " {'says': 'O'},\n",
              " {'flooding': 'O'},\n",
              " {'caused': 'O'},\n",
              " {'by': 'O'},\n",
              " {'last': 'O'},\n",
              " {'week': 'O'},\n",
              " {\"'s\": 'O'},\n",
              " {'typhoon': 'O'},\n",
              " {',': 'O'},\n",
              " {'Wipha': 'GPE'},\n",
              " {',': 'O'},\n",
              " {'has': 'O'},\n",
              " {'destroyed': 'O'},\n",
              " {'14,000': 'CARDINAL'},\n",
              " {'homes': 'O'},\n",
              " {'and': 'O'},\n",
              " {'1,09,000': 'O'},\n",
              " {'hectares': 'O'},\n",
              " {'of': 'O'},\n",
              " {'crops': 'O'},\n",
              " {'.': 'O'},\n",
              " {'The': 'O'},\n",
              " {'state': 'O'},\n",
              " {'news': 'O'},\n",
              " {'agency': 'O'},\n",
              " {'KCNA': 'ORG'},\n",
              " {'reported': 'O'},\n",
              " {'the': 'O'},\n",
              " {'damage': 'O'},\n",
              " {'Monday': 'DATE'},\n",
              " {'.': 'O'},\n",
              " {'It': 'O'},\n",
              " {'says': 'O'},\n",
              " {'the': 'O'},\n",
              " {'floods': 'O'},\n",
              " {'also': 'O'},\n",
              " {'destroyed': 'O'},\n",
              " {'or': 'O'},\n",
              " {'damaged': 'O'},\n",
              " {'8,000': 'CARDINAL'},\n",
              " {'public': 'O'},\n",
              " {'buildings': 'O'},\n",
              " {'and': 'O'},\n",
              " {'washed': 'O'},\n",
              " {'out': 'O'},\n",
              " {'roads': 'O'},\n",
              " {',': 'O'},\n",
              " {'bridges': 'O'},\n",
              " {'and': 'O'},\n",
              " {'railways': 'O'},\n",
              " {'.': 'O'},\n",
              " {'The': 'O'},\n",
              " {'report': 'O'},\n",
              " {'did': 'O'},\n",
              " {'not': 'O'},\n",
              " {'mention': 'O'},\n",
              " {'any': 'O'},\n",
              " {'deaths': 'O'},\n",
              " {'or': 'O'},\n",
              " {'injuries': 'O'},\n",
              " {'.': 'O'},\n",
              " {'Most': 'O'},\n",
              " {'of': 'O'},\n",
              " {'the': 'O'},\n",
              " {'heavy': 'O'},\n",
              " {'rains': 'O'},\n",
              " {'and': 'O'},\n",
              " {'flooding': 'O'},\n",
              " {'occurred': 'O'},\n",
              " {'in': 'O'},\n",
              " {'the': 'O'},\n",
              " {'southwestern': 'O'},\n",
              " {'part': 'O'},\n",
              " {'of': 'O'},\n",
              " {'the': 'O'},\n",
              " {'country': 'O'},\n",
              " {',': 'O'},\n",
              " {'including': 'O'},\n",
              " {'the': 'O'},\n",
              " {'capital': 'O'},\n",
              " {',': 'O'},\n",
              " {'Pyongyang': 'GPE'},\n",
              " {'.': 'O'},\n",
              " {'Last': 'O'},\n",
              " {'month': 'O'},\n",
              " {',': 'O'},\n",
              " {'severe': 'O'},\n",
              " {'flooding': 'O'},\n",
              " {'in': 'O'},\n",
              " {'North': 'O'},\n",
              " {'Korea': 'O'},\n",
              " {'left': 'O'},\n",
              " {'600': 'CARDINAL'},\n",
              " {'people': 'O'},\n",
              " {'dead': 'O'},\n",
              " {'or': 'O'},\n",
              " {'missing': 'O'},\n",
              " {',': 'O'},\n",
              " {'and': 'O'},\n",
              " {'displaced': 'O'},\n",
              " {'more': 'O'},\n",
              " {'than': 'O'},\n",
              " {'1,00,000': 'O'},\n",
              " {'others': 'O'},\n",
              " {'.': 'O'},\n",
              " {'A': 'O'},\n",
              " {'strong': 'O'},\n",
              " {'earthquake': 'O'},\n",
              " {'under': 'O'},\n",
              " {'the': 'O'},\n",
              " {'ocean': 'O'},\n",
              " {'off': 'O'},\n",
              " {'Indonesia': 'GPE'},\n",
              " {\"'s\": 'O'},\n",
              " {'Sumatra': 'GPE'},\n",
              " {'and': 'O'},\n",
              " {'Nias': 'O'},\n",
              " {'islands': 'O'},\n",
              " {'has': 'O'},\n",
              " {'caused': 'O'},\n",
              " {'some': 'O'},\n",
              " {'panic': 'O'},\n",
              " {'but': 'O'},\n",
              " {'no': 'O'},\n",
              " {'damage': 'O'},\n",
              " {'or': 'O'},\n",
              " {'injuries': 'O'},\n",
              " {'.': 'O'},\n",
              " {'The': 'O'},\n",
              " {'U.S.': 'O'},\n",
              " {'Geological': 'O'},\n",
              " {'Survey': 'O'},\n",
              " {'gave': 'O'},\n",
              " {'a': 'O'},\n",
              " {'preliminary': 'O'},\n",
              " {'estimate': 'O'},\n",
              " {'of': 'O'},\n",
              " {'the': 'O'},\n",
              " {'strength': 'O'},\n",
              " {'of': 'O'},\n",
              " {'the': 'O'},\n",
              " {'Tuesday': 'DATE'},\n",
              " {'morning': 'TIME'},\n",
              " {'quake': 'O'},\n",
              " {'at': 'O'},\n",
              " {'6.7': 'CARDINAL'},\n",
              " {'on': 'O'},\n",
              " {'the': 'O'},\n",
              " {'Richter': 'O'},\n",
              " {'scale': 'O'},\n",
              " {',': 'O'},\n",
              " {'and': 'O'},\n",
              " {'said': 'O'},\n",
              " {'the': 'O'},\n",
              " {'epicenter': 'O'},\n",
              " {'was': 'O'},\n",
              " {'close': 'O'},\n",
              " {'to': 'O'},\n",
              " {'the': 'O'},\n",
              " {'island': 'O'},\n",
              " {'of': 'O'},\n",
              " {'Nias': 'LOC'},\n",
              " {'.': 'O'},\n",
              " {'Prime': 'O'},\n",
              " {'Minister': 'O'},\n",
              " {'Geir': 'O'},\n",
              " {'Haarde': 'O'},\n",
              " {'has': 'O'},\n",
              " {'refused': 'O'},\n",
              " {'to': 'O'},\n",
              " {'resign': 'O'},\n",
              " {'or': 'O'},\n",
              " {'call': 'O'},\n",
              " {'for': 'O'},\n",
              " {'early': 'O'},\n",
              " {'elections': 'O'},\n",
              " {'.': 'O'},\n",
              " {'The': 'O'},\n",
              " {'quake': 'O'},\n",
              " {'did': 'O'},\n",
              " {'not': 'O'},\n",
              " {'cause': 'O'},\n",
              " {'a': 'O'},\n",
              " {'tsunami': 'O'},\n",
              " {'.': 'O'},\n",
              " {'An': 'O'},\n",
              " {'earthquake': 'O'},\n",
              " {'in': 'O'},\n",
              " {'late': 'O'},\n",
              " {'March': 'O'},\n",
              " {'killed': 'O'},\n",
              " {'more': 'O'},\n",
              " {'than': 'O'},\n",
              " {'900': 'O'},\n",
              " {'people': 'O'},\n",
              " {'on': 'O'},\n",
              " {'Nias': 'ORG'},\n",
              " {'.': 'O'},\n",
              " {'Both': 'O'},\n",
              " {'Sumatra': 'GPE'},\n",
              " {'and': 'O'},\n",
              " {'Nias': 'GPE'},\n",
              " {'have': 'O'},\n",
              " {'experienced': 'O'},\n",
              " {'countless': 'O'},\n",
              " {'earthquakes': 'O'},\n",
              " {'since': 'O'},\n",
              " {'a': 'O'},\n",
              " {'massive': 'O'},\n",
              " {'tsunami-producing': 'O'},\n",
              " {'quake': 'O'},\n",
              " {'on': 'O'},\n",
              " {'December': 'O'},\n",
              " {'26': 'O'},\n",
              " {'.': 'O'},\n",
              " {'The': 'O'},\n",
              " {'latest': 'O'},\n",
              " {'official': 'O'},\n",
              " {'death': 'O'},\n",
              " {'toll': 'O'},\n",
              " {'from': 'O'},\n",
              " {'that': 'O'},\n",
              " {'tragedy': 'O'},\n",
              " {'stands': 'O'},\n",
              " {'at': 'O'},\n",
              " {'some': 'O'},\n",
              " {'1,76,000': 'O'},\n",
              " {'people': 'O'},\n",
              " {'killed': 'O'},\n",
              " {'-': 'O'},\n",
              " {'1,28,000': 'CARDINAL'},\n",
              " {'of': 'O'},\n",
              " {'them': 'O'},\n",
              " {'in': 'O'},\n",
              " {'Indonesia': 'GPE'},\n",
              " {'.': 'O'},\n",
              " {'Nearly': 'O'},\n",
              " {'50,000': 'O'},\n",
              " {'people': 'O'},\n",
              " {'are': 'O'},\n",
              " {'still': 'O'},\n",
              " {'listed': 'O'},\n",
              " {'as': 'O'},\n",
              " {'missing': 'O'},\n",
              " {',': 'O'},\n",
              " {'but': 'O'},\n",
              " {'most': 'O'},\n",
              " {'of': 'O'},\n",
              " {'them': 'O'},\n",
              " {'are': 'O'},\n",
              " {'feared': 'O'},\n",
              " {'dead': 'O'},\n",
              " {'.': 'O'},\n",
              " {'The': 'O'},\n",
              " {'U.S.': 'GPE'},\n",
              " {'rap': 'O'},\n",
              " {'star': 'O'},\n",
              " {'Snoop': 'O'},\n",
              " {'Dogg': 'O'},\n",
              " {'and': 'O'},\n",
              " {'five': 'CARDINAL'},\n",
              " {'of': 'O'},\n",
              " {'his': 'O'},\n",
              " {'associates': 'O'},\n",
              " {'have': 'O'},\n",
              " {'been': 'O'},\n",
              " {'arrested': 'O'},\n",
              " {'in': 'O'},\n",
              " {'Britain': 'GPE'},\n",
              " {'after': 'O'},\n",
              " {'a': 'O'},\n",
              " {'disturbance': 'O'},\n",
              " {'at': 'O'},\n",
              " {'London': 'GPE'},\n",
              " {\"'s\": 'O'},\n",
              " {'Heathrow': 'O'},\n",
              " {'Airport': 'O'},\n",
              " {'.': 'O'},\n",
              " {'Police': 'O'},\n",
              " {'told': 'O'},\n",
              " {'British': 'NORP'},\n",
              " {'media': 'O'},\n",
              " {'that': 'O'},\n",
              " {'the': 'O'},\n",
              " {'musician': 'O'},\n",
              " {',': 'O'},\n",
              " {'who': 'O'},\n",
              " {'was': 'O'},\n",
              " {'born': 'O'},\n",
              " {'with': 'O'},\n",
              " {'the': 'O'},\n",
              " {'name': 'O'},\n",
              " {'Calvin': 'O'},\n",
              " {'Broadus': 'O'},\n",
              " {',': 'O'},\n",
              " {'and': 'O'},\n",
              " {'members': 'O'},\n",
              " {'of': 'O'},\n",
              " {'his': 'O'},\n",
              " {'entourage': 'O'},\n",
              " {'were': 'O'},\n",
              " {'being': 'O'},\n",
              " {'held': 'O'},\n",
              " {'on': 'O'},\n",
              " {'charges': 'O'},\n",
              " {'of': 'O'},\n",
              " {'\"': 'O'},\n",
              " {'violent': 'O'},\n",
              " {'disorder': 'O'},\n",
              " {'and': 'O'},\n",
              " {'affray': 'O'},\n",
              " {'.': 'O'},\n",
              " {'\"': 'O'},\n",
              " {'The': 'O'},\n",
              " {'group': 'O'},\n",
              " {'was': 'O'},\n",
              " {'waiting': 'O'},\n",
              " {'for': 'O'},\n",
              " {'a': 'O'},\n",
              " {'flight': 'O'},\n",
              " {'to': 'O'},\n",
              " {'South': 'O'},\n",
              " {'Africa': 'O'},\n",
              " {',': 'O'},\n",
              " {'where': 'O'},\n",
              " {'Snoop': 'O'},\n",
              " {'Dogg': 'O'},\n",
              " {'was': 'O'},\n",
              " {'to': 'O'},\n",
              " {'perform': 'O'},\n",
              " {'in': 'O'},\n",
              " {'a': 'O'},\n",
              " {'concert': 'O'},\n",
              " {'Thursday': 'DATE'},\n",
              " {',': 'O'},\n",
              " {'when': 'O'},\n",
              " {'it': 'O'},\n",
              " {'was': 'O'},\n",
              " {'denied': 'O'},\n",
              " {'access': 'O'},\n",
              " {'to': 'O'},\n",
              " ...]"
            ]
          },
          "metadata": {
            "tags": []
          },
          "execution_count": 54
        }
      ]
    },
    {
      "cell_type": "code",
      "metadata": {
        "id": "OvpkWZwVp925"
      },
      "source": [
        "ner_stanza = [d.values() for d in dictionary]"
      ],
      "execution_count": 55,
      "outputs": []
    },
    {
      "cell_type": "code",
      "metadata": {
        "colab": {
          "base_uri": "https://localhost:8080/"
        },
        "id": "Ef3REi3yrf8P",
        "outputId": "f2a0053f-3757-495d-848e-979c7be69417"
      },
      "source": [
        "len(ner_stanza), len(dictionary)"
      ],
      "execution_count": 56,
      "outputs": [
        {
          "output_type": "execute_result",
          "data": {
            "text/plain": [
              "(109843, 109843)"
            ]
          },
          "metadata": {
            "tags": []
          },
          "execution_count": 56
        }
      ]
    },
    {
      "cell_type": "code",
      "metadata": {
        "id": "OrH7PRsBrkwT"
      },
      "source": [
        "data = data[0:109843]"
      ],
      "execution_count": 57,
      "outputs": []
    },
    {
      "cell_type": "code",
      "metadata": {
        "colab": {
          "base_uri": "https://localhost:8080/"
        },
        "id": "kBcFuagRNDv3",
        "outputId": "1fbb1bae-e069-48c3-80df-d155d3e27d54"
      },
      "source": [
        "len(data) # это количество слов в 5000 предложениях"
      ],
      "execution_count": 58,
      "outputs": [
        {
          "output_type": "execute_result",
          "data": {
            "text/plain": [
              "109843"
            ]
          },
          "metadata": {
            "tags": []
          },
          "execution_count": 58
        }
      ]
    },
    {
      "cell_type": "code",
      "metadata": {
        "colab": {
          "base_uri": "https://localhost:8080/",
          "height": 35
        },
        "id": "P0Q5mmGJNk8I",
        "outputId": "b39d9c88-f9e6-45aa-b4a2-1cee14d630a1"
      },
      "source": [
        "str(ner_stanza[2])[14:-3]"
      ],
      "execution_count": 59,
      "outputs": [
        {
          "output_type": "execute_result",
          "data": {
            "application/vnd.google.colaboratory.intrinsic+json": {
              "type": "string"
            },
            "text/plain": [
              "'O'"
            ]
          },
          "metadata": {
            "tags": []
          },
          "execution_count": 59
        }
      ]
    },
    {
      "cell_type": "code",
      "metadata": {
        "id": "xx8gWJzvNY8X"
      },
      "source": [
        "ner_stanza = [str(n)[14:-3] for n in ner_stanza]"
      ],
      "execution_count": 60,
      "outputs": []
    },
    {
      "cell_type": "code",
      "metadata": {
        "colab": {
          "base_uri": "https://localhost:8080/"
        },
        "id": "ImtIR2YYNFFx",
        "outputId": "0062a135-1a3a-4399-eb03-2164c36b4586"
      },
      "source": [
        "data['Tag_Stanza_results'] = ner_stanza"
      ],
      "execution_count": 61,
      "outputs": [
        {
          "output_type": "stream",
          "text": [
            "/usr/local/lib/python3.6/dist-packages/ipykernel_launcher.py:1: SettingWithCopyWarning: \n",
            "A value is trying to be set on a copy of a slice from a DataFrame.\n",
            "Try using .loc[row_indexer,col_indexer] = value instead\n",
            "\n",
            "See the caveats in the documentation: https://pandas.pydata.org/pandas-docs/stable/user_guide/indexing.html#returning-a-view-versus-a-copy\n",
            "  \"\"\"Entry point for launching an IPython kernel.\n"
          ],
          "name": "stderr"
        }
      ]
    },
    {
      "cell_type": "code",
      "metadata": {
        "colab": {
          "base_uri": "https://localhost:8080/"
        },
        "id": "zjXqIG80oPxW",
        "outputId": "94f64234-34dd-4ff2-bf93-ecb4e3b52177"
      },
      "source": [
        "set(data[\"Tag_Stanza_results\"].values.tolist())"
      ],
      "execution_count": 62,
      "outputs": [
        {
          "output_type": "execute_result",
          "data": {
            "text/plain": [
              "{'CARDINAL',\n",
              " 'DATE',\n",
              " 'EVENT',\n",
              " 'FAC',\n",
              " 'GPE',\n",
              " 'LANGUAGE',\n",
              " 'LOC',\n",
              " 'MONEY',\n",
              " 'NORP',\n",
              " 'O',\n",
              " 'ORDINAL',\n",
              " 'ORG',\n",
              " 'PERSON',\n",
              " 'PRODUCT',\n",
              " 'QUANTITY',\n",
              " 'TIME',\n",
              " 'WORK_OF_ART'}"
            ]
          },
          "metadata": {
            "tags": []
          },
          "execution_count": 62
        }
      ]
    },
    {
      "cell_type": "code",
      "metadata": {
        "id": "ulW16yYNNRZo"
      },
      "source": [
        "from sklearn.metrics import classification_report"
      ],
      "execution_count": 63,
      "outputs": []
    },
    {
      "cell_type": "code",
      "metadata": {
        "id": "O_3xofG1NT_B",
        "colab": {
          "base_uri": "https://localhost:8080/"
        },
        "outputId": "a4209290-3787-4b29-9bb4-f6c1225be1bc"
      },
      "source": [
        "true = data['Tag_stanza']\r\n",
        "pred = data['Tag_Stanza_results']\r\n",
        "print(classification_report(true, pred))"
      ],
      "execution_count": 64,
      "outputs": [
        {
          "output_type": "stream",
          "text": [
            "/usr/local/lib/python3.6/dist-packages/sklearn/metrics/_classification.py:1272: UndefinedMetricWarning: Precision and F-score are ill-defined and being set to 0.0 in labels with no predicted samples. Use `zero_division` parameter to control this behavior.\n",
            "  _warn_prf(average, modifier, msg_start, len(result))\n",
            "/usr/local/lib/python3.6/dist-packages/sklearn/metrics/_classification.py:1272: UndefinedMetricWarning: Recall and F-score are ill-defined and being set to 0.0 in labels with no true samples. Use `zero_division` parameter to control this behavior.\n",
            "  _warn_prf(average, modifier, msg_start, len(result))\n"
          ],
          "name": "stderr"
        },
        {
          "output_type": "stream",
          "text": [
            "              precision    recall  f1-score   support\n",
            "\n",
            "    CARDINAL       0.00      0.00      0.00         0\n",
            "        DATE       0.03      0.02      0.02      2609\n",
            "       EVENT       0.00      0.00      0.00       100\n",
            "         FAC       0.00      0.00      0.00         0\n",
            "         GPE       0.07      0.03      0.05      6424\n",
            "    LANGUAGE       0.00      0.00      0.00         0\n",
            "         LOC       0.00      0.00      0.00         0\n",
            "        MISC       0.00      0.00      0.00        46\n",
            "       MONEY       0.00      0.00      0.00         0\n",
            "        NORP       0.00      0.00      0.00         0\n",
            "           O       0.85      0.91      0.88     92990\n",
            "     ORDINAL       0.00      0.00      0.00         0\n",
            "         ORG       0.04      0.01      0.01      3743\n",
            "      PERSON       0.03      0.01      0.01      3813\n",
            "     PRODUCT       0.00      0.00      0.00         0\n",
            "    QUANTITY       0.00      0.00      0.00         0\n",
            "        TIME       0.00      0.00      0.00         0\n",
            " WORK_OF_ART       0.00      0.00      0.00       118\n",
            "\n",
            "    accuracy                           0.77    109843\n",
            "   macro avg       0.06      0.05      0.05    109843\n",
            "weighted avg       0.72      0.77      0.75    109843\n",
            "\n"
          ],
          "name": "stdout"
        }
      ]
    },
    {
      "cell_type": "code",
      "metadata": {
        "id": "Gm0aWKHa7zky",
        "colab": {
          "base_uri": "https://localhost:8080/"
        },
        "outputId": "a18d1fd7-d9bb-4c92-dc56-e1714cb51c6a"
      },
      "source": [
        "new_df['stanza_eng_results'] = ner_stanza[:2264]"
      ],
      "execution_count": 66,
      "outputs": [
        {
          "output_type": "stream",
          "text": [
            "/usr/local/lib/python3.6/dist-packages/ipykernel_launcher.py:1: SettingWithCopyWarning: \n",
            "A value is trying to be set on a copy of a slice from a DataFrame.\n",
            "Try using .loc[row_indexer,col_indexer] = value instead\n",
            "\n",
            "See the caveats in the documentation: https://pandas.pydata.org/pandas-docs/stable/user_guide/indexing.html#returning-a-view-versus-a-copy\n",
            "  \"\"\"Entry point for launching an IPython kernel.\n"
          ],
          "name": "stderr"
        }
      ]
    },
    {
      "cell_type": "code",
      "metadata": {
        "colab": {
          "base_uri": "https://localhost:8080/",
          "height": 202
        },
        "id": "gLivF7xtpKFn",
        "outputId": "4b33081c-e948-44e5-da7c-160e4db66f85"
      },
      "source": [
        "new_df.head()"
      ],
      "execution_count": 67,
      "outputs": [
        {
          "output_type": "execute_result",
          "data": {
            "text/html": [
              "<div>\n",
              "<style scoped>\n",
              "    .dataframe tbody tr th:only-of-type {\n",
              "        vertical-align: middle;\n",
              "    }\n",
              "\n",
              "    .dataframe tbody tr th {\n",
              "        vertical-align: top;\n",
              "    }\n",
              "\n",
              "    .dataframe thead th {\n",
              "        text-align: right;\n",
              "    }\n",
              "</style>\n",
              "<table border=\"1\" class=\"dataframe\">\n",
              "  <thead>\n",
              "    <tr style=\"text-align: right;\">\n",
              "      <th></th>\n",
              "      <th>Sentence #</th>\n",
              "      <th>Word</th>\n",
              "      <th>POS</th>\n",
              "      <th>Tag</th>\n",
              "      <th>Tag_flair</th>\n",
              "      <th>Tag_stanza</th>\n",
              "      <th>crf_results</th>\n",
              "      <th>stanza_eng_results</th>\n",
              "    </tr>\n",
              "  </thead>\n",
              "  <tbody>\n",
              "    <tr>\n",
              "      <th>0</th>\n",
              "      <td>Sentence: 1</td>\n",
              "      <td>Thousands</td>\n",
              "      <td>NNS</td>\n",
              "      <td>O</td>\n",
              "      <td>O</td>\n",
              "      <td>O</td>\n",
              "      <td>O</td>\n",
              "      <td>CARDINAL</td>\n",
              "    </tr>\n",
              "    <tr>\n",
              "      <th>1</th>\n",
              "      <td>Sentence: 1</td>\n",
              "      <td>of</td>\n",
              "      <td>IN</td>\n",
              "      <td>O</td>\n",
              "      <td>O</td>\n",
              "      <td>O</td>\n",
              "      <td>O</td>\n",
              "      <td>O</td>\n",
              "    </tr>\n",
              "    <tr>\n",
              "      <th>2</th>\n",
              "      <td>Sentence: 1</td>\n",
              "      <td>demonstrators</td>\n",
              "      <td>NNS</td>\n",
              "      <td>O</td>\n",
              "      <td>O</td>\n",
              "      <td>O</td>\n",
              "      <td>O</td>\n",
              "      <td>O</td>\n",
              "    </tr>\n",
              "    <tr>\n",
              "      <th>3</th>\n",
              "      <td>Sentence: 1</td>\n",
              "      <td>have</td>\n",
              "      <td>VBP</td>\n",
              "      <td>O</td>\n",
              "      <td>O</td>\n",
              "      <td>O</td>\n",
              "      <td>O</td>\n",
              "      <td>O</td>\n",
              "    </tr>\n",
              "    <tr>\n",
              "      <th>4</th>\n",
              "      <td>Sentence: 1</td>\n",
              "      <td>marched</td>\n",
              "      <td>VBN</td>\n",
              "      <td>O</td>\n",
              "      <td>O</td>\n",
              "      <td>O</td>\n",
              "      <td>O</td>\n",
              "      <td>O</td>\n",
              "    </tr>\n",
              "  </tbody>\n",
              "</table>\n",
              "</div>"
            ],
            "text/plain": [
              "    Sentence #           Word  POS  ... Tag_stanza crf_results stanza_eng_results\n",
              "0  Sentence: 1      Thousands  NNS  ...          O           O           CARDINAL\n",
              "1  Sentence: 1             of   IN  ...          O           O                  O\n",
              "2  Sentence: 1  demonstrators  NNS  ...          O           O                  O\n",
              "3  Sentence: 1           have  VBP  ...          O           O                  O\n",
              "4  Sentence: 1        marched  VBN  ...          O           O                  O\n",
              "\n",
              "[5 rows x 8 columns]"
            ]
          },
          "metadata": {
            "tags": []
          },
          "execution_count": 67
        }
      ]
    },
    {
      "cell_type": "code",
      "metadata": {
        "id": "Gkjq-Jt6pRWa"
      },
      "source": [
        "new_df.to_csv('CRF.csv')"
      ],
      "execution_count": 68,
      "outputs": []
    },
    {
      "cell_type": "code",
      "metadata": {
        "colab": {
          "base_uri": "https://localhost:8080/",
          "height": 17
        },
        "id": "WrSXT7QlpXF_",
        "outputId": "ea468676-57d9-4892-9727-891564cdfa5b"
      },
      "source": [
        "from google.colab import files\r\n",
        "files.download(\"CRF.csv\")"
      ],
      "execution_count": 70,
      "outputs": [
        {
          "output_type": "display_data",
          "data": {
            "application/javascript": [
              "\n",
              "    async function download(id, filename, size) {\n",
              "      if (!google.colab.kernel.accessAllowed) {\n",
              "        return;\n",
              "      }\n",
              "      const div = document.createElement('div');\n",
              "      const label = document.createElement('label');\n",
              "      label.textContent = `Downloading \"${filename}\": `;\n",
              "      div.appendChild(label);\n",
              "      const progress = document.createElement('progress');\n",
              "      progress.max = size;\n",
              "      div.appendChild(progress);\n",
              "      document.body.appendChild(div);\n",
              "\n",
              "      const buffers = [];\n",
              "      let downloaded = 0;\n",
              "\n",
              "      const channel = await google.colab.kernel.comms.open(id);\n",
              "      // Send a message to notify the kernel that we're ready.\n",
              "      channel.send({})\n",
              "\n",
              "      for await (const message of channel.messages) {\n",
              "        // Send a message to notify the kernel that we're ready.\n",
              "        channel.send({})\n",
              "        if (message.buffers) {\n",
              "          for (const buffer of message.buffers) {\n",
              "            buffers.push(buffer);\n",
              "            downloaded += buffer.byteLength;\n",
              "            progress.value = downloaded;\n",
              "          }\n",
              "        }\n",
              "      }\n",
              "      const blob = new Blob(buffers, {type: 'application/binary'});\n",
              "      const a = document.createElement('a');\n",
              "      a.href = window.URL.createObjectURL(blob);\n",
              "      a.download = filename;\n",
              "      div.appendChild(a);\n",
              "      a.click();\n",
              "      div.remove();\n",
              "    }\n",
              "  "
            ],
            "text/plain": [
              "<IPython.core.display.Javascript object>"
            ]
          },
          "metadata": {
            "tags": []
          }
        },
        {
          "output_type": "display_data",
          "data": {
            "application/javascript": [
              "download(\"download_8df77d90-d5c3-4aab-99bd-3620563bf6c2\", \"CRF.csv\", 87624)"
            ],
            "text/plain": [
              "<IPython.core.display.Javascript object>"
            ]
          },
          "metadata": {
            "tags": []
          }
        }
      ]
    },
    {
      "cell_type": "code",
      "metadata": {
        "id": "kM1i_prnpbmA"
      },
      "source": [
        ""
      ],
      "execution_count": null,
      "outputs": []
    }
  ]
}