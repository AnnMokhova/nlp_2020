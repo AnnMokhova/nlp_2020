{
 "cells": [
  {
   "cell_type": "markdown",
   "metadata": {},
   "source": [
    "Возьмем 100 предложений из датасета http://labinform.ru/pub/named_entities/descr_ne.htm для тестирования адаптации stanza, основанного на методе Conditional Random Fields "
   ]
  },
  {
   "cell_type": "code",
   "execution_count": 34,
   "metadata": {},
   "outputs": [],
   "source": [
    "import os\n",
    "\n",
    "curr_dir = os.getcwd()\n",
    "filepath = os.path.join(curr_dir, 'Collection5')"
   ]
  },
  {
   "cell_type": "code",
   "execution_count": 35,
   "metadata": {},
   "outputs": [],
   "source": [
    "filepaths = []\n",
    "\n",
    "for root, dirs, files in os.walk(filepath):\n",
    "    for name in files:\n",
    "        if name.endswith('txt'):\n",
    "            filepaths.append(os.path.join(root, name))"
   ]
  },
  {
   "cell_type": "code",
   "execution_count": 36,
   "metadata": {},
   "outputs": [],
   "source": [
    "filepaths = filepaths[:100]"
   ]
  },
  {
   "cell_type": "code",
   "execution_count": 13,
   "metadata": {},
   "outputs": [
    {
     "name": "stdout",
     "output_type": "stream",
     "text": [
      "Collecting stanza\n",
      "  Downloading stanza-1.1.1-py3-none-any.whl (227 kB)\n",
      "Requirement already satisfied: requests in c:\\users\\vital\\anaconda3\\lib\\site-packages (from stanza) (2.22.0)\n",
      "Requirement already satisfied: tqdm in c:\\users\\vital\\anaconda3\\lib\\site-packages (from stanza) (4.41.1)\n",
      "Collecting torch>=1.3.0\n",
      "  Downloading torch-1.7.1-cp38-cp38-win_amd64.whl (184.0 MB)\n",
      "Requirement already satisfied: numpy in c:\\users\\vital\\anaconda3\\lib\\site-packages (from stanza) (1.18.0)\n",
      "Requirement already satisfied: protobuf in c:\\users\\vital\\anaconda3\\lib\\site-packages (from stanza) (3.14.0)\n",
      "Requirement already satisfied: urllib3!=1.25.0,!=1.25.1,<1.26,>=1.21.1 in c:\\users\\vital\\anaconda3\\lib\\site-packages (from requests->stanza) (1.25.10)\n",
      "Requirement already satisfied: idna<2.9,>=2.5 in c:\\users\\vital\\anaconda3\\lib\\site-packages (from requests->stanza) (2.8)\n",
      "Requirement already satisfied: chardet<3.1.0,>=3.0.2 in c:\\users\\vital\\anaconda3\\lib\\site-packages (from requests->stanza) (3.0.4)\n",
      "Requirement already satisfied: certifi>=2017.4.17 in c:\\users\\vital\\anaconda3\\lib\\site-packages (from requests->stanza) (2020.6.20)\n",
      "Requirement already satisfied: typing-extensions in c:\\users\\vital\\anaconda3\\lib\\site-packages (from torch>=1.3.0->stanza) (3.7.4.2)\n",
      "Requirement already satisfied: six>=1.9 in c:\\users\\vital\\anaconda3\\lib\\site-packages (from protobuf->stanza) (1.15.0)\n",
      "Installing collected packages: torch, stanza\n",
      "Successfully installed stanza-1.1.1 torch-1.7.1\n",
      "Note: you may need to restart the kernel to use updated packages.\n"
     ]
    },
    {
     "name": "stderr",
     "output_type": "stream",
     "text": [
      "WARNING: You are using pip version 20.2.3; however, version 20.3.3 is available.\n",
      "You should consider upgrading via the 'C:\\Users\\vital\\anaconda3\\python.exe -m pip install --upgrade pip' command.\n"
     ]
    }
   ],
   "source": [
    "pip install stanza"
   ]
  },
  {
   "cell_type": "code",
   "execution_count": 14,
   "metadata": {},
   "outputs": [],
   "source": [
    "import stanza"
   ]
  },
  {
   "cell_type": "code",
   "execution_count": 15,
   "metadata": {},
   "outputs": [
    {
     "name": "stderr",
     "output_type": "stream",
     "text": [
      "Downloading https://raw.githubusercontent.com/stanfordnlp/stanza-resources/master/resources_1.1.0.json: 122kB [00:00, 6.95MB/s]\n",
      "2020-12-22 00:27:45 INFO: Downloading default packages for language: ru (Russian)...\n",
      "Downloading http://nlp.stanford.edu/software/stanza/1.1.0/ru/default.zip: 100%|██████| 591M/591M [19:26<00:00, 507kB/s]\n",
      "2020-12-22 00:47:29 INFO: Finished downloading models and saved to C:\\Users\\vital\\stanza_resources.\n"
     ]
    }
   ],
   "source": [
    "stanza.download('ru')"
   ]
  },
  {
   "cell_type": "code",
   "execution_count": 16,
   "metadata": {},
   "outputs": [
    {
     "name": "stderr",
     "output_type": "stream",
     "text": [
      "2020-12-22 01:19:51 INFO: Loading these models for language: ru (Russian):\n",
      "=========================\n",
      "| Processor | Package   |\n",
      "-------------------------\n",
      "| tokenize  | syntagrus |\n",
      "| ner       | wikiner   |\n",
      "=========================\n",
      "\n",
      "2020-12-22 01:19:51 INFO: Use device: cpu\n",
      "2020-12-22 01:19:51 INFO: Loading: tokenize\n",
      "2020-12-22 01:19:52 INFO: Loading: ner\n",
      "2020-12-22 01:19:55 INFO: Done loading processors!\n"
     ]
    }
   ],
   "source": [
    "nlp = stanza.Pipeline(lang='ru', processors='tokenize,ner')"
   ]
  },
  {
   "cell_type": "code",
   "execution_count": 44,
   "metadata": {},
   "outputs": [
    {
     "data": {
      "text/plain": [
       "'001'"
      ]
     },
     "execution_count": 44,
     "metadata": {},
     "output_type": "execute_result"
    }
   ],
   "source": [
    "filepaths[0][27:-4]"
   ]
  },
  {
   "cell_type": "code",
   "execution_count": 45,
   "metadata": {},
   "outputs": [],
   "source": [
    "for filename in filepaths:\n",
    "    with open(filename, 'r', encoding='utf-8') as f:\n",
    "        text = f.read()\n",
    "        doc = nlp(text)\n",
    "        res = ''\n",
    "        for sent in doc.sentences:\n",
    "            for ent in sent.ents:\n",
    "                #print(ent)\n",
    "                res += str(ent)\n",
    "        new_filename = filename[27:-4] + '_results.txt' \n",
    "        with open(new_filename, 'w+', encoding='utf-8') as fl:\n",
    "            fl.write(res)"
   ]
  },
  {
   "cell_type": "code",
   "execution_count": null,
   "metadata": {},
   "outputs": [],
   "source": []
  }
 ],
 "metadata": {
  "kernelspec": {
   "display_name": "Python 3",
   "language": "python",
   "name": "python3"
  },
  "language_info": {
   "codemirror_mode": {
    "name": "ipython",
    "version": 3
   },
   "file_extension": ".py",
   "mimetype": "text/x-python",
   "name": "python",
   "nbconvert_exporter": "python",
   "pygments_lexer": "ipython3",
   "version": "3.8.3"
  }
 },
 "nbformat": 4,
 "nbformat_minor": 4
}
