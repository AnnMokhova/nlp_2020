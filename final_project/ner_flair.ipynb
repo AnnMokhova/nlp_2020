{
  "nbformat": 4,
  "nbformat_minor": 0,
  "metadata": {
    "colab": {
      "name": "ner_flair_v2.ipynb",
      "provenance": [],
      "collapsed_sections": []
    },
    "kernelspec": {
      "name": "python3",
      "display_name": "Python 3"
    }
  },
  "cells": [
    {
      "cell_type": "markdown",
      "metadata": {
        "id": "_tdtOH0UPhR9"
      },
      "source": [
        "Устанавливаем flair"
      ]
    },
    {
      "cell_type": "code",
      "metadata": {
        "id": "tNmuKatjPjBM"
      },
      "source": [
        "!pip install flair"
      ],
      "execution_count": null,
      "outputs": []
    },
    {
      "cell_type": "markdown",
      "metadata": {
        "id": "iH8I74s6PnvI"
      },
      "source": [
        "Загружаем тестовый датасет"
      ]
    },
    {
      "cell_type": "code",
      "metadata": {
        "colab": {
          "base_uri": "https://localhost:8080/"
        },
        "id": "UtO6kOqkAyEs",
        "outputId": "858a114b-795d-49e4-8abb-6f457579365c"
      },
      "source": [
        "# from google.colab import drive\r\n",
        "# drive.mount('gdrive')\r\n",
        "\r\n",
        "# %cd /content/gdrive/My Drive/"
      ],
      "execution_count": null,
      "outputs": [
        {
          "output_type": "stream",
          "text": [
            "/content/gdrive/My Drive\n"
          ],
          "name": "stdout"
        }
      ]
    },
    {
      "cell_type": "code",
      "metadata": {
        "id": "_RHeIFA2BIOX"
      },
      "source": [
        "import pandas as pd\r\n",
        "import numpy as np"
      ],
      "execution_count": null,
      "outputs": []
    },
    {
      "cell_type": "code",
      "metadata": {
        "id": "pm6oAj7OPrdI"
      },
      "source": [
        "data = pd.read_csv(\"ner_dataset.csv\", encoding=\"latin1\")\r\n",
        "data = data.fillna(method=\"ffill\")"
      ],
      "execution_count": null,
      "outputs": []
    },
    {
      "cell_type": "markdown",
      "metadata": {
        "id": "yHrJMnqNPutw"
      },
      "source": [
        "Класс собирает слова из датасета в предложения"
      ]
    },
    {
      "cell_type": "code",
      "metadata": {
        "id": "KmwyZuHiPsFP"
      },
      "source": [
        "class SentenceGetter(object):\r\n",
        "    \r\n",
        "    def __init__(self, data):\r\n",
        "        self.n_sent = 1\r\n",
        "        self.data = data\r\n",
        "        self.empty = False\r\n",
        "        agg_func = lambda s: [(w, p, t) for w, p, t in zip(s[\"Word\"].values.tolist(),\r\n",
        "                                                           s[\"POS\"].values.tolist(),\r\n",
        "                                                           s[\"Tag\"].values.tolist())]\r\n",
        "        self.grouped = self.data.groupby(\"Sentence #\").apply(agg_func)\r\n",
        "        self.sentences = [s for s in self.grouped]\r\n",
        "    \r\n",
        "    def get_next(self):\r\n",
        "        try:\r\n",
        "            s = self.grouped[\"Sentence: {}\".format(self.n_sent)]\r\n",
        "            self.n_sent += 1\r\n",
        "            return s\r\n",
        "        except:\r\n",
        "            return None"
      ],
      "execution_count": null,
      "outputs": []
    },
    {
      "cell_type": "markdown",
      "metadata": {
        "id": "zkC1nxL4PyEh"
      },
      "source": [
        "Собираем корпус из предложений"
      ]
    },
    {
      "cell_type": "code",
      "metadata": {
        "id": "B6TMjgjkPyyr"
      },
      "source": [
        "getter = SentenceGetter(data)\r\n",
        "sentences = getter.sentences\r\n",
        "texts = []\r\n",
        "for sent in sentences:\r\n",
        "    text = ' '.join([str(s[0]) for s in sent])\r\n",
        "    texts.append(text)"
      ],
      "execution_count": null,
      "outputs": []
    },
    {
      "cell_type": "markdown",
      "metadata": {
        "id": "gejPGtR5QUmH"
      },
      "source": [
        "Функции для отображения лейблов в предложении - каждому предложению соответствует список лейблов"
      ]
    },
    {
      "cell_type": "code",
      "metadata": {
        "id": "SqbpH58RP0v6"
      },
      "source": [
        "def sent2labels(sent):\r\n",
        "    return [label for token, postag, label in sent]\r\n",
        "\r\n",
        "def sent2tokens(sent):\r\n",
        "    return [token for token, postag, label in sent]"
      ],
      "execution_count": null,
      "outputs": []
    },
    {
      "cell_type": "markdown",
      "metadata": {
        "id": "Y_8vLl1PP6yp"
      },
      "source": [
        "Собираем датафрейм: text - текст предожения, labels - список лейблов"
      ]
    },
    {
      "cell_type": "code",
      "metadata": {
        "id": "1fWgSjySP7mJ"
      },
      "source": [
        "df = pd.DataFrame(data=texts, columns=['text'])\r\n",
        "y = [sent2labels(s) for s in sentences]\r\n",
        "df['labels'] = y"
      ],
      "execution_count": null,
      "outputs": []
    },
    {
      "cell_type": "markdown",
      "metadata": {
        "id": "XYDjZUrkP8zf"
      },
      "source": [
        "Прогоняем предложения через flair: flair_sent_full для 100 примеров с полной разметкой, flair_sent_labels - для теста (только лейблы)"
      ]
    },
    {
      "cell_type": "code",
      "metadata": {
        "id": "FgWNEZYHP_ED"
      },
      "source": [
        "from flair.data import Sentence\r\n",
        "from flair.models import SequenceTagger\r\n",
        "import re"
      ],
      "execution_count": null,
      "outputs": []
    },
    {
      "cell_type": "code",
      "metadata": {
        "id": "3YoIC0duQAME"
      },
      "source": [
        "tagger = SequenceTagger.load('ner')"
      ],
      "execution_count": null,
      "outputs": []
    },
    {
      "cell_type": "code",
      "metadata": {
        "id": "hljWvhIPQCZ_"
      },
      "source": [
        "def flair_sent_full(text):\r\n",
        "  sentence = Sentence(text)\r\n",
        "  tagger.predict(sentence)\r\n",
        "  sd = sentence.to_dict(tag_type='ner')\r\n",
        "  ners = []\r\n",
        "  for entity in sd['entities']:\r\n",
        "      ners.append(entity)\r\n",
        "  return ners"
      ],
      "execution_count": null,
      "outputs": []
    },
    {
      "cell_type": "code",
      "metadata": {
        "id": "0C96dlywQDzT"
      },
      "source": [
        "def flair_sent_labels(text):\r\n",
        "  sentence = Sentence(text)\r\n",
        "  tagger.predict(sentence)\r\n",
        "  sd = sentence.to_dict(tag_type='ner')\r\n",
        "  ners = []\r\n",
        "  for entity in sd['entities']:\r\n",
        "    ner = entity['labels'][0]\r\n",
        "    r = re.search('[A-Z]+', str(entity['labels'][0]))\r\n",
        "    if r:\r\n",
        "      ners.append(r.group())\r\n",
        "  return ners"
      ],
      "execution_count": null,
      "outputs": []
    },
    {
      "cell_type": "markdown",
      "metadata": {
        "id": "xon1DzfZQGMI"
      },
      "source": [
        "Датафрейм для 100 примеров: нам нужна полная информация о разметке flair для последующего анализа"
      ]
    },
    {
      "cell_type": "code",
      "metadata": {
        "id": "G-XfZg4tQG62"
      },
      "source": [
        "df1 = df.iloc[:100]"
      ],
      "execution_count": null,
      "outputs": []
    },
    {
      "cell_type": "code",
      "metadata": {
        "id": "q9AxsKKwQIMR"
      },
      "source": [
        "df1['flair'] = df1.apply(lambda row: flair_sent_full(row['text']), axis=1)"
      ],
      "execution_count": null,
      "outputs": []
    },
    {
      "cell_type": "code",
      "metadata": {
        "id": "9whzMkkEQIQ_"
      },
      "source": [
        "df1.to_pickle(\"./100_full.pkl\")"
      ],
      "execution_count": null,
      "outputs": []
    },
    {
      "cell_type": "markdown",
      "metadata": {
        "id": "_MO19w1KQMyo"
      },
      "source": [
        "Полный датафрейм: 5к размеченных предложений"
      ]
    },
    {
      "cell_type": "code",
      "metadata": {
        "id": "-1x1jvc7Qcnx"
      },
      "source": [
        "df2 = df.iloc[:5000]"
      ],
      "execution_count": null,
      "outputs": []
    },
    {
      "cell_type": "code",
      "metadata": {
        "id": "4mYFixWkQd4G"
      },
      "source": [
        "df2['flair'] = df2.apply(lambda row: flair_sent_labels(row['text']), axis=1)"
      ],
      "execution_count": null,
      "outputs": []
    },
    {
      "cell_type": "code",
      "metadata": {
        "id": "PujI9IH8Qgr6"
      },
      "source": [
        "df2.to_pickle(\"./with_flair.pkl\")"
      ],
      "execution_count": null,
      "outputs": []
    },
    {
      "cell_type": "markdown",
      "metadata": {
        "id": "IRNRJLsOQiaN"
      },
      "source": [
        "Приведем разметку к одному виду - flair"
      ]
    },
    {
      "cell_type": "code",
      "metadata": {
        "id": "hWTbPL16Qi9u"
      },
      "source": [
        "def change_labels(labels):\r\n",
        "  new = []\r\n",
        "  for label in labels:\r\n",
        "    if label == 'B-per':\r\n",
        "      new.append('PER')\r\n",
        "    if label in ['B-geo', 'B-gpe']:\r\n",
        "      new.append('LOC')\r\n",
        "    if label == 'B-org':\r\n",
        "      new.append('ORG')\r\n",
        "    if label in ['B-art', 'B-eve', 'B-nat']:\r\n",
        "      new.append('MISC')\r\n",
        "  return new"
      ],
      "execution_count": null,
      "outputs": []
    },
    {
      "cell_type": "code",
      "metadata": {
        "id": "_n965V1nQkcg"
      },
      "source": [
        "df3 = pd.read_pickle(\"./with_flair.pkl\")"
      ],
      "execution_count": null,
      "outputs": []
    },
    {
      "cell_type": "code",
      "metadata": {
        "id": "TLkpXyeRQmfN"
      },
      "source": [
        "df3['labels_flaired'] = df3.apply(lambda row: change_labels(row['labels']), axis=1)"
      ],
      "execution_count": null,
      "outputs": []
    },
    {
      "cell_type": "markdown",
      "metadata": {
        "id": "B5hHD0TpQrAY"
      },
      "source": [
        "Сравним качество"
      ]
    },
    {
      "cell_type": "code",
      "metadata": {
        "id": "BMqTLaY2A9zc"
      },
      "source": [
        "from sklearn.metrics import classification_report, accuracy_score\r\n",
        "from sklearn.preprocessing import MultiLabelBinarizer"
      ],
      "execution_count": null,
      "outputs": []
    },
    {
      "cell_type": "code",
      "metadata": {
        "id": "vWpGvxBCBo5v"
      },
      "source": [
        "y_true = MultiLabelBinarizer().fit_transform(df3['labels_flaired'])\r\n",
        "y_pred = MultiLabelBinarizer().fit_transform(df3['flair'])"
      ],
      "execution_count": null,
      "outputs": []
    },
    {
      "cell_type": "code",
      "metadata": {
        "colab": {
          "base_uri": "https://localhost:8080/"
        },
        "id": "YbNFD07CCChm",
        "outputId": "b140e5b5-41c8-4253-a4a8-81678aa2ba38"
      },
      "source": [
        "print(classification_report(y_true, y_pred, target_names=['LOC', 'MISC', 'ORG', 'PER']))"
      ],
      "execution_count": null,
      "outputs": [
        {
          "output_type": "stream",
          "text": [
            "              precision    recall  f1-score   support\n",
            "\n",
            "         LOC       0.92      0.82      0.86      3108\n",
            "        MISC       0.04      0.73      0.07        92\n",
            "         ORG       0.85      0.62      0.71      1695\n",
            "         PER       0.88      0.92      0.90      1363\n",
            "\n",
            "   micro avg       0.67      0.78      0.72      6258\n",
            "   macro avg       0.67      0.77      0.64      6258\n",
            "weighted avg       0.88      0.78      0.82      6258\n",
            " samples avg       0.56      0.62      0.57      6258\n",
            "\n"
          ],
          "name": "stdout"
        },
        {
          "output_type": "stream",
          "text": [
            "/usr/local/lib/python3.6/dist-packages/sklearn/metrics/_classification.py:1272: UndefinedMetricWarning: Precision and F-score are ill-defined and being set to 0.0 in samples with no predicted labels. Use `zero_division` parameter to control this behavior.\n",
            "  _warn_prf(average, modifier, msg_start, len(result))\n",
            "/usr/local/lib/python3.6/dist-packages/sklearn/metrics/_classification.py:1272: UndefinedMetricWarning: Recall and F-score are ill-defined and being set to 0.0 in samples with no true labels. Use `zero_division` parameter to control this behavior.\n",
            "  _warn_prf(average, modifier, msg_start, len(result))\n"
          ],
          "name": "stderr"
        }
      ]
    },
    {
      "cell_type": "code",
      "metadata": {
        "id": "aRCFii3fBJmg"
      },
      "source": [
        "df3.to_pickle(\"./final_5k.pkl\")"
      ],
      "execution_count": null,
      "outputs": []
    }
  ]
}