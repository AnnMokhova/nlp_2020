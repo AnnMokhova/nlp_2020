{
  "nbformat": 4,
  "nbformat_minor": 0,
  "metadata": {
    "colab": {
      "name": "bi_lstm_ner.ipynb",
      "provenance": []
    },
    "kernelspec": {
      "name": "python3",
      "display_name": "Python 3"
    }
  },
  "cells": [
    {
      "cell_type": "code",
      "metadata": {
        "colab": {
          "base_uri": "https://localhost:8080/"
        },
        "id": "XDuuxjtt-Jgv",
        "outputId": "6094d9b5-b115-46d0-e91c-4d0fe4ae3be3"
      },
      "source": [
        "from google.colab import drive\n",
        "drive.mount('gdrive')"
      ],
      "execution_count": 1,
      "outputs": [
        {
          "output_type": "stream",
          "text": [
            "Mounted at gdrive\n"
          ],
          "name": "stdout"
        }
      ]
    },
    {
      "cell_type": "code",
      "metadata": {
        "colab": {
          "base_uri": "https://localhost:8080/"
        },
        "id": "WkoT7B92F88K",
        "outputId": "14194df8-f810-478b-a5c8-9a45c334d369"
      },
      "source": [
        "%cd /content/gdrive/MyDrive/Вышечка/4 курс/автобрея/проект"
      ],
      "execution_count": 2,
      "outputs": [
        {
          "output_type": "stream",
          "text": [
            "/content/gdrive/MyDrive/Вышечка/4 курс/автобрея/проект\n"
          ],
          "name": "stdout"
        }
      ]
    },
    {
      "cell_type": "code",
      "metadata": {
        "colab": {
          "base_uri": "https://localhost:8080/"
        },
        "id": "yWfXIHt0F8Pe",
        "outputId": "14881245-3163-4b3a-b99d-a0fd1b99321c"
      },
      "source": [
        "%matplotlib inline\n",
        "import matplotlib.pyplot as plt\n",
        "import pandas as pd\n",
        "import numpy as np\n",
        "np.random.seed(0)\n",
        "plt.style.use(\"ggplot\")\n",
        "\n",
        "import tensorflow as tf\n",
        "print('Tensorflow version:', tf.__version__)\n",
        "print('GPU detected:', tf.config.list_physical_devices('GPU'))"
      ],
      "execution_count": 3,
      "outputs": [
        {
          "output_type": "stream",
          "text": [
            "Tensorflow version: 2.4.0\n",
            "GPU detected: []\n"
          ],
          "name": "stdout"
        }
      ]
    },
    {
      "cell_type": "code",
      "metadata": {
        "colab": {
          "base_uri": "https://localhost:8080/"
        },
        "id": "1VwnIx0IaPJn",
        "outputId": "0715aaed-256a-4793-c067-10f06e840ebd"
      },
      "source": [
        "!pip install tensorflow --upgrade"
      ],
      "execution_count": 4,
      "outputs": [
        {
          "output_type": "stream",
          "text": [
            "Requirement already up-to-date: tensorflow in /usr/local/lib/python3.6/dist-packages (2.4.0)\n",
            "Requirement already satisfied, skipping upgrade: termcolor~=1.1.0 in /usr/local/lib/python3.6/dist-packages (from tensorflow) (1.1.0)\n",
            "Requirement already satisfied, skipping upgrade: keras-preprocessing~=1.1.2 in /usr/local/lib/python3.6/dist-packages (from tensorflow) (1.1.2)\n",
            "Requirement already satisfied, skipping upgrade: opt-einsum~=3.3.0 in /usr/local/lib/python3.6/dist-packages (from tensorflow) (3.3.0)\n",
            "Requirement already satisfied, skipping upgrade: google-pasta~=0.2 in /usr/local/lib/python3.6/dist-packages (from tensorflow) (0.2.0)\n",
            "Requirement already satisfied, skipping upgrade: absl-py~=0.10 in /usr/local/lib/python3.6/dist-packages (from tensorflow) (0.10.0)\n",
            "Requirement already satisfied, skipping upgrade: tensorflow-estimator<2.5.0,>=2.4.0rc0 in /usr/local/lib/python3.6/dist-packages (from tensorflow) (2.4.0)\n",
            "Requirement already satisfied, skipping upgrade: wheel~=0.35 in /usr/local/lib/python3.6/dist-packages (from tensorflow) (0.36.2)\n",
            "Requirement already satisfied, skipping upgrade: astunparse~=1.6.3 in /usr/local/lib/python3.6/dist-packages (from tensorflow) (1.6.3)\n",
            "Requirement already satisfied, skipping upgrade: wrapt~=1.12.1 in /usr/local/lib/python3.6/dist-packages (from tensorflow) (1.12.1)\n",
            "Requirement already satisfied, skipping upgrade: grpcio~=1.32.0 in /usr/local/lib/python3.6/dist-packages (from tensorflow) (1.32.0)\n",
            "Requirement already satisfied, skipping upgrade: six~=1.15.0 in /usr/local/lib/python3.6/dist-packages (from tensorflow) (1.15.0)\n",
            "Requirement already satisfied, skipping upgrade: numpy~=1.19.2 in /usr/local/lib/python3.6/dist-packages (from tensorflow) (1.19.4)\n",
            "Requirement already satisfied, skipping upgrade: h5py~=2.10.0 in /usr/local/lib/python3.6/dist-packages (from tensorflow) (2.10.0)\n",
            "Requirement already satisfied, skipping upgrade: typing-extensions~=3.7.4 in /usr/local/lib/python3.6/dist-packages (from tensorflow) (3.7.4.3)\n",
            "Requirement already satisfied, skipping upgrade: tensorboard~=2.4 in /usr/local/lib/python3.6/dist-packages (from tensorflow) (2.4.0)\n",
            "Requirement already satisfied, skipping upgrade: protobuf>=3.9.2 in /usr/local/lib/python3.6/dist-packages (from tensorflow) (3.12.4)\n",
            "Requirement already satisfied, skipping upgrade: flatbuffers~=1.12.0 in /usr/local/lib/python3.6/dist-packages (from tensorflow) (1.12)\n",
            "Requirement already satisfied, skipping upgrade: gast==0.3.3 in /usr/local/lib/python3.6/dist-packages (from tensorflow) (0.3.3)\n",
            "Requirement already satisfied, skipping upgrade: werkzeug>=0.11.15 in /usr/local/lib/python3.6/dist-packages (from tensorboard~=2.4->tensorflow) (1.0.1)\n",
            "Requirement already satisfied, skipping upgrade: setuptools>=41.0.0 in /usr/local/lib/python3.6/dist-packages (from tensorboard~=2.4->tensorflow) (50.3.2)\n",
            "Requirement already satisfied, skipping upgrade: markdown>=2.6.8 in /usr/local/lib/python3.6/dist-packages (from tensorboard~=2.4->tensorflow) (3.3.3)\n",
            "Requirement already satisfied, skipping upgrade: requests<3,>=2.21.0 in /usr/local/lib/python3.6/dist-packages (from tensorboard~=2.4->tensorflow) (2.23.0)\n",
            "Requirement already satisfied, skipping upgrade: google-auth<2,>=1.6.3 in /usr/local/lib/python3.6/dist-packages (from tensorboard~=2.4->tensorflow) (1.17.2)\n",
            "Requirement already satisfied, skipping upgrade: tensorboard-plugin-wit>=1.6.0 in /usr/local/lib/python3.6/dist-packages (from tensorboard~=2.4->tensorflow) (1.7.0)\n",
            "Requirement already satisfied, skipping upgrade: google-auth-oauthlib<0.5,>=0.4.1 in /usr/local/lib/python3.6/dist-packages (from tensorboard~=2.4->tensorflow) (0.4.2)\n",
            "Requirement already satisfied, skipping upgrade: importlib-metadata; python_version < \"3.8\" in /usr/local/lib/python3.6/dist-packages (from markdown>=2.6.8->tensorboard~=2.4->tensorflow) (3.3.0)\n",
            "Requirement already satisfied, skipping upgrade: idna<3,>=2.5 in /usr/local/lib/python3.6/dist-packages (from requests<3,>=2.21.0->tensorboard~=2.4->tensorflow) (2.10)\n",
            "Requirement already satisfied, skipping upgrade: chardet<4,>=3.0.2 in /usr/local/lib/python3.6/dist-packages (from requests<3,>=2.21.0->tensorboard~=2.4->tensorflow) (3.0.4)\n",
            "Requirement already satisfied, skipping upgrade: certifi>=2017.4.17 in /usr/local/lib/python3.6/dist-packages (from requests<3,>=2.21.0->tensorboard~=2.4->tensorflow) (2020.12.5)\n",
            "Requirement already satisfied, skipping upgrade: urllib3!=1.25.0,!=1.25.1,<1.26,>=1.21.1 in /usr/local/lib/python3.6/dist-packages (from requests<3,>=2.21.0->tensorboard~=2.4->tensorflow) (1.24.3)\n",
            "Requirement already satisfied, skipping upgrade: rsa<5,>=3.1.4; python_version >= \"3\" in /usr/local/lib/python3.6/dist-packages (from google-auth<2,>=1.6.3->tensorboard~=2.4->tensorflow) (4.6)\n",
            "Requirement already satisfied, skipping upgrade: pyasn1-modules>=0.2.1 in /usr/local/lib/python3.6/dist-packages (from google-auth<2,>=1.6.3->tensorboard~=2.4->tensorflow) (0.2.8)\n",
            "Requirement already satisfied, skipping upgrade: cachetools<5.0,>=2.0.0 in /usr/local/lib/python3.6/dist-packages (from google-auth<2,>=1.6.3->tensorboard~=2.4->tensorflow) (4.2.0)\n",
            "Requirement already satisfied, skipping upgrade: requests-oauthlib>=0.7.0 in /usr/local/lib/python3.6/dist-packages (from google-auth-oauthlib<0.5,>=0.4.1->tensorboard~=2.4->tensorflow) (1.3.0)\n",
            "Requirement already satisfied, skipping upgrade: zipp>=0.5 in /usr/local/lib/python3.6/dist-packages (from importlib-metadata; python_version < \"3.8\"->markdown>=2.6.8->tensorboard~=2.4->tensorflow) (3.4.0)\n",
            "Requirement already satisfied, skipping upgrade: pyasn1>=0.1.3 in /usr/local/lib/python3.6/dist-packages (from rsa<5,>=3.1.4; python_version >= \"3\"->google-auth<2,>=1.6.3->tensorboard~=2.4->tensorflow) (0.4.8)\n",
            "Requirement already satisfied, skipping upgrade: oauthlib>=3.0.0 in /usr/local/lib/python3.6/dist-packages (from requests-oauthlib>=0.7.0->google-auth-oauthlib<0.5,>=0.4.1->tensorboard~=2.4->tensorflow) (3.1.0)\n"
          ],
          "name": "stdout"
        }
      ]
    },
    {
      "cell_type": "markdown",
      "metadata": {
        "id": "b1R314cCHWok"
      },
      "source": [
        "### Датасет"
      ]
    },
    {
      "cell_type": "code",
      "metadata": {
        "id": "ll_3ayMCGCAA"
      },
      "source": [
        "import pandas as pd\n",
        "import numpy as np\n",
        "\n",
        "data = pd.read_csv(\"ner_dataset.csv\", encoding=\"latin1\")"
      ],
      "execution_count": 5,
      "outputs": []
    },
    {
      "cell_type": "code",
      "metadata": {
        "id": "PTfWNTPkGEq7"
      },
      "source": [
        "data = data.fillna(method=\"ffill\")"
      ],
      "execution_count": 6,
      "outputs": []
    },
    {
      "cell_type": "code",
      "metadata": {
        "colab": {
          "base_uri": "https://localhost:8080/",
          "height": 204
        },
        "id": "UONMvqcjGGPF",
        "outputId": "c38020d4-7ea8-4ac8-c579-a6e3b8325c4d"
      },
      "source": [
        "data.head()"
      ],
      "execution_count": 7,
      "outputs": [
        {
          "output_type": "execute_result",
          "data": {
            "text/html": [
              "<div>\n",
              "<style scoped>\n",
              "    .dataframe tbody tr th:only-of-type {\n",
              "        vertical-align: middle;\n",
              "    }\n",
              "\n",
              "    .dataframe tbody tr th {\n",
              "        vertical-align: top;\n",
              "    }\n",
              "\n",
              "    .dataframe thead th {\n",
              "        text-align: right;\n",
              "    }\n",
              "</style>\n",
              "<table border=\"1\" class=\"dataframe\">\n",
              "  <thead>\n",
              "    <tr style=\"text-align: right;\">\n",
              "      <th></th>\n",
              "      <th>Sentence #</th>\n",
              "      <th>Word</th>\n",
              "      <th>POS</th>\n",
              "      <th>Tag</th>\n",
              "    </tr>\n",
              "  </thead>\n",
              "  <tbody>\n",
              "    <tr>\n",
              "      <th>0</th>\n",
              "      <td>Sentence: 1</td>\n",
              "      <td>Thousands</td>\n",
              "      <td>NNS</td>\n",
              "      <td>O</td>\n",
              "    </tr>\n",
              "    <tr>\n",
              "      <th>1</th>\n",
              "      <td>Sentence: 1</td>\n",
              "      <td>of</td>\n",
              "      <td>IN</td>\n",
              "      <td>O</td>\n",
              "    </tr>\n",
              "    <tr>\n",
              "      <th>2</th>\n",
              "      <td>Sentence: 1</td>\n",
              "      <td>demonstrators</td>\n",
              "      <td>NNS</td>\n",
              "      <td>O</td>\n",
              "    </tr>\n",
              "    <tr>\n",
              "      <th>3</th>\n",
              "      <td>Sentence: 1</td>\n",
              "      <td>have</td>\n",
              "      <td>VBP</td>\n",
              "      <td>O</td>\n",
              "    </tr>\n",
              "    <tr>\n",
              "      <th>4</th>\n",
              "      <td>Sentence: 1</td>\n",
              "      <td>marched</td>\n",
              "      <td>VBN</td>\n",
              "      <td>O</td>\n",
              "    </tr>\n",
              "  </tbody>\n",
              "</table>\n",
              "</div>"
            ],
            "text/plain": [
              "    Sentence #           Word  POS Tag\n",
              "0  Sentence: 1      Thousands  NNS   O\n",
              "1  Sentence: 1             of   IN   O\n",
              "2  Sentence: 1  demonstrators  NNS   O\n",
              "3  Sentence: 1           have  VBP   O\n",
              "4  Sentence: 1        marched  VBN   O"
            ]
          },
          "metadata": {
            "tags": []
          },
          "execution_count": 7
        }
      ]
    },
    {
      "cell_type": "markdown",
      "metadata": {
        "id": "GCQpQ_mgHadU"
      },
      "source": [
        "#### Получаем слова, их номера и теги"
      ]
    },
    {
      "cell_type": "code",
      "metadata": {
        "id": "ThIaZVa3GKg4"
      },
      "source": [
        "words = list(set(data[\"Word\"].values))\n",
        "words.append(\"ENDPAD\")\n",
        "num_words = len(words)"
      ],
      "execution_count": 8,
      "outputs": []
    },
    {
      "cell_type": "code",
      "metadata": {
        "id": "NikGvXOkGMhq"
      },
      "source": [
        "tags = list(set(data[\"Tag\"].values))\n",
        "num_tags = len(tags)"
      ],
      "execution_count": 9,
      "outputs": []
    },
    {
      "cell_type": "code",
      "metadata": {
        "colab": {
          "base_uri": "https://localhost:8080/"
        },
        "id": "5h0OpufVGOX_",
        "outputId": "9458e512-efd8-4d0b-8d51-654018c5b57e"
      },
      "source": [
        "num_words, num_tags"
      ],
      "execution_count": 10,
      "outputs": [
        {
          "output_type": "execute_result",
          "data": {
            "text/plain": [
              "(35179, 17)"
            ]
          },
          "metadata": {
            "tags": []
          },
          "execution_count": 10
        }
      ]
    },
    {
      "cell_type": "markdown",
      "metadata": {
        "id": "OpAZTMAOHoji"
      },
      "source": [
        "### Инициализируем получаение информации из предложений"
      ]
    },
    {
      "cell_type": "code",
      "metadata": {
        "id": "NuFj3Gc_GP41"
      },
      "source": [
        "class SentanceGetter(object):\n",
        "    def __init__(self,data):\n",
        "        self.n_sent = 1\n",
        "        self.data = data\n",
        "        agg_func = lambda s: [(w,p,t) for w,p,t in zip(s[\"Word\"].values.tolist(),\n",
        "                                                       s[\"POS\"].values.tolist(),\n",
        "                                                       s[\"Tag\"].values.tolist())]\n",
        "        self.grouped = self.data.groupby(\"Sentence #\").apply(agg_func)\n",
        "        self.sentances = [s for s in self.grouped]"
      ],
      "execution_count": 11,
      "outputs": []
    },
    {
      "cell_type": "code",
      "metadata": {
        "id": "_KvR06MZGSaw"
      },
      "source": [
        "getter = SentanceGetter(data)\n",
        "sentances = getter.sentances"
      ],
      "execution_count": 12,
      "outputs": []
    },
    {
      "cell_type": "code",
      "metadata": {
        "colab": {
          "base_uri": "https://localhost:8080/"
        },
        "id": "iEAMoyn4GUjz",
        "outputId": "022d7a40-79fd-4657-bfc1-f55b6ea0ba96"
      },
      "source": [
        "# checking the structure of sentances \n",
        "sentances[1]"
      ],
      "execution_count": 13,
      "outputs": [
        {
          "output_type": "execute_result",
          "data": {
            "text/plain": [
              "[('Iranian', 'JJ', 'B-gpe'),\n",
              " ('officials', 'NNS', 'O'),\n",
              " ('say', 'VBP', 'O'),\n",
              " ('they', 'PRP', 'O'),\n",
              " ('expect', 'VBP', 'O'),\n",
              " ('to', 'TO', 'O'),\n",
              " ('get', 'VB', 'O'),\n",
              " ('access', 'NN', 'O'),\n",
              " ('to', 'TO', 'O'),\n",
              " ('sealed', 'JJ', 'O'),\n",
              " ('sensitive', 'JJ', 'O'),\n",
              " ('parts', 'NNS', 'O'),\n",
              " ('of', 'IN', 'O'),\n",
              " ('the', 'DT', 'O'),\n",
              " ('plant', 'NN', 'O'),\n",
              " ('Wednesday', 'NNP', 'B-tim'),\n",
              " (',', ',', 'O'),\n",
              " ('after', 'IN', 'O'),\n",
              " ('an', 'DT', 'O'),\n",
              " ('IAEA', 'NNP', 'B-org'),\n",
              " ('surveillance', 'NN', 'O'),\n",
              " ('system', 'NN', 'O'),\n",
              " ('begins', 'VBZ', 'O'),\n",
              " ('functioning', 'VBG', 'O'),\n",
              " ('.', '.', 'O')]"
            ]
          },
          "metadata": {
            "tags": []
          },
          "execution_count": 13
        }
      ]
    },
    {
      "cell_type": "markdown",
      "metadata": {
        "id": "2zRSZRz8HxV5"
      },
      "source": [
        "### Индексы слов и индексы тегов"
      ]
    },
    {
      "cell_type": "code",
      "metadata": {
        "id": "xp4F2qXzGWtY"
      },
      "source": [
        "word2idx = {w: i+1 for i, w in enumerate(words)}\n",
        "tag2idx = { t: i for i,t in enumerate(tags)}"
      ],
      "execution_count": 14,
      "outputs": []
    },
    {
      "cell_type": "code",
      "metadata": {
        "colab": {
          "base_uri": "https://localhost:8080/",
          "height": 265
        },
        "id": "2_n-gvtOGZLn",
        "outputId": "bf6fed64-e93d-4e85-d84b-be52e7c368a1"
      },
      "source": [
        "plt.hist([len(s) for s in sentances], bins=60)\n",
        "plt.show()"
      ],
      "execution_count": 15,
      "outputs": [
        {
          "output_type": "display_data",
          "data": {
            "image/png": "[encoded data removed]",
            "text/plain": [
              "<Figure size 432x288 with 1 Axes>"
            ]
          },
          "metadata": {
            "tags": []
          }
        }
      ]
    },
    {
      "cell_type": "markdown",
      "metadata": {
        "id": "iXtg4sC2H0zJ"
      },
      "source": [
        "### Делаем паддинг и организуем последовательность"
      ]
    },
    {
      "cell_type": "code",
      "metadata": {
        "id": "w7Ik7UW6GdSB"
      },
      "source": [
        "from tensorflow.keras.preprocessing.sequence import pad_sequences\n",
        "from tensorflow.keras.utils import to_categorical\n",
        "max_len = 60\n",
        "X = [[word2idx[w[0]] for w in s] for s in sentances]\n",
        "X = pad_sequences(maxlen = max_len, sequences =X , padding ='post',value =num_words-1)\n",
        "y = [[tag2idx[w[2]] for w in s]for s in sentances]\n",
        "y = pad_sequences(maxlen=max_len,sequences =y,padding ='post',value=tag2idx[\"O\"])\n",
        "y = [to_categorical(i, num_classes=num_tags) for i in y]"
      ],
      "execution_count": 16,
      "outputs": []
    },
    {
      "cell_type": "markdown",
      "metadata": {
        "id": "MFFPJ0rlIglh"
      },
      "source": [
        "### Разбиваем на 20 процентов обучающей выборки"
      ]
    },
    {
      "cell_type": "code",
      "metadata": {
        "colab": {
          "base_uri": "https://localhost:8080/"
        },
        "id": "wcbwJblJFasd",
        "outputId": "10689519-32b5-4680-bae1-bf54e007db95"
      },
      "source": [
        "X[5000:].shape"
      ],
      "execution_count": 18,
      "outputs": [
        {
          "output_type": "execute_result",
          "data": {
            "text/plain": [
              "(42959, 60)"
            ]
          },
          "metadata": {
            "tags": []
          },
          "execution_count": 18
        }
      ]
    },
    {
      "cell_type": "code",
      "metadata": {
        "colab": {
          "base_uri": "https://localhost:8080/"
        },
        "id": "-NwgOHQeOZLu",
        "outputId": "ff92c9f5-8cec-4101-e92c-4b5ad29b612e"
      },
      "source": [
        "X[5000:15000].shape"
      ],
      "execution_count": 19,
      "outputs": [
        {
          "output_type": "execute_result",
          "data": {
            "text/plain": [
              "(10000, 60)"
            ]
          },
          "metadata": {
            "tags": []
          },
          "execution_count": 19
        }
      ]
    },
    {
      "cell_type": "code",
      "metadata": {
        "id": "5SumRGDIFUbM"
      },
      "source": [
        "x_train = X[5000:]\n",
        "x_test = X[:5000]\n",
        "y_train = y[5000:]\n",
        "y_test = y[:5000]"
      ],
      "execution_count": 20,
      "outputs": []
    },
    {
      "cell_type": "markdown",
      "metadata": {
        "id": "A10AUm76ImVA"
      },
      "source": [
        "### Делаем модель с эмбеддингами, лстм и денсом"
      ]
    },
    {
      "cell_type": "code",
      "metadata": {
        "id": "nAJjYf-dGiFM"
      },
      "source": [
        "from tensorflow.keras import Model, Input\n",
        "from tensorflow.keras.layers import LSTM, Embedding, Dense\n",
        "from tensorflow.keras.layers import TimeDistributed, SpatialDropout1D, Bidirectional"
      ],
      "execution_count": 21,
      "outputs": []
    },
    {
      "cell_type": "code",
      "metadata": {
        "colab": {
          "base_uri": "https://localhost:8080/"
        },
        "id": "lg1BM9pfGkF4",
        "outputId": "fb0edd60-578e-4077-baaf-556589516483"
      },
      "source": [
        "input_word = Input(shape = (max_len))\n",
        "model = Embedding(input_dim = num_words,output_dim = max_len,input_length  = max_len)(input_word)\n",
        "model = SpatialDropout1D(0.1)(model)\n",
        "model = Bidirectional(LSTM(units = 100,return_sequences=True,recurrent_dropout = 0.1))(model)\n",
        "out = TimeDistributed(Dense(num_tags, activation ='softmax'))(model)\n",
        "model = Model(input_word,out)\n",
        "model.summary()"
      ],
      "execution_count": 22,
      "outputs": [
        {
          "output_type": "stream",
          "text": [
            "Model: \"model\"\n",
            "_________________________________________________________________\n",
            "Layer (type)                 Output Shape              Param #   \n",
            "=================================================================\n",
            "input_1 (InputLayer)         [(None, 60)]              0         \n",
            "_________________________________________________________________\n",
            "embedding (Embedding)        (None, 60, 60)            2110740   \n",
            "_________________________________________________________________\n",
            "spatial_dropout1d (SpatialDr (None, 60, 60)            0         \n",
            "_________________________________________________________________\n",
            "bidirectional (Bidirectional (None, 60, 200)           128800    \n",
            "_________________________________________________________________\n",
            "time_distributed (TimeDistri (None, 60, 17)            3417      \n",
            "=================================================================\n",
            "Total params: 2,242,957\n",
            "Trainable params: 2,242,957\n",
            "Non-trainable params: 0\n",
            "_________________________________________________________________\n"
          ],
          "name": "stdout"
        }
      ]
    },
    {
      "cell_type": "markdown",
      "metadata": {
        "id": "RtfbjKBWIucY"
      },
      "source": [
        "### Добавляем оптимизатор адам и запускаем модель"
      ]
    },
    {
      "cell_type": "code",
      "metadata": {
        "id": "0K88gzyaGm-t"
      },
      "source": [
        "model.compile(optimizer='adam', loss = 'categorical_crossentropy', metrics = ['accuracy'])"
      ],
      "execution_count": 23,
      "outputs": []
    },
    {
      "cell_type": "code",
      "metadata": {
        "id": "amwydt8lGpId"
      },
      "source": [
        "from tensorflow.keras.callbacks import ModelCheckpoint, EarlyStopping"
      ],
      "execution_count": 24,
      "outputs": []
    },
    {
      "cell_type": "code",
      "metadata": {
        "colab": {
          "base_uri": "https://localhost:8080/"
        },
        "id": "UkWT0QiTGspR",
        "outputId": "b3dd8905-e55a-42f2-bc0f-68480b687e22"
      },
      "source": [
        "early_stopping = EarlyStopping(monitor='val_accuracy',patience=2,verbose = 1, mode ='max',restore_best_weights = True)\n",
        "callbacks = early_stopping\n",
        "history = model.fit( x_train,np.array(y_train), validation_split = 0.1, batch_size = 32,epochs = 10, verbose =1,callbacks=callbacks)"
      ],
      "execution_count": 25,
      "outputs": [
        {
          "output_type": "stream",
          "text": [
            "Epoch 1/10\n",
            "1209/1209 [==============================] - 293s 239ms/step - loss: 0.3286 - accuracy: 0.9460 - val_loss: 0.0538 - val_accuracy: 0.9845\n",
            "Epoch 2/10\n",
            "1209/1209 [==============================] - 296s 245ms/step - loss: 0.0440 - accuracy: 0.9872 - val_loss: 0.0434 - val_accuracy: 0.9870\n",
            "Epoch 3/10\n",
            "1209/1209 [==============================] - 290s 240ms/step - loss: 0.0295 - accuracy: 0.9911 - val_loss: 0.0419 - val_accuracy: 0.9873\n",
            "Epoch 4/10\n",
            "1209/1209 [==============================] - 289s 239ms/step - loss: 0.0247 - accuracy: 0.9921 - val_loss: 0.0434 - val_accuracy: 0.9871\n",
            "Epoch 5/10\n",
            "1209/1209 [==============================] - 291s 240ms/step - loss: 0.0206 - accuracy: 0.9932 - val_loss: 0.0447 - val_accuracy: 0.9873\n",
            "Epoch 6/10\n",
            "1209/1209 [==============================] - 290s 240ms/step - loss: 0.0176 - accuracy: 0.9943 - val_loss: 0.0468 - val_accuracy: 0.9870\n",
            "Epoch 7/10\n",
            "1209/1209 [==============================] - 289s 239ms/step - loss: 0.0156 - accuracy: 0.9949 - val_loss: 0.0484 - val_accuracy: 0.9871\n",
            "Restoring model weights from the end of the best epoch.\n",
            "Epoch 00007: early stopping\n"
          ],
          "name": "stdout"
        }
      ]
    },
    {
      "cell_type": "markdown",
      "metadata": {
        "id": "9ARiHmxUIzqn"
      },
      "source": [
        "### Результатики"
      ]
    },
    {
      "cell_type": "code",
      "metadata": {
        "colab": {
          "base_uri": "https://localhost:8080/"
        },
        "id": "B-5zN0tbGv2L",
        "outputId": "c3debc7f-93e3-49b6-db1f-4c139f6ac935"
      },
      "source": [
        "model.evaluate(x_test, np.array(y_test))"
      ],
      "execution_count": 26,
      "outputs": [
        {
          "output_type": "stream",
          "text": [
            "157/157 [==============================] - 5s 31ms/step - loss: 0.0465 - accuracy: 0.9868\n"
          ],
          "name": "stdout"
        },
        {
          "output_type": "execute_result",
          "data": {
            "text/plain": [
              "[0.04654039815068245, 0.9868266582489014]"
            ]
          },
          "metadata": {
            "tags": []
          },
          "execution_count": 26
        }
      ]
    },
    {
      "cell_type": "code",
      "metadata": {
        "colab": {
          "base_uri": "https://localhost:8080/"
        },
        "id": "BKKdYyj7LUJi",
        "outputId": "39bbed52-f452-47cf-db76-a74a98cd3e8a"
      },
      "source": [
        "print('\\nhistory dict:', history.history)"
      ],
      "execution_count": 27,
      "outputs": [
        {
          "output_type": "stream",
          "text": [
            "\n",
            "history dict: {'loss': [0.1518489271402359, 0.04096272215247154, 0.029691802337765694, 0.02451358735561371, 0.02093539386987686, 0.018373016268014908, 0.01623198762536049], 'accuracy': [0.9661519527435303, 0.9878764152526855, 0.9908034205436707, 0.9920932054519653, 0.9931368231773376, 0.9939864873886108, 0.9946279525756836], 'val_loss': [0.053825493901968, 0.04339146614074707, 0.041934799402952194, 0.043362297117710114, 0.0447300560772419, 0.04675275832414627, 0.04841701313853264], 'val_accuracy': [0.9845049381256104, 0.987011194229126, 0.9872750043869019, 0.9871392250061035, 0.9872982501983643, 0.9870150685310364, 0.9870654940605164]}\n"
          ],
          "name": "stdout"
        }
      ]
    },
    {
      "cell_type": "code",
      "metadata": {
        "colab": {
          "base_uri": "https://localhost:8080/"
        },
        "id": "hx258gFd_ZAg",
        "outputId": "7ababd83-aa48-4641-a28c-169ffc8581e2"
      },
      "source": [
        "!pip install seqeval"
      ],
      "execution_count": 30,
      "outputs": [
        {
          "output_type": "stream",
          "text": [
            "Collecting seqeval\n",
            "\u001b[?25l  Downloading https://files.pythonhosted.org/packages/9d/2d/233c79d5b4e5ab1dbf111242299153f3caddddbb691219f363ad55ce783d/seqeval-1.2.2.tar.gz (43kB)\n",
            "\r\u001b[K     |███████▌                        | 10kB 17.0MB/s eta 0:00:01\r\u001b[K     |███████████████                 | 20kB 22.8MB/s eta 0:00:01\r\u001b[K     |██████████████████████▌         | 30kB 18.4MB/s eta 0:00:01\r\u001b[K     |██████████████████████████████  | 40kB 11.7MB/s eta 0:00:01\r\u001b[K     |████████████████████████████████| 51kB 4.1MB/s \n",
            "\u001b[?25hRequirement already satisfied: numpy>=1.14.0 in /usr/local/lib/python3.6/dist-packages (from seqeval) (1.19.4)\n",
            "Requirement already satisfied: scikit-learn>=0.21.3 in /usr/local/lib/python3.6/dist-packages (from seqeval) (0.22.2.post1)\n",
            "Requirement already satisfied: scipy>=0.17.0 in /usr/local/lib/python3.6/dist-packages (from scikit-learn>=0.21.3->seqeval) (1.4.1)\n",
            "Requirement already satisfied: joblib>=0.11 in /usr/local/lib/python3.6/dist-packages (from scikit-learn>=0.21.3->seqeval) (1.0.0)\n",
            "Building wheels for collected packages: seqeval\n",
            "  Building wheel for seqeval (setup.py) ... \u001b[?25l\u001b[?25hdone\n",
            "  Created wheel for seqeval: filename=seqeval-1.2.2-cp36-none-any.whl size=16171 sha256=b21db6ad875e9649c3e2d9604d51effa1fe5a1ce455eb0e87390174c21572026\n",
            "  Stored in directory: /root/.cache/pip/wheels/52/df/1b/45d75646c37428f7e626214704a0e35bd3cfc32eda37e59e5f\n",
            "Successfully built seqeval\n",
            "Installing collected packages: seqeval\n",
            "Successfully installed seqeval-1.2.2\n"
          ],
          "name": "stdout"
        }
      ]
    },
    {
      "cell_type": "code",
      "metadata": {
        "id": "TLc0cI3y_U8-"
      },
      "source": [
        "import seqeval"
      ],
      "execution_count": 31,
      "outputs": []
    },
    {
      "cell_type": "code",
      "metadata": {
        "id": "5f-c56-0Rtut"
      },
      "source": [
        "from seqeval.metrics import precision_score, recall_score, f1_score, classification_report"
      ],
      "execution_count": 32,
      "outputs": []
    },
    {
      "cell_type": "code",
      "metadata": {
        "id": "7oWnDSQmRuXx"
      },
      "source": [
        "# predictions"
      ],
      "execution_count": null,
      "outputs": []
    },
    {
      "cell_type": "code",
      "metadata": {
        "id": "83k_7J1_SEHw"
      },
      "source": [
        "predictions = model.predict(x_test)\n",
        "# print('размерность прогнозов:', predictions.shape)"
      ],
      "execution_count": 34,
      "outputs": []
    },
    {
      "cell_type": "code",
      "metadata": {
        "id": "rM_aJydwRyKb"
      },
      "source": [
        "idx2tag = {i: w for w, i in tag2idx.items()}\n",
        "\n",
        "def pred2label(pred):\n",
        "    out = []\n",
        "    for pred_i in pred:\n",
        "        out_i = []\n",
        "        for p in pred_i:\n",
        "            p_i = np.argmax(p)\n",
        "            out_i.append(idx2tag[p_i].replace(\"PAD\", \"O\"))\n",
        "        out.append(out_i)\n",
        "    return out\n",
        "    \n",
        "pred_labels = pred2label(predictions)\n",
        "test_labels = pred2label(y_test)"
      ],
      "execution_count": 35,
      "outputs": []
    },
    {
      "cell_type": "code",
      "metadata": {
        "colab": {
          "base_uri": "https://localhost:8080/"
        },
        "id": "kq-KgmziSVds",
        "outputId": "8f0ae8c4-8a3d-4a74-b917-7def5409e29e"
      },
      "source": [
        "print(\"F1-score: {:.1%}\".format(f1_score(test_labels, pred_labels)))"
      ],
      "execution_count": 36,
      "outputs": [
        {
          "output_type": "stream",
          "text": [
            "F1-score: 79.5%\n"
          ],
          "name": "stdout"
        }
      ]
    },
    {
      "cell_type": "code",
      "metadata": {
        "id": "-wWfHKy-33YV"
      },
      "source": [
        "all_labels_result = pd.DataFrame()\n",
        "all_labels_result['pred'] = pred_labels\n",
        "all_labels_result['test'] = test_labels\n",
        "all_labels_result['context'] = sentances[:5000]"
      ],
      "execution_count": 51,
      "outputs": []
    },
    {
      "cell_type": "code",
      "metadata": {
        "colab": {
          "base_uri": "https://localhost:8080/",
          "height": 419
        },
        "id": "NBlj2ZsQ4Mqj",
        "outputId": "cbb03d94-dcbd-4013-cd2e-3fc45195e89e"
      },
      "source": [
        "all_labels_result"
      ],
      "execution_count": 52,
      "outputs": [
        {
          "output_type": "execute_result",
          "data": {
            "text/html": [
              "<div>\n",
              "<style scoped>\n",
              "    .dataframe tbody tr th:only-of-type {\n",
              "        vertical-align: middle;\n",
              "    }\n",
              "\n",
              "    .dataframe tbody tr th {\n",
              "        vertical-align: top;\n",
              "    }\n",
              "\n",
              "    .dataframe thead th {\n",
              "        text-align: right;\n",
              "    }\n",
              "</style>\n",
              "<table border=\"1\" class=\"dataframe\">\n",
              "  <thead>\n",
              "    <tr style=\"text-align: right;\">\n",
              "      <th></th>\n",
              "      <th>pred</th>\n",
              "      <th>test</th>\n",
              "      <th>context</th>\n",
              "    </tr>\n",
              "  </thead>\n",
              "  <tbody>\n",
              "    <tr>\n",
              "      <th>0</th>\n",
              "      <td>[O, O, O, O, O, O, B-geo, O, O, O, O, O, B-geo...</td>\n",
              "      <td>[O, O, O, O, O, O, B-geo, O, O, O, O, O, B-geo...</td>\n",
              "      <td>[(Thousands, NNS, O), (of, IN, O), (demonstrat...</td>\n",
              "    </tr>\n",
              "    <tr>\n",
              "      <th>1</th>\n",
              "      <td>[B-gpe, O, O, O, O, O, O, O, O, O, O, O, O, O,...</td>\n",
              "      <td>[B-gpe, O, O, O, O, O, O, O, O, O, O, O, O, O,...</td>\n",
              "      <td>[(Iranian, JJ, B-gpe), (officials, NNS, O), (s...</td>\n",
              "    </tr>\n",
              "    <tr>\n",
              "      <th>2</th>\n",
              "      <td>[O, O, B-tim, O, O, O, O, O, B-geo, O, O, O, O...</td>\n",
              "      <td>[O, O, B-tim, O, O, O, O, O, B-geo, O, O, O, O...</td>\n",
              "      <td>[(Helicopter, NN, O), (gunships, NNS, O), (Sat...</td>\n",
              "    </tr>\n",
              "    <tr>\n",
              "      <th>3</th>\n",
              "      <td>[O, O, O, O, O, O, O, O, O, O, O, O, O, O, O, ...</td>\n",
              "      <td>[O, O, O, O, O, O, O, O, O, O, O, O, O, O, O, ...</td>\n",
              "      <td>[(They, PRP, O), (left, VBD, O), (after, IN, O...</td>\n",
              "    </tr>\n",
              "    <tr>\n",
              "      <th>4</th>\n",
              "      <td>[B-org, O, O, B-per, I-per, O, B-tim, O, B-geo...</td>\n",
              "      <td>[B-geo, O, O, B-per, I-per, O, B-tim, O, B-geo...</td>\n",
              "      <td>[(U.N., NNP, B-geo), (relief, NN, O), (coordin...</td>\n",
              "    </tr>\n",
              "    <tr>\n",
              "      <th>...</th>\n",
              "      <td>...</td>\n",
              "      <td>...</td>\n",
              "      <td>...</td>\n",
              "    </tr>\n",
              "    <tr>\n",
              "      <th>4995</th>\n",
              "      <td>[O, B-geo, O, O, O, O, O, O, O, O, O, O, O, B-...</td>\n",
              "      <td>[O, B-geo, O, O, O, O, O, O, O, O, O, O, O, B-...</td>\n",
              "      <td>[(But, CC, O), (U.S., NNP, B-geo), (officials,...</td>\n",
              "    </tr>\n",
              "    <tr>\n",
              "      <th>4996</th>\n",
              "      <td>[O, O, B-gpe, O, O, O, O, O, O, O, B-org, I-or...</td>\n",
              "      <td>[O, O, B-gpe, O, O, O, O, O, O, O, B-org, I-or...</td>\n",
              "      <td>[(Meanwhile, RB, O), (,, ,, O), (Turkish, JJ, ...</td>\n",
              "    </tr>\n",
              "    <tr>\n",
              "      <th>4997</th>\n",
              "      <td>[O, B-gpe, O, O, O, O, O, O, B-tim, O, O, O, O...</td>\n",
              "      <td>[O, B-gpe, O, O, O, O, O, O, B-tim, O, O, O, O...</td>\n",
              "      <td>[(A, DT, O), (Turkish, JJ, B-gpe), (soldier, N...</td>\n",
              "    </tr>\n",
              "    <tr>\n",
              "      <th>4998</th>\n",
              "      <td>[O, O, O, O, O, B-org, O, O, O, B-org, O, O, O...</td>\n",
              "      <td>[O, O, O, O, O, B-org, O, O, O, B-geo, O, O, O...</td>\n",
              "      <td>[(Pressure, NN, O), (for, IN, O), (action, NN,...</td>\n",
              "    </tr>\n",
              "    <tr>\n",
              "      <th>4999</th>\n",
              "      <td>[O, B-org, O, O, O, O, O, O, B-geo, O, O, O, O...</td>\n",
              "      <td>[O, B-org, O, O, O, O, O, O, B-geo, O, O, O, O...</td>\n",
              "      <td>[(The, DT, O), (PKK, NNP, B-org), (has, VBZ, O...</td>\n",
              "    </tr>\n",
              "  </tbody>\n",
              "</table>\n",
              "<p>5000 rows × 3 columns</p>\n",
              "</div>"
            ],
            "text/plain": [
              "                                                   pred  ...                                            context\n",
              "0     [O, O, O, O, O, O, B-geo, O, O, O, O, O, B-geo...  ...  [(Thousands, NNS, O), (of, IN, O), (demonstrat...\n",
              "1     [B-gpe, O, O, O, O, O, O, O, O, O, O, O, O, O,...  ...  [(Iranian, JJ, B-gpe), (officials, NNS, O), (s...\n",
              "2     [O, O, B-tim, O, O, O, O, O, B-geo, O, O, O, O...  ...  [(Helicopter, NN, O), (gunships, NNS, O), (Sat...\n",
              "3     [O, O, O, O, O, O, O, O, O, O, O, O, O, O, O, ...  ...  [(They, PRP, O), (left, VBD, O), (after, IN, O...\n",
              "4     [B-org, O, O, B-per, I-per, O, B-tim, O, B-geo...  ...  [(U.N., NNP, B-geo), (relief, NN, O), (coordin...\n",
              "...                                                 ...  ...                                                ...\n",
              "4995  [O, B-geo, O, O, O, O, O, O, O, O, O, O, O, B-...  ...  [(But, CC, O), (U.S., NNP, B-geo), (officials,...\n",
              "4996  [O, O, B-gpe, O, O, O, O, O, O, O, B-org, I-or...  ...  [(Meanwhile, RB, O), (,, ,, O), (Turkish, JJ, ...\n",
              "4997  [O, B-gpe, O, O, O, O, O, O, B-tim, O, O, O, O...  ...  [(A, DT, O), (Turkish, JJ, B-gpe), (soldier, N...\n",
              "4998  [O, O, O, O, O, B-org, O, O, O, B-org, O, O, O...  ...  [(Pressure, NN, O), (for, IN, O), (action, NN,...\n",
              "4999  [O, B-org, O, O, O, O, O, O, B-geo, O, O, O, O...  ...  [(The, DT, O), (PKK, NNP, B-org), (has, VBZ, O...\n",
              "\n",
              "[5000 rows x 3 columns]"
            ]
          },
          "metadata": {
            "tags": []
          },
          "execution_count": 52
        }
      ]
    },
    {
      "cell_type": "code",
      "metadata": {
        "colab": {
          "base_uri": "https://localhost:8080/"
        },
        "id": "Y3V6VPKgASwV",
        "outputId": "a58ac753-c685-4693-c5b4-8bed931a9a33"
      },
      "source": [
        "dict_ner = {}\n",
        "cnt = 1\n",
        "for ind, row in all_labels_result.head(100).iterrows():\n",
        "    if row[0] == row[1]:\n",
        "        # print('Текст ', cnt, ': ', row[2])\n",
        "        # print('УРААА')\n",
        "        ok = row[0]\n",
        "    else:\n",
        "        print('Текст ', cnt, ': ', row[2])\n",
        "        print(\"Реальные: \", row[1])\n",
        "        print(\"Предсказанные: \", row[0])\n",
        "        # print('\\n\\n')\n",
        "        i = -1 \n",
        "        for el1, el2 in zip(row[1], row[0]):\n",
        "          i += 1\n",
        "          if el1 != el2:\n",
        "              nec = i\n",
        "              new_st = str(el1) + '_VS_' + str(el2)\n",
        "              print(\"\\n--->Лейбл который должен стоятть / лейбл который предсказан: \", el1, el2)\n",
        "              print(\"Какое слово: \", row[2][nec])\n",
        "              if new_st not in dict_ner:\n",
        "                  dict_ner[new_st] = 1\n",
        "              else:\n",
        "                  dict_ner[new_st] += 1\n",
        "          # i = 0\n",
        "        print('\\n======\\n')\n",
        "    cnt += 1"
      ],
      "execution_count": 97,
      "outputs": [
        {
          "output_type": "stream",
          "text": [
            "Текст  5 :  [('U.N.', 'NNP', 'B-geo'), ('relief', 'NN', 'O'), ('coordinator', 'NN', 'O'), ('Jan', 'NNP', 'B-per'), ('Egeland', 'NNP', 'I-per'), ('said', 'VBD', 'O'), ('Sunday', 'NNP', 'B-tim'), (',', ',', 'O'), ('U.S.', 'NNP', 'B-geo'), (',', ',', 'O'), ('Indonesian', 'JJ', 'B-gpe'), ('and', 'CC', 'O'), ('Australian', 'JJ', 'B-gpe'), ('military', 'JJ', 'O'), ('helicopters', 'NNS', 'O'), ('are', 'VBP', 'O'), ('ferrying', 'VBG', 'O'), ('out', 'RP', 'O'), ('food', 'NN', 'O'), ('and', 'CC', 'O'), ('supplies', 'NNS', 'O'), ('to', 'TO', 'O'), ('remote', 'VB', 'O'), ('areas', 'NNS', 'O'), ('of', 'IN', 'O'), ('western', 'JJ', 'O'), ('Aceh', 'NNP', 'B-geo'), ('province', 'NN', 'O'), ('that', 'IN', 'O'), ('ground', 'NN', 'O'), ('crews', 'NNS', 'O'), ('can', 'MD', 'O'), ('not', 'RB', 'O'), ('reach', 'VB', 'O'), ('.', '.', 'O')]\n",
            "Реальные:  ['B-geo', 'O', 'O', 'B-per', 'I-per', 'O', 'B-tim', 'O', 'B-geo', 'O', 'B-gpe', 'O', 'B-gpe', 'O', 'O', 'O', 'O', 'O', 'O', 'O', 'O', 'O', 'O', 'O', 'O', 'O', 'B-geo', 'O', 'O', 'O', 'O', 'O', 'O', 'O', 'O', 'O', 'O', 'O', 'O', 'O', 'O', 'O', 'O', 'O', 'O', 'O', 'O', 'O', 'O', 'O', 'O', 'O', 'O', 'O', 'O', 'O', 'O', 'O', 'O', 'O']\n",
            "Предсказанные:  ['B-org', 'O', 'O', 'B-per', 'I-per', 'O', 'B-tim', 'O', 'B-geo', 'O', 'B-gpe', 'O', 'B-gpe', 'O', 'O', 'O', 'O', 'O', 'O', 'O', 'O', 'O', 'O', 'O', 'O', 'O', 'O', 'O', 'O', 'O', 'O', 'O', 'O', 'O', 'O', 'O', 'O', 'O', 'O', 'O', 'O', 'O', 'O', 'O', 'O', 'O', 'O', 'O', 'O', 'O', 'O', 'O', 'O', 'O', 'O', 'O', 'O', 'O', 'O', 'O']\n",
            "\n",
            "--->Лейбл который должен стоятть / лейбл который предсказан:  B-geo B-org\n",
            "Какое слово:  ('U.N.', 'NNP', 'B-geo')\n",
            "\n",
            "--->Лейбл который должен стоятть / лейбл который предсказан:  B-geo O\n",
            "Какое слово:  ('Aceh', 'NNP', 'B-geo')\n",
            "\n",
            "======\n",
            "\n",
            "Текст  6 :  [('Mr.', 'NNP', 'B-per'), ('Egeland', 'NNP', 'I-per'), ('said', 'VBD', 'O'), ('the', 'DT', 'O'), ('latest', 'JJS', 'O'), ('figures', 'NNS', 'O'), ('show', 'VBP', 'O'), ('1.8', 'CD', 'O'), ('million', 'CD', 'O'), ('people', 'NNS', 'O'), ('are', 'VBP', 'O'), ('in', 'IN', 'O'), ('need', 'NN', 'O'), ('of', 'IN', 'O'), ('food', 'NN', 'O'), ('assistance', 'NN', 'O'), ('-', ':', 'O'), ('with', 'IN', 'O'), ('the', 'DT', 'O'), ('need', 'NN', 'O'), ('greatest', 'JJS', 'O'), ('in', 'IN', 'O'), ('Indonesia', 'NNP', 'B-tim'), (',', ',', 'O'), ('Sri', 'NNP', 'B-per'), ('Lanka', 'NNP', 'B-gpe'), (',', ',', 'O'), ('the', 'DT', 'O'), ('Maldives', 'NNP', 'B-geo'), ('and', 'CC', 'O'), ('India', 'NNP', 'B-geo'), ('.', '.', 'O')]\n",
            "Реальные:  ['B-per', 'I-per', 'O', 'O', 'O', 'O', 'O', 'O', 'O', 'O', 'O', 'O', 'O', 'O', 'O', 'O', 'O', 'O', 'O', 'O', 'O', 'O', 'B-tim', 'O', 'B-per', 'B-gpe', 'O', 'O', 'B-geo', 'O', 'B-geo', 'O', 'O', 'O', 'O', 'O', 'O', 'O', 'O', 'O', 'O', 'O', 'O', 'O', 'O', 'O', 'O', 'O', 'O', 'O', 'O', 'O', 'O', 'O', 'O', 'O', 'O', 'O', 'O', 'O']\n",
            "Предсказанные:  ['B-per', 'I-per', 'O', 'O', 'O', 'O', 'O', 'O', 'O', 'O', 'O', 'O', 'O', 'O', 'O', 'O', 'O', 'O', 'O', 'O', 'O', 'O', 'B-geo', 'O', 'B-geo', 'I-geo', 'O', 'O', 'B-geo', 'O', 'B-geo', 'O', 'O', 'O', 'O', 'O', 'O', 'O', 'O', 'O', 'O', 'O', 'O', 'O', 'O', 'O', 'O', 'O', 'O', 'O', 'O', 'O', 'O', 'O', 'O', 'O', 'O', 'O', 'O', 'O']\n",
            "\n",
            "--->Лейбл который должен стоятть / лейбл который предсказан:  B-tim B-geo\n",
            "Какое слово:  ('Indonesia', 'NNP', 'B-tim')\n",
            "\n",
            "--->Лейбл который должен стоятть / лейбл который предсказан:  B-per B-geo\n",
            "Какое слово:  ('Sri', 'NNP', 'B-per')\n",
            "\n",
            "--->Лейбл который должен стоятть / лейбл который предсказан:  B-gpe I-geo\n",
            "Какое слово:  ('Lanka', 'NNP', 'B-gpe')\n",
            "\n",
            "======\n",
            "\n",
            "Текст  9 :  [('Aid', 'NNP', 'O'), ('is', 'VBZ', 'O'), ('being', 'VBG', 'O'), ('rushed', 'VBN', 'O'), ('to', 'TO', 'O'), ('the', 'DT', 'O'), ('region', 'NN', 'O'), (',', ',', 'O'), ('but', 'CC', 'O'), ('the', 'DT', 'O'), ('U.N.', 'NNP', 'B-geo'), ('official', 'NN', 'O'), ('stressed', 'VBD', 'O'), ('that', 'IN', 'O'), ('bottlenecks', 'NNS', 'O'), ('and', 'CC', 'O'), ('a', 'DT', 'O'), ('lack', 'NN', 'O'), ('of', 'IN', 'O'), ('infrastructure', 'NN', 'O'), ('remain', 'VBP', 'O'), ('a', 'DT', 'O'), ('challenge', 'NN', 'O'), ('.', '.', 'O')]\n",
            "Реальные:  ['O', 'O', 'O', 'O', 'O', 'O', 'O', 'O', 'O', 'O', 'B-geo', 'O', 'O', 'O', 'O', 'O', 'O', 'O', 'O', 'O', 'O', 'O', 'O', 'O', 'O', 'O', 'O', 'O', 'O', 'O', 'O', 'O', 'O', 'O', 'O', 'O', 'O', 'O', 'O', 'O', 'O', 'O', 'O', 'O', 'O', 'O', 'O', 'O', 'O', 'O', 'O', 'O', 'O', 'O', 'O', 'O', 'O', 'O', 'O', 'O']\n",
            "Предсказанные:  ['O', 'O', 'O', 'O', 'O', 'O', 'O', 'O', 'O', 'O', 'B-org', 'O', 'O', 'O', 'O', 'O', 'O', 'O', 'O', 'O', 'O', 'O', 'O', 'O', 'O', 'O', 'O', 'O', 'O', 'O', 'O', 'O', 'O', 'O', 'O', 'O', 'O', 'O', 'O', 'O', 'O', 'O', 'O', 'O', 'O', 'O', 'O', 'O', 'O', 'O', 'O', 'O', 'O', 'O', 'O', 'O', 'O', 'O', 'O', 'O']\n",
            "\n",
            "--->Лейбл который должен стоятть / лейбл который предсказан:  B-geo B-org\n",
            "Какое слово:  ('U.N.', 'NNP', 'B-geo')\n",
            "\n",
            "======\n",
            "\n",
            "Текст  10 :  [('Lebanese', 'JJ', 'B-gpe'), ('politicians', 'NNS', 'O'), ('are', 'VBP', 'O'), ('condemning', 'VBG', 'O'), ('Friday', 'NNP', 'B-tim'), (\"'s\", 'POS', 'O'), ('bomb', 'NN', 'O'), ('blast', 'NN', 'O'), ('in', 'IN', 'O'), ('a', 'DT', 'O'), ('Christian', 'JJ', 'O'), ('neighborhood', 'NN', 'O'), ('of', 'IN', 'O'), ('Beirut', 'NNP', 'B-geo'), ('as', 'IN', 'O'), ('an', 'DT', 'O'), ('attempt', 'NN', 'O'), ('to', 'TO', 'O'), ('sow', 'VB', 'O'), ('sectarian', 'JJ', 'O'), ('strife', 'NN', 'O'), ('in', 'IN', 'O'), ('the', 'DT', 'O'), ('formerly', 'RB', 'O'), ('war-torn', 'JJ', 'O'), ('country', 'NN', 'O'), ('.', '.', 'O')]\n",
            "Реальные:  ['B-gpe', 'O', 'O', 'O', 'B-tim', 'O', 'O', 'O', 'O', 'O', 'O', 'O', 'O', 'B-geo', 'O', 'O', 'O', 'O', 'O', 'O', 'O', 'O', 'O', 'O', 'O', 'O', 'O', 'O', 'O', 'O', 'O', 'O', 'O', 'O', 'O', 'O', 'O', 'O', 'O', 'O', 'O', 'O', 'O', 'O', 'O', 'O', 'O', 'O', 'O', 'O', 'O', 'O', 'O', 'O', 'O', 'O', 'O', 'O', 'O', 'O']\n",
            "Предсказанные:  ['B-gpe', 'O', 'O', 'O', 'B-tim', 'O', 'O', 'O', 'O', 'O', 'B-tim', 'I-tim', 'I-tim', 'B-geo', 'O', 'O', 'O', 'O', 'O', 'O', 'O', 'O', 'O', 'O', 'O', 'O', 'O', 'O', 'O', 'O', 'O', 'O', 'O', 'O', 'O', 'O', 'O', 'O', 'O', 'O', 'O', 'O', 'O', 'O', 'O', 'O', 'O', 'O', 'O', 'O', 'O', 'O', 'O', 'O', 'O', 'O', 'O', 'O', 'O', 'O']\n",
            "\n",
            "--->Лейбл который должен стоятть / лейбл который предсказан:  O B-tim\n",
            "Какое слово:  ('Christian', 'JJ', 'O')\n",
            "\n",
            "--->Лейбл который должен стоятть / лейбл который предсказан:  O I-tim\n",
            "Какое слово:  ('neighborhood', 'NN', 'O')\n",
            "\n",
            "--->Лейбл который должен стоятть / лейбл который предсказан:  O I-tim\n",
            "Какое слово:  ('of', 'IN', 'O')\n",
            "\n",
            "======\n",
            "\n",
            "Текст  11 :  [('In', 'IN', 'O'), ('Beirut', 'NNP', 'B-geo'), (',', ',', 'O'), ('a', 'DT', 'O'), ('string', 'NN', 'O'), ('of', 'IN', 'O'), ('officials', 'NNS', 'O'), ('voiced', 'VBD', 'O'), ('their', 'PRP$', 'O'), ('anger', 'NN', 'O'), (',', ',', 'O'), ('while', 'IN', 'O'), ('at', 'IN', 'O'), ('the', 'DT', 'O'), ('United', 'NNP', 'B-org'), ('Nations', 'NNP', 'I-org'), ('summit', 'NN', 'O'), ('in', 'IN', 'O'), ('New', 'NNP', 'B-geo'), ('York', 'NNP', 'I-geo'), (',', ',', 'O'), ('Prime', 'NNP', 'B-per'), ('Minister', 'NNP', 'O'), ('Fouad', 'NNP', 'B-per'), ('Siniora', 'NNP', 'I-per'), ('said', 'VBD', 'O'), ('the', 'DT', 'O'), ('Lebanese', 'JJ', 'B-gpe'), ('people', 'NNS', 'O'), ('are', 'VBP', 'O'), ('resolute', 'JJ', 'O'), ('in', 'IN', 'O'), ('preventing', 'VBG', 'O'), ('such', 'JJ', 'O'), ('attempts', 'NNS', 'O'), ('from', 'IN', 'O'), ('destroying', 'VBG', 'O'), ('their', 'PRP$', 'O'), ('spirit', 'NN', 'O'), ('.', '.', 'O')]\n",
            "Реальные:  ['O', 'B-geo', 'O', 'O', 'O', 'O', 'O', 'O', 'O', 'O', 'O', 'O', 'O', 'O', 'B-org', 'I-org', 'O', 'O', 'B-geo', 'I-geo', 'O', 'B-per', 'O', 'B-per', 'I-per', 'O', 'O', 'B-gpe', 'O', 'O', 'O', 'O', 'O', 'O', 'O', 'O', 'O', 'O', 'O', 'O', 'O', 'O', 'O', 'O', 'O', 'O', 'O', 'O', 'O', 'O', 'O', 'O', 'O', 'O', 'O', 'O', 'O', 'O', 'O', 'O']\n",
            "Предсказанные:  ['O', 'B-geo', 'O', 'O', 'O', 'O', 'O', 'O', 'O', 'O', 'O', 'O', 'O', 'O', 'B-org', 'I-org', 'O', 'O', 'B-geo', 'I-geo', 'O', 'B-per', 'I-per', 'O', 'B-per', 'O', 'O', 'B-gpe', 'O', 'O', 'O', 'O', 'O', 'O', 'O', 'O', 'O', 'O', 'O', 'O', 'O', 'O', 'O', 'O', 'O', 'O', 'O', 'O', 'O', 'O', 'O', 'O', 'O', 'O', 'O', 'O', 'O', 'O', 'O', 'O']\n",
            "\n",
            "--->Лейбл который должен стоятть / лейбл который предсказан:  O I-per\n",
            "Какое слово:  ('Minister', 'NNP', 'O')\n",
            "\n",
            "--->Лейбл который должен стоятть / лейбл который предсказан:  B-per O\n",
            "Какое слово:  ('Fouad', 'NNP', 'B-per')\n",
            "\n",
            "--->Лейбл который должен стоятть / лейбл который предсказан:  I-per B-per\n",
            "Какое слово:  ('Siniora', 'NNP', 'I-per')\n",
            "\n",
            "======\n",
            "\n",
            "Текст  13 :  [('Lebanon', 'NNP', 'B-geo'), ('has', 'VBZ', 'O'), ('suffered', 'VBN', 'O'), ('a', 'DT', 'O'), ('series', 'NN', 'O'), ('of', 'IN', 'O'), ('bombings', 'NNS', 'O'), ('since', 'IN', 'O'), ('the', 'DT', 'O'), ('massive', 'JJ', 'O'), ('explosion', 'NN', 'O'), ('in', 'IN', 'O'), ('February', 'NNP', 'B-tim'), ('that', 'WDT', 'O'), ('killed', 'VBD', 'O'), ('former', 'JJ', 'O'), ('Prime', 'NNP', 'B-per'), ('Minister', 'NNP', 'O'), ('Rafik', 'NNP', 'B-per'), ('Hariri', 'NNP', 'I-per'), ('and', 'CC', 'O'), ('20', 'CD', 'O'), ('other', 'JJ', 'O'), ('people', 'NNS', 'O'), ('.', '.', 'O')]\n",
            "Реальные:  ['B-geo', 'O', 'O', 'O', 'O', 'O', 'O', 'O', 'O', 'O', 'O', 'O', 'B-tim', 'O', 'O', 'O', 'B-per', 'O', 'B-per', 'I-per', 'O', 'O', 'O', 'O', 'O', 'O', 'O', 'O', 'O', 'O', 'O', 'O', 'O', 'O', 'O', 'O', 'O', 'O', 'O', 'O', 'O', 'O', 'O', 'O', 'O', 'O', 'O', 'O', 'O', 'O', 'O', 'O', 'O', 'O', 'O', 'O', 'O', 'O', 'O', 'O']\n",
            "Предсказанные:  ['B-geo', 'O', 'O', 'O', 'O', 'O', 'O', 'O', 'O', 'O', 'O', 'O', 'B-tim', 'O', 'O', 'O', 'B-per', 'I-per', 'I-per', 'I-per', 'O', 'O', 'O', 'O', 'O', 'O', 'O', 'O', 'O', 'O', 'O', 'O', 'O', 'O', 'O', 'O', 'O', 'O', 'O', 'O', 'O', 'O', 'O', 'O', 'O', 'O', 'O', 'O', 'O', 'O', 'O', 'O', 'O', 'O', 'O', 'O', 'O', 'O', 'O', 'O']\n",
            "\n",
            "--->Лейбл который должен стоятть / лейбл который предсказан:  O I-per\n",
            "Какое слово:  ('Minister', 'NNP', 'O')\n",
            "\n",
            "--->Лейбл который должен стоятть / лейбл который предсказан:  B-per I-per\n",
            "Какое слово:  ('Rafik', 'NNP', 'B-per')\n",
            "\n",
            "======\n",
            "\n",
            "Текст  14 :  [('Syria', 'NNP', 'B-geo'), ('is', 'VBZ', 'O'), ('widely', 'RB', 'O'), ('accused', 'VBN', 'O'), ('of', 'IN', 'O'), ('involvement', 'NN', 'O'), ('in', 'IN', 'O'), ('his', 'PRP$', 'O'), ('killing', 'NN', 'O'), (',', ',', 'O'), ('and', 'CC', 'O'), ('Friday', 'NNP', 'B-tim'), (\"'s\", 'POS', 'O'), ('explosion', 'NN', 'O'), ('comes', 'VBZ', 'O'), ('days', 'NNS', 'O'), ('before', 'IN', 'O'), ('U.N.', 'NNP', 'B-geo'), ('investigator', 'NN', 'O'), ('Detlev', 'NNP', 'B-per'), ('Mehlis', 'NNP', 'I-per'), ('is', 'VBZ', 'O'), ('to', 'TO', 'O'), ('return', 'VB', 'O'), ('to', 'TO', 'O'), ('Damascus', 'NNP', 'B-geo'), ('to', 'TO', 'O'), ('interview', 'VB', 'O'), ('several', 'JJ', 'O'), ('Syrian', 'JJ', 'B-gpe'), ('officials', 'NNS', 'O'), ('about', 'IN', 'O'), ('the', 'DT', 'O'), ('assassination', 'NN', 'O'), ('.', '.', 'O')]\n",
            "Реальные:  ['B-geo', 'O', 'O', 'O', 'O', 'O', 'O', 'O', 'O', 'O', 'O', 'B-tim', 'O', 'O', 'O', 'O', 'O', 'B-geo', 'O', 'B-per', 'I-per', 'O', 'O', 'O', 'O', 'B-geo', 'O', 'O', 'O', 'B-gpe', 'O', 'O', 'O', 'O', 'O', 'O', 'O', 'O', 'O', 'O', 'O', 'O', 'O', 'O', 'O', 'O', 'O', 'O', 'O', 'O', 'O', 'O', 'O', 'O', 'O', 'O', 'O', 'O', 'O', 'O']\n",
            "Предсказанные:  ['B-geo', 'O', 'O', 'O', 'O', 'O', 'O', 'O', 'O', 'O', 'O', 'B-tim', 'O', 'O', 'O', 'O', 'O', 'B-geo', 'O', 'B-per', 'I-geo', 'O', 'O', 'O', 'O', 'B-geo', 'O', 'O', 'O', 'B-gpe', 'O', 'O', 'O', 'O', 'O', 'O', 'O', 'O', 'O', 'O', 'O', 'O', 'O', 'O', 'O', 'O', 'O', 'O', 'O', 'O', 'O', 'O', 'O', 'O', 'O', 'O', 'O', 'O', 'O', 'O']\n",
            "\n",
            "--->Лейбл который должен стоятть / лейбл который предсказан:  I-per I-geo\n",
            "Какое слово:  ('Mehlis', 'NNP', 'I-per')\n",
            "\n",
            "======\n",
            "\n",
            "Текст  15 :  [('The', 'DT', 'O'), ('global', 'JJ', 'O'), ('financial', 'JJ', 'O'), ('crisis', 'NN', 'O'), ('has', 'VBZ', 'O'), ('left', 'VBN', 'O'), ('Iceland', 'NNP', 'B-org'), (\"'s\", 'POS', 'O'), ('economy', 'NN', 'O'), ('in', 'IN', 'O'), ('shambles', 'NNS', 'O'), ('.', '.', 'O')]\n",
            "Реальные:  ['O', 'O', 'O', 'O', 'O', 'O', 'B-org', 'O', 'O', 'O', 'O', 'O', 'O', 'O', 'O', 'O', 'O', 'O', 'O', 'O', 'O', 'O', 'O', 'O', 'O', 'O', 'O', 'O', 'O', 'O', 'O', 'O', 'O', 'O', 'O', 'O', 'O', 'O', 'O', 'O', 'O', 'O', 'O', 'O', 'O', 'O', 'O', 'O', 'O', 'O', 'O', 'O', 'O', 'O', 'O', 'O', 'O', 'O', 'O', 'O']\n",
            "Предсказанные:  ['O', 'O', 'O', 'O', 'O', 'O', 'B-geo', 'O', 'O', 'O', 'B-tim', 'O', 'O', 'O', 'O', 'O', 'O', 'O', 'O', 'O', 'O', 'O', 'O', 'O', 'O', 'O', 'O', 'O', 'O', 'O', 'O', 'O', 'O', 'O', 'O', 'O', 'O', 'O', 'O', 'O', 'O', 'O', 'O', 'O', 'O', 'O', 'O', 'O', 'O', 'O', 'O', 'O', 'O', 'O', 'O', 'O', 'O', 'O', 'O', 'O']\n",
            "\n",
            "--->Лейбл который должен стоятть / лейбл который предсказан:  B-org B-geo\n",
            "Какое слово:  ('Iceland', 'NNP', 'B-org')\n",
            "\n",
            "--->Лейбл который должен стоятть / лейбл который предсказан:  O B-tim\n",
            "Какое слово:  ('shambles', 'NNS', 'O')\n",
            "\n",
            "======\n",
            "\n",
            "Текст  20 :  [('Mr.', 'NNP', 'B-per'), ('Sharon', 'NNP', 'I-per'), ('returned', 'VBD', 'O'), ('to', 'TO', 'O'), ('work', 'VB', 'O'), ('on', 'IN', 'O'), ('December', 'NNP', 'B-tim'), ('25', 'CD', 'I-tim'), (',', ',', 'O'), ('one', 'CD', 'B-tim'), ('week', 'NN', 'O'), ('after', 'IN', 'O'), ('his', 'PRP$', 'O'), ('emergency', 'NN', 'O'), ('hospitalization', 'NN', 'O'), ('.', '.', 'O')]\n",
            "Реальные:  ['B-per', 'I-per', 'O', 'O', 'O', 'O', 'B-tim', 'I-tim', 'O', 'B-tim', 'O', 'O', 'O', 'O', 'O', 'O', 'O', 'O', 'O', 'O', 'O', 'O', 'O', 'O', 'O', 'O', 'O', 'O', 'O', 'O', 'O', 'O', 'O', 'O', 'O', 'O', 'O', 'O', 'O', 'O', 'O', 'O', 'O', 'O', 'O', 'O', 'O', 'O', 'O', 'O', 'O', 'O', 'O', 'O', 'O', 'O', 'O', 'O', 'O', 'O']\n",
            "Предсказанные:  ['B-per', 'I-per', 'O', 'O', 'O', 'O', 'B-tim', 'I-tim', 'O', 'O', 'O', 'O', 'O', 'O', 'O', 'O', 'O', 'O', 'O', 'O', 'O', 'O', 'O', 'O', 'O', 'O', 'O', 'O', 'O', 'O', 'O', 'O', 'O', 'O', 'O', 'O', 'O', 'O', 'O', 'O', 'O', 'O', 'O', 'O', 'O', 'O', 'O', 'O', 'O', 'O', 'O', 'O', 'O', 'O', 'O', 'O', 'O', 'O', 'O', 'O']\n",
            "\n",
            "--->Лейбл который должен стоятть / лейбл который предсказан:  B-tim O\n",
            "Какое слово:  ('one', 'CD', 'B-tim')\n",
            "\n",
            "======\n",
            "\n",
            "Текст  23 :  [('SpaceShipOne', 'NNP', 'B-art'), ('designer', 'NN', 'O'), ('Burt', 'NNP', 'B-per'), ('Rutan', 'NNP', 'I-per'), ('accepted', 'VBD', 'O'), ('the', 'DT', 'O'), ('Ansari', 'NNP', 'B-art'), ('X', 'NNP', 'I-art'), ('Prize', 'NNP', 'I-art'), ('money', 'NN', 'O'), ('and', 'CC', 'O'), ('a', 'DT', 'O'), ('trophy', 'NN', 'O'), ('on', 'IN', 'O'), ('behalf', 'NN', 'O'), ('of', 'IN', 'O'), ('his', 'PRP$', 'O'), ('team', 'NN', 'O'), ('Saturday', 'NNP', 'B-tim'), ('during', 'IN', 'O'), ('an', 'DT', 'O'), ('awards', 'NNS', 'O'), ('ceremony', 'NN', 'O'), ('in', 'IN', 'O'), ('the', 'DT', 'O'), ('U.S.', 'NNP', 'B-geo'), ('state', 'NN', 'O'), ('of', 'IN', 'O'), ('Missouri', 'NNP', 'B-geo'), ('.', '.', 'O')]\n",
            "Реальные:  ['B-art', 'O', 'B-per', 'I-per', 'O', 'O', 'B-art', 'I-art', 'I-art', 'O', 'O', 'O', 'O', 'O', 'O', 'O', 'O', 'O', 'B-tim', 'O', 'O', 'O', 'O', 'O', 'O', 'B-geo', 'O', 'O', 'B-geo', 'O', 'O', 'O', 'O', 'O', 'O', 'O', 'O', 'O', 'O', 'O', 'O', 'O', 'O', 'O', 'O', 'O', 'O', 'O', 'O', 'O', 'O', 'O', 'O', 'O', 'O', 'O', 'O', 'O', 'O', 'O']\n",
            "Предсказанные:  ['O', 'O', 'O', 'O', 'O', 'O', 'B-org', 'I-org', 'I-org', 'O', 'O', 'O', 'O', 'O', 'O', 'O', 'O', 'O', 'B-tim', 'O', 'O', 'O', 'O', 'O', 'O', 'B-geo', 'O', 'O', 'B-geo', 'O', 'O', 'O', 'O', 'O', 'O', 'O', 'O', 'O', 'O', 'O', 'O', 'O', 'O', 'O', 'O', 'O', 'O', 'O', 'O', 'O', 'O', 'O', 'O', 'O', 'O', 'O', 'O', 'O', 'O', 'O']\n",
            "\n",
            "--->Лейбл который должен стоятть / лейбл который предсказан:  B-art O\n",
            "Какое слово:  ('SpaceShipOne', 'NNP', 'B-art')\n",
            "\n",
            "--->Лейбл который должен стоятть / лейбл который предсказан:  B-per O\n",
            "Какое слово:  ('Burt', 'NNP', 'B-per')\n",
            "\n",
            "--->Лейбл который должен стоятть / лейбл который предсказан:  I-per O\n",
            "Какое слово:  ('Rutan', 'NNP', 'I-per')\n",
            "\n",
            "--->Лейбл который должен стоятть / лейбл который предсказан:  B-art B-org\n",
            "Какое слово:  ('Ansari', 'NNP', 'B-art')\n",
            "\n",
            "--->Лейбл который должен стоятть / лейбл который предсказан:  I-art I-org\n",
            "Какое слово:  ('X', 'NNP', 'I-art')\n",
            "\n",
            "--->Лейбл который должен стоятть / лейбл который предсказан:  I-art I-org\n",
            "Какое слово:  ('Prize', 'NNP', 'I-art')\n",
            "\n",
            "======\n",
            "\n",
            "Текст  24 :  [('To', 'TO', 'O'), ('win', 'VB', 'O'), ('the', 'DT', 'O'), ('money', 'NN', 'O'), (',', ',', 'O'), ('SpaceShipOne', 'NNP', 'B-art'), ('had', 'VBD', 'O'), ('to', 'TO', 'O'), ('blast', 'VB', 'O'), ('off', 'RP', 'O'), ('into', 'IN', 'O'), ('space', 'NN', 'O'), ('twice', 'RB', 'O'), ('in', 'IN', 'O'), ('a', 'DT', 'O'), ('two-week', 'JJ', 'B-tim'), ('period', 'NN', 'I-tim'), ('and', 'CC', 'O'), ('fly', 'VB', 'O'), ('at', 'IN', 'O'), ('least', 'JJS', 'O'), ('100', 'CD', 'O'), ('kilometers', 'NNS', 'O'), ('above', 'IN', 'O'), ('Earth', 'NNP', 'B-geo'), ('.', '.', 'O')]\n",
            "Реальные:  ['O', 'O', 'O', 'O', 'O', 'B-art', 'O', 'O', 'O', 'O', 'O', 'O', 'O', 'O', 'O', 'B-tim', 'I-tim', 'O', 'O', 'O', 'O', 'O', 'O', 'O', 'B-geo', 'O', 'O', 'O', 'O', 'O', 'O', 'O', 'O', 'O', 'O', 'O', 'O', 'O', 'O', 'O', 'O', 'O', 'O', 'O', 'O', 'O', 'O', 'O', 'O', 'O', 'O', 'O', 'O', 'O', 'O', 'O', 'O', 'O', 'O', 'O']\n",
            "Предсказанные:  ['O', 'O', 'O', 'O', 'O', 'O', 'O', 'O', 'O', 'O', 'O', 'O', 'O', 'O', 'O', 'B-tim', 'I-tim', 'O', 'O', 'O', 'O', 'O', 'O', 'O', 'B-geo', 'O', 'O', 'O', 'O', 'O', 'O', 'O', 'O', 'O', 'O', 'O', 'O', 'O', 'O', 'O', 'O', 'O', 'O', 'O', 'O', 'O', 'O', 'O', 'O', 'O', 'O', 'O', 'O', 'O', 'O', 'O', 'O', 'O', 'O', 'O']\n",
            "\n",
            "--->Лейбл который должен стоятть / лейбл который предсказан:  B-art O\n",
            "Какое слово:  ('SpaceShipOne', 'NNP', 'B-art')\n",
            "\n",
            "======\n",
            "\n",
            "Текст  25 :  [('The', 'DT', 'O'), ('spacecraft', 'NN', 'O'), ('made', 'VBD', 'O'), ('its', 'PRP$', 'O'), ('flights', 'NNS', 'O'), ('in', 'IN', 'O'), ('late', 'JJ', 'O'), ('September', 'NNP', 'B-tim'), ('and', 'CC', 'O'), ('early', 'JJ', 'O'), ('October', 'NNP', 'B-tim'), (',', ',', 'O'), ('lifting', 'VBG', 'O'), ('off', 'RP', 'O'), ('from', 'IN', 'O'), ('California', 'NNP', 'B-geo'), (\"'s\", 'POS', 'O'), ('Mojave', 'NNP', 'B-geo'), ('desert', 'NN', 'O'), ('.', '.', 'O')]\n",
            "Реальные:  ['O', 'O', 'O', 'O', 'O', 'O', 'O', 'B-tim', 'O', 'O', 'B-tim', 'O', 'O', 'O', 'O', 'B-geo', 'O', 'B-geo', 'O', 'O', 'O', 'O', 'O', 'O', 'O', 'O', 'O', 'O', 'O', 'O', 'O', 'O', 'O', 'O', 'O', 'O', 'O', 'O', 'O', 'O', 'O', 'O', 'O', 'O', 'O', 'O', 'O', 'O', 'O', 'O', 'O', 'O', 'O', 'O', 'O', 'O', 'O', 'O', 'O', 'O']\n",
            "Предсказанные:  ['O', 'O', 'O', 'O', 'O', 'O', 'O', 'B-tim', 'I-tim', 'O', 'B-tim', 'O', 'O', 'O', 'O', 'B-geo', 'O', 'O', 'O', 'O', 'O', 'O', 'O', 'O', 'O', 'O', 'O', 'O', 'O', 'O', 'O', 'O', 'O', 'O', 'O', 'O', 'O', 'O', 'O', 'O', 'O', 'O', 'O', 'O', 'O', 'O', 'O', 'O', 'O', 'O', 'O', 'O', 'O', 'O', 'O', 'O', 'O', 'O', 'O', 'O']\n",
            "\n",
            "--->Лейбл который должен стоятть / лейбл который предсказан:  O I-tim\n",
            "Какое слово:  ('and', 'CC', 'O')\n",
            "\n",
            "--->Лейбл который должен стоятть / лейбл который предсказан:  B-geo O\n",
            "Какое слово:  ('Mojave', 'NNP', 'B-geo')\n",
            "\n",
            "======\n",
            "\n",
            "Текст  28 :  [('SpaceShipOne', 'NNP', 'B-art'), ('was', 'VBD', 'O'), ('financed', 'VBN', 'O'), ('with', 'IN', 'O'), ('more', 'JJR', 'O'), ('than', 'IN', 'O'), ('$', '$', 'O'), ('20', 'CD', 'O'), ('million', 'CD', 'O'), ('from', 'IN', 'O'), ('Paul', 'NNP', 'B-per'), ('Allen', 'NNP', 'I-per'), (',', ',', 'O'), ('a', 'DT', 'O'), ('co-founder', 'NN', 'O'), ('of', 'IN', 'O'), ('the', 'DT', 'O'), ('Microsoft', 'NNP', 'B-org'), ('Corporation', 'NNP', 'I-org'), ('.', '.', 'O')]\n",
            "Реальные:  ['B-art', 'O', 'O', 'O', 'O', 'O', 'O', 'O', 'O', 'O', 'B-per', 'I-per', 'O', 'O', 'O', 'O', 'O', 'B-org', 'I-org', 'O', 'O', 'O', 'O', 'O', 'O', 'O', 'O', 'O', 'O', 'O', 'O', 'O', 'O', 'O', 'O', 'O', 'O', 'O', 'O', 'O', 'O', 'O', 'O', 'O', 'O', 'O', 'O', 'O', 'O', 'O', 'O', 'O', 'O', 'O', 'O', 'O', 'O', 'O', 'O', 'O']\n",
            "Предсказанные:  ['O', 'O', 'O', 'O', 'O', 'O', 'O', 'O', 'O', 'O', 'B-per', 'I-per', 'O', 'O', 'O', 'O', 'O', 'B-org', 'I-org', 'O', 'O', 'O', 'O', 'O', 'O', 'O', 'O', 'O', 'O', 'O', 'O', 'O', 'O', 'O', 'O', 'O', 'O', 'O', 'O', 'O', 'O', 'O', 'O', 'O', 'O', 'O', 'O', 'O', 'O', 'O', 'O', 'O', 'O', 'O', 'O', 'O', 'O', 'O', 'O', 'O']\n",
            "\n",
            "--->Лейбл который должен стоятть / лейбл который предсказан:  B-art O\n",
            "Какое слово:  ('SpaceShipOne', 'NNP', 'B-art')\n",
            "\n",
            "======\n",
            "\n",
            "Текст  29 :  [('North', 'NNP', 'B-geo'), ('Korea', 'NNP', 'I-geo'), ('says', 'VBZ', 'O'), ('flooding', 'NN', 'O'), ('caused', 'VBN', 'O'), ('by', 'IN', 'O'), ('last', 'JJ', 'O'), ('week', 'NN', 'O'), (\"'s\", 'POS', 'O'), ('typhoon', 'NN', 'O'), (',', ',', 'O'), ('Wipha', 'NNP', 'B-per'), (',', ',', 'O'), ('has', 'VBZ', 'O'), ('destroyed', 'VBN', 'O'), ('14,000', 'CD', 'O'), ('homes', 'NNS', 'O'), ('and', 'CC', 'O'), ('1,09,000', 'CD', 'O'), ('hectares', 'NNS', 'O'), ('of', 'IN', 'O'), ('crops', 'NNS', 'O'), ('.', '.', 'O')]\n",
            "Реальные:  ['B-geo', 'I-geo', 'O', 'O', 'O', 'O', 'O', 'O', 'O', 'O', 'O', 'B-per', 'O', 'O', 'O', 'O', 'O', 'O', 'O', 'O', 'O', 'O', 'O', 'O', 'O', 'O', 'O', 'O', 'O', 'O', 'O', 'O', 'O', 'O', 'O', 'O', 'O', 'O', 'O', 'O', 'O', 'O', 'O', 'O', 'O', 'O', 'O', 'O', 'O', 'O', 'O', 'O', 'O', 'O', 'O', 'O', 'O', 'O', 'O', 'O']\n",
            "Предсказанные:  ['B-geo', 'I-geo', 'O', 'O', 'O', 'O', 'O', 'O', 'O', 'O', 'O', 'O', 'O', 'O', 'O', 'O', 'O', 'O', 'O', 'O', 'O', 'O', 'O', 'O', 'O', 'O', 'O', 'O', 'O', 'O', 'O', 'O', 'O', 'O', 'O', 'O', 'O', 'O', 'O', 'O', 'O', 'O', 'O', 'O', 'O', 'O', 'O', 'O', 'O', 'O', 'O', 'O', 'O', 'O', 'O', 'O', 'O', 'O', 'O', 'O']\n",
            "\n",
            "--->Лейбл который должен стоятть / лейбл который предсказан:  B-per O\n",
            "Какое слово:  ('Wipha', 'NNP', 'B-per')\n",
            "\n",
            "======\n",
            "\n",
            "Текст  33 :  [('Most', 'JJS', 'O'), ('of', 'IN', 'O'), ('the', 'DT', 'O'), ('heavy', 'JJ', 'O'), ('rains', 'NNS', 'O'), ('and', 'CC', 'O'), ('flooding', 'NN', 'O'), ('occurred', 'VBD', 'O'), ('in', 'IN', 'O'), ('the', 'DT', 'O'), ('southwestern', 'JJ', 'O'), ('part', 'NN', 'O'), ('of', 'IN', 'O'), ('the', 'DT', 'O'), ('country', 'NN', 'O'), (',', ',', 'O'), ('including', 'VBG', 'O'), ('the', 'DT', 'O'), ('capital', 'NN', 'O'), (',', ',', 'O'), ('Pyongyang', 'NNP', 'B-geo'), ('.', '.', 'O')]\n",
            "Реальные:  ['O', 'O', 'O', 'O', 'O', 'O', 'O', 'O', 'O', 'O', 'O', 'O', 'O', 'O', 'O', 'O', 'O', 'O', 'O', 'O', 'B-geo', 'O', 'O', 'O', 'O', 'O', 'O', 'O', 'O', 'O', 'O', 'O', 'O', 'O', 'O', 'O', 'O', 'O', 'O', 'O', 'O', 'O', 'O', 'O', 'O', 'O', 'O', 'O', 'O', 'O', 'O', 'O', 'O', 'O', 'O', 'O', 'O', 'O', 'O', 'O']\n",
            "Предсказанные:  ['O', 'O', 'O', 'O', 'O', 'O', 'O', 'O', 'O', 'O', 'O', 'O', 'O', 'O', 'O', 'O', 'O', 'O', 'O', 'O', 'B-per', 'O', 'O', 'O', 'O', 'O', 'O', 'O', 'O', 'O', 'O', 'O', 'O', 'O', 'O', 'O', 'O', 'O', 'O', 'O', 'O', 'O', 'O', 'O', 'O', 'O', 'O', 'O', 'O', 'O', 'O', 'O', 'O', 'O', 'O', 'O', 'O', 'O', 'O', 'O']\n",
            "\n",
            "--->Лейбл который должен стоятть / лейбл который предсказан:  B-geo B-per\n",
            "Какое слово:  ('Pyongyang', 'NNP', 'B-geo')\n",
            "\n",
            "======\n",
            "\n",
            "Текст  35 :  [('A', 'DT', 'O'), ('strong', 'JJ', 'O'), ('earthquake', 'NN', 'O'), ('under', 'IN', 'O'), ('the', 'DT', 'O'), ('ocean', 'NN', 'O'), ('off', 'IN', 'O'), ('Indonesia', 'NNP', 'B-org'), (\"'s\", 'POS', 'I-org'), ('Sumatra', 'NNP', 'I-org'), ('and', 'CC', 'I-org'), ('Nias', 'NNP', 'I-org'), ('islands', 'NNS', 'I-org'), ('has', 'VBZ', 'O'), ('caused', 'VBN', 'O'), ('some', 'DT', 'O'), ('panic', 'NN', 'O'), ('but', 'CC', 'O'), ('no', 'DT', 'O'), ('damage', 'NN', 'O'), ('or', 'CC', 'O'), ('injuries', 'NNS', 'O'), ('.', '.', 'O')]\n",
            "Реальные:  ['O', 'O', 'O', 'O', 'O', 'O', 'O', 'B-org', 'I-org', 'I-org', 'I-org', 'I-org', 'I-org', 'O', 'O', 'O', 'O', 'O', 'O', 'O', 'O', 'O', 'O', 'O', 'O', 'O', 'O', 'O', 'O', 'O', 'O', 'O', 'O', 'O', 'O', 'O', 'O', 'O', 'O', 'O', 'O', 'O', 'O', 'O', 'O', 'O', 'O', 'O', 'O', 'O', 'O', 'O', 'O', 'O', 'O', 'O', 'O', 'O', 'O', 'O']\n",
            "Предсказанные:  ['O', 'O', 'O', 'O', 'O', 'O', 'O', 'B-geo', 'O', 'B-geo', 'O', 'B-geo', 'O', 'O', 'O', 'O', 'O', 'O', 'O', 'O', 'O', 'O', 'O', 'O', 'O', 'O', 'O', 'O', 'O', 'O', 'O', 'O', 'O', 'O', 'O', 'O', 'O', 'O', 'O', 'O', 'O', 'O', 'O', 'O', 'O', 'O', 'O', 'O', 'O', 'O', 'O', 'O', 'O', 'O', 'O', 'O', 'O', 'O', 'O', 'O']\n",
            "\n",
            "--->Лейбл который должен стоятть / лейбл который предсказан:  B-org B-geo\n",
            "Какое слово:  ('Indonesia', 'NNP', 'B-org')\n",
            "\n",
            "--->Лейбл который должен стоятть / лейбл который предсказан:  I-org O\n",
            "Какое слово:  (\"'s\", 'POS', 'I-org')\n",
            "\n",
            "--->Лейбл который должен стоятть / лейбл который предсказан:  I-org B-geo\n",
            "Какое слово:  ('Sumatra', 'NNP', 'I-org')\n",
            "\n",
            "--->Лейбл который должен стоятть / лейбл который предсказан:  I-org O\n",
            "Какое слово:  ('and', 'CC', 'I-org')\n",
            "\n",
            "--->Лейбл который должен стоятть / лейбл который предсказан:  I-org B-geo\n",
            "Какое слово:  ('Nias', 'NNP', 'I-org')\n",
            "\n",
            "--->Лейбл который должен стоятть / лейбл который предсказан:  I-org O\n",
            "Какое слово:  ('islands', 'NNS', 'I-org')\n",
            "\n",
            "======\n",
            "\n",
            "Текст  36 :  [('The', 'DT', 'O'), ('U.S.', 'NNP', 'B-org'), ('Geological', 'NNP', 'I-org'), ('Survey', 'NNP', 'I-org'), ('gave', 'VBD', 'O'), ('a', 'DT', 'O'), ('preliminary', 'JJ', 'O'), ('estimate', 'NN', 'O'), ('of', 'IN', 'O'), ('the', 'DT', 'O'), ('strength', 'NN', 'O'), ('of', 'IN', 'O'), ('the', 'DT', 'O'), ('Tuesday', 'NNP', 'B-tim'), ('morning', 'NN', 'I-tim'), ('quake', 'NN', 'O'), ('at', 'IN', 'O'), ('6.7', 'CD', 'O'), ('on', 'IN', 'O'), ('the', 'DT', 'O'), ('Richter', 'NNP', 'B-geo'), ('scale', 'NN', 'O'), (',', ',', 'O'), ('and', 'CC', 'O'), ('said', 'VBD', 'O'), ('the', 'DT', 'O'), ('epicenter', 'NN', 'O'), ('was', 'VBD', 'O'), ('close', 'RB', 'O'), ('to', 'TO', 'O'), ('the', 'DT', 'O'), ('island', 'NN', 'O'), ('of', 'IN', 'O'), ('Nias', 'NNP', 'B-org'), ('.', '.', 'O')]\n",
            "Реальные:  ['O', 'B-org', 'I-org', 'I-org', 'O', 'O', 'O', 'O', 'O', 'O', 'O', 'O', 'O', 'B-tim', 'I-tim', 'O', 'O', 'O', 'O', 'O', 'B-geo', 'O', 'O', 'O', 'O', 'O', 'O', 'O', 'O', 'O', 'O', 'O', 'O', 'B-org', 'O', 'O', 'O', 'O', 'O', 'O', 'O', 'O', 'O', 'O', 'O', 'O', 'O', 'O', 'O', 'O', 'O', 'O', 'O', 'O', 'O', 'O', 'O', 'O', 'O', 'O']\n",
            "Предсказанные:  ['O', 'B-org', 'I-org', 'I-org', 'O', 'O', 'O', 'O', 'O', 'O', 'O', 'O', 'O', 'B-tim', 'I-tim', 'O', 'O', 'O', 'O', 'O', 'B-geo', 'O', 'O', 'O', 'O', 'O', 'O', 'O', 'O', 'O', 'O', 'O', 'O', 'B-geo', 'O', 'O', 'O', 'O', 'O', 'O', 'O', 'O', 'O', 'O', 'O', 'O', 'O', 'O', 'O', 'O', 'O', 'O', 'O', 'O', 'O', 'O', 'O', 'O', 'O', 'O']\n",
            "\n",
            "--->Лейбл который должен стоятть / лейбл который предсказан:  B-org B-geo\n",
            "Какое слово:  ('Nias', 'NNP', 'B-org')\n",
            "\n",
            "======\n",
            "\n",
            "Текст  37 :  [('Prime', 'JJ', 'O'), ('Minister', 'NN', 'O'), ('Geir', 'NNP', 'B-per'), ('Haarde', 'NNP', 'I-per'), ('has', 'VBZ', 'O'), ('refused', 'VBN', 'O'), ('to', 'TO', 'O'), ('resign', 'VB', 'O'), ('or', 'CC', 'O'), ('call', 'VB', 'O'), ('for', 'IN', 'O'), ('early', 'JJ', 'O'), ('elections', 'NNS', 'O'), ('.', '.', 'O')]\n",
            "Реальные:  ['O', 'O', 'B-per', 'I-per', 'O', 'O', 'O', 'O', 'O', 'O', 'O', 'O', 'O', 'O', 'O', 'O', 'O', 'O', 'O', 'O', 'O', 'O', 'O', 'O', 'O', 'O', 'O', 'O', 'O', 'O', 'O', 'O', 'O', 'O', 'O', 'O', 'O', 'O', 'O', 'O', 'O', 'O', 'O', 'O', 'O', 'O', 'O', 'O', 'O', 'O', 'O', 'O', 'O', 'O', 'O', 'O', 'O', 'O', 'O', 'O']\n",
            "Предсказанные:  ['B-per', 'I-per', 'I-per', 'I-per', 'O', 'O', 'O', 'O', 'O', 'O', 'O', 'O', 'O', 'O', 'O', 'O', 'O', 'O', 'O', 'O', 'O', 'O', 'O', 'O', 'O', 'O', 'O', 'O', 'O', 'O', 'O', 'O', 'O', 'O', 'O', 'O', 'O', 'O', 'O', 'O', 'O', 'O', 'O', 'O', 'O', 'O', 'O', 'O', 'O', 'O', 'O', 'O', 'O', 'O', 'O', 'O', 'O', 'O', 'O', 'O']\n",
            "\n",
            "--->Лейбл который должен стоятть / лейбл который предсказан:  O B-per\n",
            "Какое слово:  ('Prime', 'JJ', 'O')\n",
            "\n",
            "--->Лейбл который должен стоятть / лейбл который предсказан:  O I-per\n",
            "Какое слово:  ('Minister', 'NN', 'O')\n",
            "\n",
            "--->Лейбл который должен стоятть / лейбл который предсказан:  B-per I-per\n",
            "Какое слово:  ('Geir', 'NNP', 'B-per')\n",
            "\n",
            "======\n",
            "\n",
            "Текст  39 :  [('An', 'DT', 'O'), ('earthquake', 'NN', 'O'), ('in', 'IN', 'O'), ('late', 'JJ', 'O'), ('March', 'NNP', 'B-tim'), ('killed', 'VBD', 'O'), ('more', 'JJR', 'O'), ('than', 'IN', 'O'), ('900', 'CD', 'O'), ('people', 'NNS', 'O'), ('on', 'IN', 'O'), ('Nias', 'NNP', 'B-org'), ('.', '.', 'O')]\n",
            "Реальные:  ['O', 'O', 'O', 'O', 'B-tim', 'O', 'O', 'O', 'O', 'O', 'O', 'B-org', 'O', 'O', 'O', 'O', 'O', 'O', 'O', 'O', 'O', 'O', 'O', 'O', 'O', 'O', 'O', 'O', 'O', 'O', 'O', 'O', 'O', 'O', 'O', 'O', 'O', 'O', 'O', 'O', 'O', 'O', 'O', 'O', 'O', 'O', 'O', 'O', 'O', 'O', 'O', 'O', 'O', 'O', 'O', 'O', 'O', 'O', 'O', 'O']\n",
            "Предсказанные:  ['O', 'O', 'O', 'O', 'B-tim', 'O', 'O', 'O', 'O', 'O', 'O', 'B-geo', 'O', 'O', 'O', 'O', 'O', 'O', 'O', 'O', 'O', 'O', 'O', 'O', 'O', 'O', 'O', 'O', 'O', 'O', 'O', 'O', 'O', 'O', 'O', 'O', 'O', 'O', 'O', 'O', 'O', 'O', 'O', 'O', 'O', 'O', 'O', 'O', 'O', 'O', 'O', 'O', 'O', 'O', 'O', 'O', 'O', 'O', 'O', 'O']\n",
            "\n",
            "--->Лейбл который должен стоятть / лейбл который предсказан:  B-org B-geo\n",
            "Какое слово:  ('Nias', 'NNP', 'B-org')\n",
            "\n",
            "======\n",
            "\n",
            "Текст  40 :  [('Both', 'DT', 'O'), ('Sumatra', 'NNP', 'B-org'), ('and', 'CC', 'O'), ('Nias', 'NNP', 'B-org'), ('have', 'VBP', 'O'), ('experienced', 'VBN', 'O'), ('countless', 'JJ', 'O'), ('earthquakes', 'NNS', 'O'), ('since', 'IN', 'O'), ('a', 'DT', 'O'), ('massive', 'JJ', 'O'), ('tsunami-producing', 'JJ', 'O'), ('quake', 'NN', 'O'), ('on', 'IN', 'O'), ('December', 'NNP', 'B-tim'), ('26', 'CD', 'I-tim'), ('.', '.', 'O')]\n",
            "Реальные:  ['O', 'B-org', 'O', 'B-org', 'O', 'O', 'O', 'O', 'O', 'O', 'O', 'O', 'O', 'O', 'B-tim', 'I-tim', 'O', 'O', 'O', 'O', 'O', 'O', 'O', 'O', 'O', 'O', 'O', 'O', 'O', 'O', 'O', 'O', 'O', 'O', 'O', 'O', 'O', 'O', 'O', 'O', 'O', 'O', 'O', 'O', 'O', 'O', 'O', 'O', 'O', 'O', 'O', 'O', 'O', 'O', 'O', 'O', 'O', 'O', 'O', 'O']\n",
            "Предсказанные:  ['O', 'B-geo', 'O', 'B-geo', 'O', 'O', 'O', 'O', 'O', 'O', 'O', 'O', 'O', 'O', 'B-tim', 'I-tim', 'O', 'O', 'O', 'O', 'O', 'O', 'O', 'O', 'O', 'O', 'O', 'O', 'O', 'O', 'O', 'O', 'O', 'O', 'O', 'O', 'O', 'O', 'O', 'O', 'O', 'O', 'O', 'O', 'O', 'O', 'O', 'O', 'O', 'O', 'O', 'O', 'O', 'O', 'O', 'O', 'O', 'O', 'O', 'O']\n",
            "\n",
            "--->Лейбл который должен стоятть / лейбл который предсказан:  B-org B-geo\n",
            "Какое слово:  ('Sumatra', 'NNP', 'B-org')\n",
            "\n",
            "--->Лейбл который должен стоятть / лейбл который предсказан:  B-org B-geo\n",
            "Какое слово:  ('Nias', 'NNP', 'B-org')\n",
            "\n",
            "======\n",
            "\n",
            "Текст  45 :  [('The', 'DT', 'O'), ('group', 'NN', 'O'), ('was', 'VBD', 'O'), ('waiting', 'VBG', 'O'), ('for', 'IN', 'O'), ('a', 'DT', 'O'), ('flight', 'NN', 'O'), ('to', 'TO', 'O'), ('South', 'NNP', 'B-geo'), ('Africa', 'NNP', 'I-geo'), (',', ',', 'O'), ('where', 'WRB', 'O'), ('Snoop', 'NNP', 'B-per'), ('Dogg', 'NNP', 'I-per'), ('was', 'VBD', 'O'), ('to', 'TO', 'O'), ('perform', 'VB', 'O'), ('in', 'IN', 'O'), ('a', 'DT', 'O'), ('concert', 'NN', 'O'), ('Thursday', 'NNP', 'B-tim'), (',', ',', 'O'), ('when', 'WRB', 'O'), ('it', 'PRP', 'O'), ('was', 'VBD', 'O'), ('denied', 'VBN', 'O'), ('access', 'NN', 'O'), ('to', 'TO', 'O'), ('a', 'DT', 'O'), ('first-class', 'JJ', 'O'), ('lounge', 'NN', 'O'), ('at', 'IN', 'O'), ('the', 'DT', 'O'), ('airport', 'NN', 'O'), ('.', '.', 'O')]\n",
            "Реальные:  ['O', 'O', 'O', 'O', 'O', 'O', 'O', 'O', 'B-geo', 'I-geo', 'O', 'O', 'B-per', 'I-per', 'O', 'O', 'O', 'O', 'O', 'O', 'B-tim', 'O', 'O', 'O', 'O', 'O', 'O', 'O', 'O', 'O', 'O', 'O', 'O', 'O', 'O', 'O', 'O', 'O', 'O', 'O', 'O', 'O', 'O', 'O', 'O', 'O', 'O', 'O', 'O', 'O', 'O', 'O', 'O', 'O', 'O', 'O', 'O', 'O', 'O', 'O']\n",
            "Предсказанные:  ['O', 'O', 'O', 'O', 'O', 'O', 'O', 'O', 'B-geo', 'I-geo', 'O', 'O', 'O', 'O', 'O', 'O', 'O', 'O', 'O', 'O', 'B-tim', 'O', 'O', 'O', 'O', 'O', 'O', 'O', 'O', 'O', 'O', 'O', 'O', 'O', 'O', 'O', 'O', 'O', 'O', 'O', 'O', 'O', 'O', 'O', 'O', 'O', 'O', 'O', 'O', 'O', 'O', 'O', 'O', 'O', 'O', 'O', 'O', 'O', 'O', 'O']\n",
            "\n",
            "--->Лейбл который должен стоятть / лейбл который предсказан:  B-per O\n",
            "Какое слово:  ('Snoop', 'NNP', 'B-per')\n",
            "\n",
            "--->Лейбл который должен стоятть / лейбл который предсказан:  I-per O\n",
            "Какое слово:  ('Dogg', 'NNP', 'I-per')\n",
            "\n",
            "======\n",
            "\n",
            "Текст  47 :  [('Snoop', 'NNP', 'B-per'), ('Dogg', 'NNP', 'I-per'), ('is', 'VBZ', 'O'), ('a', 'DT', 'O'), ('former', 'JJ', 'O'), ('member', 'NN', 'O'), ('of', 'IN', 'O'), ('a', 'DT', 'O'), ('street', 'NN', 'O'), ('gang', 'NN', 'O'), ('the', 'DT', 'O'), ('Crips', 'NNS', 'B-org'), (',', ',', 'O'), ('from', 'IN', 'O'), ('Southern', 'NNP', 'B-geo'), ('California', 'NNP', 'I-geo'), (',', ',', 'O'), ('and', 'CC', 'O'), ('many', 'NN', 'O'), ('of', 'IN', 'O'), ('his', 'PRP$', 'O'), ('songs', 'NNS', 'O'), ('reflect', 'VBP', 'O'), ('the', 'DT', 'O'), ('gritty', 'JJ', 'O'), ('life', 'NN', 'O'), ('on', 'IN', 'O'), ('the', 'DT', 'O'), ('streets', 'NNS', 'O'), ('.', '.', 'O')]\n",
            "Реальные:  ['B-per', 'I-per', 'O', 'O', 'O', 'O', 'O', 'O', 'O', 'O', 'O', 'B-org', 'O', 'O', 'B-geo', 'I-geo', 'O', 'O', 'O', 'O', 'O', 'O', 'O', 'O', 'O', 'O', 'O', 'O', 'O', 'O', 'O', 'O', 'O', 'O', 'O', 'O', 'O', 'O', 'O', 'O', 'O', 'O', 'O', 'O', 'O', 'O', 'O', 'O', 'O', 'O', 'O', 'O', 'O', 'O', 'O', 'O', 'O', 'O', 'O', 'O']\n",
            "Предсказанные:  ['O', 'O', 'O', 'O', 'O', 'O', 'O', 'O', 'O', 'O', 'O', 'B-geo', 'O', 'O', 'B-geo', 'I-geo', 'O', 'O', 'O', 'O', 'O', 'O', 'O', 'O', 'O', 'O', 'O', 'O', 'O', 'O', 'O', 'O', 'O', 'O', 'O', 'O', 'O', 'O', 'O', 'O', 'O', 'O', 'O', 'O', 'O', 'O', 'O', 'O', 'O', 'O', 'O', 'O', 'O', 'O', 'O', 'O', 'O', 'O', 'O', 'O']\n",
            "\n",
            "--->Лейбл который должен стоятть / лейбл который предсказан:  B-per O\n",
            "Какое слово:  ('Snoop', 'NNP', 'B-per')\n",
            "\n",
            "--->Лейбл который должен стоятть / лейбл который предсказан:  I-per O\n",
            "Какое слово:  ('Dogg', 'NNP', 'I-per')\n",
            "\n",
            "--->Лейбл который должен стоятть / лейбл который предсказан:  B-org B-geo\n",
            "Какое слово:  ('Crips', 'NNS', 'B-org')\n",
            "\n",
            "======\n",
            "\n",
            "Текст  48 :  [('He', 'PRP', 'O'), ('blames', 'VBZ', 'O'), ('Iceland', 'NNP', 'B-org'), (\"'s\", 'POS', 'O'), ('economic', 'JJ', 'O'), ('calamity', 'NN', 'O'), ('on', 'IN', 'O'), ('commercial', 'JJ', 'O'), ('bankers', 'NNS', 'O'), ('.', '.', 'O')]\n",
            "Реальные:  ['O', 'O', 'B-org', 'O', 'O', 'O', 'O', 'O', 'O', 'O', 'O', 'O', 'O', 'O', 'O', 'O', 'O', 'O', 'O', 'O', 'O', 'O', 'O', 'O', 'O', 'O', 'O', 'O', 'O', 'O', 'O', 'O', 'O', 'O', 'O', 'O', 'O', 'O', 'O', 'O', 'O', 'O', 'O', 'O', 'O', 'O', 'O', 'O', 'O', 'O', 'O', 'O', 'O', 'O', 'O', 'O', 'O', 'O', 'O', 'O']\n",
            "Предсказанные:  ['O', 'O', 'B-geo', 'O', 'O', 'O', 'O', 'O', 'O', 'O', 'O', 'O', 'O', 'O', 'O', 'O', 'O', 'O', 'O', 'O', 'O', 'O', 'O', 'O', 'O', 'O', 'O', 'O', 'O', 'O', 'O', 'O', 'O', 'O', 'O', 'O', 'O', 'O', 'O', 'O', 'O', 'O', 'O', 'O', 'O', 'O', 'O', 'O', 'O', 'O', 'O', 'O', 'O', 'O', 'O', 'O', 'O', 'O', 'O', 'O']\n",
            "\n",
            "--->Лейбл который должен стоятть / лейбл который предсказан:  B-org B-geo\n",
            "Какое слово:  ('Iceland', 'NNP', 'B-org')\n",
            "\n",
            "======\n",
            "\n",
            "Текст  57 :  [('For', 'IN', 'O'), ('the', 'DT', 'O'), ('last', 'JJ', 'O'), ('four', 'CD', 'B-tim'), ('weeks', 'NNS', 'O'), ('a', 'DT', 'O'), ('team', 'NN', 'O'), ('led', 'VBN', 'O'), ('by', 'IN', 'O'), ('former', 'JJ', 'O'), ('UN', 'NNP', 'B-org'), ('Secretary-General', 'NNP', 'I-org'), ('Kofi', 'NNP', 'B-per'), ('Annan', 'NNP', 'I-per'), ('has', 'VBZ', 'O'), ('been', 'VBN', 'O'), ('trying', 'VBG', 'O'), ('to', 'TO', 'O'), ('broker', 'NN', 'O'), ('a', 'DT', 'O'), ('deal', 'NN', 'O'), ('between', 'IN', 'O'), ('the', 'DT', 'O'), ('Kenyan', 'JJ', 'B-gpe'), ('government', 'NN', 'O'), ('of', 'IN', 'O'), ('President', 'NNP', 'B-per'), ('Mwai', 'NNP', 'I-per'), ('Kibaki', 'NNP', 'I-per'), ('and', 'CC', 'O'), ('the', 'DT', 'O'), ('opposition', 'NN', 'O'), ('led', 'VBN', 'O'), ('by', 'IN', 'O'), ('Raila', 'NNP', 'B-org'), ('Odinga', 'NNP', 'I-org'), ('.', '.', 'O')]\n",
            "Реальные:  ['O', 'O', 'O', 'B-tim', 'O', 'O', 'O', 'O', 'O', 'O', 'B-org', 'I-org', 'B-per', 'I-per', 'O', 'O', 'O', 'O', 'O', 'O', 'O', 'O', 'O', 'B-gpe', 'O', 'O', 'B-per', 'I-per', 'I-per', 'O', 'O', 'O', 'O', 'O', 'B-org', 'I-org', 'O', 'O', 'O', 'O', 'O', 'O', 'O', 'O', 'O', 'O', 'O', 'O', 'O', 'O', 'O', 'O', 'O', 'O', 'O', 'O', 'O', 'O', 'O', 'O']\n",
            "Предсказанные:  ['O', 'O', 'O', 'B-tim', 'O', 'O', 'O', 'O', 'O', 'O', 'B-org', 'I-org', 'I-per', 'I-per', 'O', 'O', 'O', 'O', 'O', 'O', 'O', 'O', 'O', 'B-gpe', 'O', 'O', 'B-per', 'I-per', 'I-per', 'O', 'O', 'O', 'O', 'O', 'B-org', 'I-org', 'O', 'O', 'O', 'O', 'O', 'O', 'O', 'O', 'O', 'O', 'O', 'O', 'O', 'O', 'O', 'O', 'O', 'O', 'O', 'O', 'O', 'O', 'O', 'O']\n",
            "\n",
            "--->Лейбл который должен стоятть / лейбл который предсказан:  B-per I-per\n",
            "Какое слово:  ('Kofi', 'NNP', 'B-per')\n",
            "\n",
            "======\n",
            "\n",
            "Текст  61 :  [('Francois', 'NNP', 'B-per'), ('Grignon', 'NNP', 'I-per'), ('is', 'VBZ', 'O'), ('director', 'NN', 'O'), ('of', 'IN', 'O'), ('the', 'DT', 'O'), ('Africa', 'NNP', 'B-geo'), ('program', 'NN', 'O'), ('of', 'IN', 'O'), ('the', 'DT', 'O'), ('ICG', 'NNP', 'B-org'), ('.', '.', 'O')]\n",
            "Реальные:  ['B-per', 'I-per', 'O', 'O', 'O', 'O', 'B-geo', 'O', 'O', 'O', 'B-org', 'O', 'O', 'O', 'O', 'O', 'O', 'O', 'O', 'O', 'O', 'O', 'O', 'O', 'O', 'O', 'O', 'O', 'O', 'O', 'O', 'O', 'O', 'O', 'O', 'O', 'O', 'O', 'O', 'O', 'O', 'O', 'O', 'O', 'O', 'O', 'O', 'O', 'O', 'O', 'O', 'O', 'O', 'O', 'O', 'O', 'O', 'O', 'O', 'O']\n",
            "Предсказанные:  ['B-per', 'I-per', 'O', 'O', 'O', 'O', 'B-geo', 'O', 'O', 'O', 'O', 'O', 'O', 'O', 'O', 'O', 'O', 'O', 'O', 'O', 'O', 'O', 'O', 'O', 'O', 'O', 'O', 'O', 'O', 'O', 'O', 'O', 'O', 'O', 'O', 'O', 'O', 'O', 'O', 'O', 'O', 'O', 'O', 'O', 'O', 'O', 'O', 'O', 'O', 'O', 'O', 'O', 'O', 'O', 'O', 'O', 'O', 'O', 'O', 'O']\n",
            "\n",
            "--->Лейбл который должен стоятть / лейбл который предсказан:  B-org O\n",
            "Какое слово:  ('ICG', 'NNP', 'B-org')\n",
            "\n",
            "======\n",
            "\n",
            "Текст  68 :  [('Burmese', 'JJ', 'B-gpe'), ('democracy', 'NN', 'O'), ('advocate', 'NN', 'O'), ('Aung', 'NNP', 'O'), ('San', 'NNP', 'B-geo'), ('Suu', 'NNP', 'I-geo'), ('Kyi', 'NNP', 'I-geo'), ('is', 'VBZ', 'O'), ('calling', 'VBG', 'O'), ('on', 'IN', 'O'), ('citizens', 'NNS', 'O'), ('in', 'IN', 'O'), ('her', 'PRP$', 'O'), ('country', 'NN', 'O'), ('to', 'TO', 'O'), ('work', 'VB', 'O'), ('toward', 'IN', 'O'), ('national', 'JJ', 'O'), ('reconciliation', 'NN', 'O'), ('in', 'IN', 'O'), ('the', 'DT', 'O'), ('new', 'JJ', 'B-tim'), ('year', 'NN', 'O'), ('.', '.', 'O')]\n",
            "Реальные:  ['B-gpe', 'O', 'O', 'O', 'B-geo', 'I-geo', 'I-geo', 'O', 'O', 'O', 'O', 'O', 'O', 'O', 'O', 'O', 'O', 'O', 'O', 'O', 'O', 'B-tim', 'O', 'O', 'O', 'O', 'O', 'O', 'O', 'O', 'O', 'O', 'O', 'O', 'O', 'O', 'O', 'O', 'O', 'O', 'O', 'O', 'O', 'O', 'O', 'O', 'O', 'O', 'O', 'O', 'O', 'O', 'O', 'O', 'O', 'O', 'O', 'O', 'O', 'O']\n",
            "Предсказанные:  ['B-gpe', 'O', 'O', 'B-geo', 'I-geo', 'I-geo', 'I-geo', 'O', 'O', 'O', 'O', 'O', 'O', 'O', 'O', 'O', 'O', 'O', 'O', 'O', 'O', 'B-tim', 'O', 'O', 'O', 'O', 'O', 'O', 'O', 'O', 'O', 'O', 'O', 'O', 'O', 'O', 'O', 'O', 'O', 'O', 'O', 'O', 'O', 'O', 'O', 'O', 'O', 'O', 'O', 'O', 'O', 'O', 'O', 'O', 'O', 'O', 'O', 'O', 'O', 'O']\n",
            "\n",
            "--->Лейбл который должен стоятть / лейбл который предсказан:  O B-geo\n",
            "Какое слово:  ('Aung', 'NNP', 'O')\n",
            "\n",
            "--->Лейбл который должен стоятть / лейбл который предсказан:  B-geo I-geo\n",
            "Какое слово:  ('San', 'NNP', 'B-geo')\n",
            "\n",
            "======\n",
            "\n",
            "Текст  71 :  [('The', 'DT', 'O'), ('65-year-old', 'JJ', 'O'), ('advocate', 'NN', 'O'), ('for', 'IN', 'O'), ('democratic', 'JJ', 'O'), ('reforms', 'NNS', 'O'), ('in', 'IN', 'O'), ('Burma', 'NNP', 'B-geo'), ('was', 'VBD', 'O'), ('released', 'VBN', 'O'), ('after', 'IN', 'O'), ('more', 'JJR', 'O'), ('than', 'IN', 'O'), ('seven', 'CD', 'O'), ('years', 'NNS', 'O'), ('of', 'IN', 'O'), ('house', 'NN', 'O'), ('arrest', 'NN', 'O'), ('on', 'IN', 'O'), ('November', 'NNP', 'B-tim'), ('13', 'CD', 'I-tim'), ('.', '.', 'O')]\n",
            "Реальные:  ['O', 'O', 'O', 'O', 'O', 'O', 'O', 'B-geo', 'O', 'O', 'O', 'O', 'O', 'O', 'O', 'O', 'O', 'O', 'O', 'B-tim', 'I-tim', 'O', 'O', 'O', 'O', 'O', 'O', 'O', 'O', 'O', 'O', 'O', 'O', 'O', 'O', 'O', 'O', 'O', 'O', 'O', 'O', 'O', 'O', 'O', 'O', 'O', 'O', 'O', 'O', 'O', 'O', 'O', 'O', 'O', 'O', 'O', 'O', 'O', 'O', 'O']\n",
            "Предсказанные:  ['O', 'O', 'O', 'O', 'O', 'O', 'O', 'B-geo', 'O', 'O', 'O', 'O', 'O', 'B-tim', 'O', 'O', 'O', 'O', 'O', 'B-tim', 'I-tim', 'O', 'O', 'O', 'O', 'O', 'O', 'O', 'O', 'O', 'O', 'O', 'O', 'O', 'O', 'O', 'O', 'O', 'O', 'O', 'O', 'O', 'O', 'O', 'O', 'O', 'O', 'O', 'O', 'O', 'O', 'O', 'O', 'O', 'O', 'O', 'O', 'O', 'O', 'O']\n",
            "\n",
            "--->Лейбл который должен стоятть / лейбл который предсказан:  O B-tim\n",
            "Какое слово:  ('seven', 'CD', 'O')\n",
            "\n",
            "======\n",
            "\n",
            "Текст  72 :  [('That', 'DT', 'O'), ('was', 'VBD', 'O'), ('just', 'RB', 'O'), ('days', 'NNS', 'O'), ('after', 'IN', 'O'), ('the', 'DT', 'O'), ('country', 'NN', 'O'), (\"'s\", 'POS', 'O'), ('military', 'JJ', 'O'), ('rulers', 'NNS', 'O'), ('claimed', 'VBD', 'O'), ('an', 'DT', 'O'), ('overwhelming', 'JJ', 'O'), ('victory', 'NN', 'O'), ('in', 'IN', 'O'), ('Burma', 'NNP', 'B-geo'), (\"'s\", 'POS', 'O'), ('widely', 'RB', 'O'), ('criticized', 'VBN', 'O'), ('first', 'JJ', 'O'), ('election', 'NN', 'O'), ('in', 'IN', 'O'), ('two', 'CD', 'B-tim'), ('decades', 'NNS', 'I-tim'), ('.', '.', 'O')]\n",
            "Реальные:  ['O', 'O', 'O', 'O', 'O', 'O', 'O', 'O', 'O', 'O', 'O', 'O', 'O', 'O', 'O', 'B-geo', 'O', 'O', 'O', 'O', 'O', 'O', 'B-tim', 'I-tim', 'O', 'O', 'O', 'O', 'O', 'O', 'O', 'O', 'O', 'O', 'O', 'O', 'O', 'O', 'O', 'O', 'O', 'O', 'O', 'O', 'O', 'O', 'O', 'O', 'O', 'O', 'O', 'O', 'O', 'O', 'O', 'O', 'O', 'O', 'O', 'O']\n",
            "Предсказанные:  ['O', 'O', 'O', 'O', 'O', 'O', 'O', 'O', 'O', 'O', 'O', 'O', 'O', 'O', 'O', 'B-geo', 'O', 'O', 'O', 'O', 'I-tim', 'O', 'B-tim', 'I-tim', 'O', 'O', 'O', 'O', 'O', 'O', 'O', 'O', 'O', 'O', 'O', 'O', 'O', 'O', 'O', 'O', 'O', 'O', 'O', 'O', 'O', 'O', 'O', 'O', 'O', 'O', 'O', 'O', 'O', 'O', 'O', 'O', 'O', 'O', 'O', 'O']\n",
            "\n",
            "--->Лейбл который должен стоятть / лейбл который предсказан:  O I-tim\n",
            "Какое слово:  ('election', 'NN', 'O')\n",
            "\n",
            "======\n",
            "\n",
            "Текст  75 :  [('Former', 'JJ', 'O'), ('U.S.', 'NNP', 'B-org'), ('President', 'NNP', 'B-per'), ('Bill', 'NNP', 'I-per'), ('Clinton', 'NNP', 'I-per'), ('has', 'VBZ', 'O'), ('assembled', 'VBN', 'O'), ('world', 'NN', 'O'), ('leaders', 'NNS', 'O'), (',', ',', 'O'), ('activists', 'NNS', 'O'), ('and', 'CC', 'O'), ('academics', 'NNS', 'O'), ('in', 'IN', 'O'), ('New', 'NNP', 'B-geo'), ('York', 'NNP', 'I-geo'), ('to', 'TO', 'O'), ('address', 'VB', 'O'), ('the', 'DT', 'O'), ('issues', 'NNS', 'O'), ('of', 'IN', 'O'), ('poverty', 'NN', 'O'), (',', ',', 'O'), ('global', 'JJ', 'O'), ('warning', 'NN', 'O'), ('and', 'CC', 'O'), ('conflict', 'NN', 'O'), ('.', '.', 'O')]\n",
            "Реальные:  ['O', 'B-org', 'B-per', 'I-per', 'I-per', 'O', 'O', 'O', 'O', 'O', 'O', 'O', 'O', 'O', 'B-geo', 'I-geo', 'O', 'O', 'O', 'O', 'O', 'O', 'O', 'O', 'O', 'O', 'O', 'O', 'O', 'O', 'O', 'O', 'O', 'O', 'O', 'O', 'O', 'O', 'O', 'O', 'O', 'O', 'O', 'O', 'O', 'O', 'O', 'O', 'O', 'O', 'O', 'O', 'O', 'O', 'O', 'O', 'O', 'O', 'O', 'O']\n",
            "Предсказанные:  ['O', 'B-geo', 'B-per', 'I-per', 'I-per', 'O', 'O', 'O', 'O', 'O', 'O', 'O', 'O', 'O', 'B-geo', 'I-geo', 'O', 'O', 'O', 'O', 'O', 'O', 'O', 'O', 'O', 'O', 'O', 'O', 'O', 'O', 'O', 'O', 'O', 'O', 'O', 'O', 'O', 'O', 'O', 'O', 'O', 'O', 'O', 'O', 'O', 'O', 'O', 'O', 'O', 'O', 'O', 'O', 'O', 'O', 'O', 'O', 'O', 'O', 'O', 'O']\n",
            "\n",
            "--->Лейбл который должен стоятть / лейбл который предсказан:  B-org B-geo\n",
            "Какое слово:  ('U.S.', 'NNP', 'B-org')\n",
            "\n",
            "======\n",
            "\n",
            "Текст  76 :  [('Opening', 'VBG', 'O'), ('Thursday', 'NNP', 'B-tim'), (',', ',', 'O'), ('the', 'DT', 'O'), ('Clinton', 'NNP', 'B-per'), ('Global', 'NNP', 'O'), ('Initiative', 'NNP', 'O'), (\"'s\", 'POS', 'O'), ('conference', 'NN', 'O'), ('coincides', 'NNS', 'O'), ('with', 'IN', 'O'), ('the', 'DT', 'O'), ('Millennium', 'NNP', 'B-org'), ('summit', 'NN', 'O'), ('of', 'IN', 'O'), ('the', 'DT', 'O'), ('United', 'NNP', 'B-org'), ('Nations', 'NNP', 'I-org'), ('General', 'NNP', 'I-org'), ('Assembly', 'NNP', 'I-org'), ('.', '.', 'O')]\n",
            "Реальные:  ['O', 'B-tim', 'O', 'O', 'B-per', 'O', 'O', 'O', 'O', 'O', 'O', 'O', 'B-org', 'O', 'O', 'O', 'B-org', 'I-org', 'I-org', 'I-org', 'O', 'O', 'O', 'O', 'O', 'O', 'O', 'O', 'O', 'O', 'O', 'O', 'O', 'O', 'O', 'O', 'O', 'O', 'O', 'O', 'O', 'O', 'O', 'O', 'O', 'O', 'O', 'O', 'O', 'O', 'O', 'O', 'O', 'O', 'O', 'O', 'O', 'O', 'O', 'O']\n",
            "Предсказанные:  ['O', 'B-tim', 'O', 'O', 'B-per', 'O', 'O', 'O', 'O', 'O', 'O', 'O', 'B-geo', 'O', 'O', 'O', 'B-org', 'I-org', 'I-org', 'I-org', 'O', 'O', 'O', 'O', 'O', 'O', 'O', 'O', 'O', 'O', 'O', 'O', 'O', 'O', 'O', 'O', 'O', 'O', 'O', 'O', 'O', 'O', 'O', 'O', 'O', 'O', 'O', 'O', 'O', 'O', 'O', 'O', 'O', 'O', 'O', 'O', 'O', 'O', 'O', 'O']\n",
            "\n",
            "--->Лейбл который должен стоятть / лейбл который предсказан:  B-org B-geo\n",
            "Какое слово:  ('Millennium', 'NNP', 'B-org')\n",
            "\n",
            "======\n",
            "\n",
            "Текст  79 :  [('Expected', 'VBN', 'O'), ('attendees', 'NNS', 'O'), ('or', 'CC', 'O'), ('speakers', 'NNS', 'O'), ('include', 'VBP', 'O'), ('British', 'JJ', 'B-gpe'), ('Prime', 'NNP', 'B-per'), ('Minister', 'NNP', 'I-per'), ('Tony', 'NNP', 'I-per'), ('Blair', 'NNP', 'I-per'), (',', ',', 'O'), ('U.N.', 'NNP', 'B-org'), ('Secretary', 'NNP', 'B-per'), ('General', 'NNP', 'B-org'), ('Kofi', 'NNP', 'B-per'), ('Annan', 'NNP', 'I-per'), ('and', 'CC', 'O'), ('Israel', 'NNP', 'B-geo'), (\"'s\", 'POS', 'O'), ('Deputy', 'NNP', 'O'), ('Prime', 'NNP', 'B-per'), ('Minister', 'NNP', 'I-per'), ('Shimon', 'NNP', 'I-per'), ('Peres', 'NNP', 'I-per'), ('.', '.', 'O')]\n",
            "Реальные:  ['O', 'O', 'O', 'O', 'O', 'B-gpe', 'B-per', 'I-per', 'I-per', 'I-per', 'O', 'B-org', 'B-per', 'B-org', 'B-per', 'I-per', 'O', 'B-geo', 'O', 'O', 'B-per', 'I-per', 'I-per', 'I-per', 'O', 'O', 'O', 'O', 'O', 'O', 'O', 'O', 'O', 'O', 'O', 'O', 'O', 'O', 'O', 'O', 'O', 'O', 'O', 'O', 'O', 'O', 'O', 'O', 'O', 'O', 'O', 'O', 'O', 'O', 'O', 'O', 'O', 'O', 'O', 'O']\n",
            "Предсказанные:  ['O', 'O', 'O', 'O', 'O', 'B-gpe', 'B-per', 'I-per', 'I-per', 'I-per', 'O', 'B-org', 'B-per', 'B-per', 'I-per', 'I-per', 'O', 'B-geo', 'O', 'O', 'B-per', 'I-per', 'I-per', 'I-per', 'O', 'O', 'O', 'O', 'O', 'O', 'O', 'O', 'O', 'O', 'O', 'O', 'O', 'O', 'O', 'O', 'O', 'O', 'O', 'O', 'O', 'O', 'O', 'O', 'O', 'O', 'O', 'O', 'O', 'O', 'O', 'O', 'O', 'O', 'O', 'O']\n",
            "\n",
            "--->Лейбл который должен стоятть / лейбл который предсказан:  B-org B-per\n",
            "Какое слово:  ('General', 'NNP', 'B-org')\n",
            "\n",
            "--->Лейбл который должен стоятть / лейбл который предсказан:  B-per I-per\n",
            "Какое слово:  ('Kofi', 'NNP', 'B-per')\n",
            "\n",
            "======\n",
            "\n",
            "Текст  81 :  [('A', 'DT', 'O'), ('World', 'NNP', 'O'), ('Health', 'NNP', 'O'), ('Organization', 'NNP', 'O'), ('report', 'NN', 'O'), ('issued', 'VBN', 'O'), ('Tuesday', 'NNP', 'B-tim'), ('said', 'VBD', 'O'), ('one', 'CD', 'O'), ('factor', 'NN', 'O'), ('behind', 'IN', 'O'), ('cancer', 'NN', 'O'), (\"'s\", 'POS', 'O'), ('growing', 'VBG', 'O'), ('deadliness', 'NN', 'O'), ('is', 'VBZ', 'O'), ('rising', 'VBG', 'O'), ('cigarette', 'NN', 'O'), ('smoking', 'NN', 'O'), ('in', 'IN', 'O'), ('developing', 'VBG', 'O'), ('countries', 'NNS', 'O'), ('.', '.', 'O')]\n",
            "Реальные:  ['O', 'O', 'O', 'O', 'O', 'O', 'B-tim', 'O', 'O', 'O', 'O', 'O', 'O', 'O', 'O', 'O', 'O', 'O', 'O', 'O', 'O', 'O', 'O', 'O', 'O', 'O', 'O', 'O', 'O', 'O', 'O', 'O', 'O', 'O', 'O', 'O', 'O', 'O', 'O', 'O', 'O', 'O', 'O', 'O', 'O', 'O', 'O', 'O', 'O', 'O', 'O', 'O', 'O', 'O', 'O', 'O', 'O', 'O', 'O', 'O']\n",
            "Предсказанные:  ['O', 'B-org', 'I-org', 'I-org', 'O', 'O', 'B-tim', 'O', 'O', 'O', 'O', 'O', 'O', 'O', 'O', 'O', 'O', 'O', 'O', 'O', 'O', 'O', 'O', 'O', 'O', 'O', 'O', 'O', 'O', 'O', 'O', 'O', 'O', 'O', 'O', 'O', 'O', 'O', 'O', 'O', 'O', 'O', 'O', 'O', 'O', 'O', 'O', 'O', 'O', 'O', 'O', 'O', 'O', 'O', 'O', 'O', 'O', 'O', 'O', 'O']\n",
            "\n",
            "--->Лейбл который должен стоятть / лейбл который предсказан:  O B-org\n",
            "Какое слово:  ('World', 'NNP', 'O')\n",
            "\n",
            "--->Лейбл который должен стоятть / лейбл который предсказан:  O I-org\n",
            "Какое слово:  ('Health', 'NNP', 'O')\n",
            "\n",
            "--->Лейбл который должен стоятть / лейбл который предсказан:  O I-org\n",
            "Какое слово:  ('Organization', 'NNP', 'O')\n",
            "\n",
            "======\n",
            "\n",
            "Текст  82 :  [('Officials', 'NNS', 'O'), ('said', 'VBD', 'O'), ('Sunday', 'NNP', 'B-tim'), ('former', 'JJ', 'O'), ('center-left', 'NN', 'O'), ('president', 'NN', 'O'), ('Alan', 'NNP', 'B-per'), ('Garcia', 'NNP', 'I-per'), ('leads', 'VBZ', 'O'), ('pro-business', 'JJ', 'O'), ('congresswoman', 'NN', 'O'), ('Lourdes', 'NNP', 'B-per'), ('Flores', 'NNP', 'I-per'), ('by', 'IN', 'O'), ('less', 'JJR', 'O'), ('than', 'IN', 'O'), ('96,000', 'CD', 'O'), ('votes', 'NNS', 'O'), (',', ',', 'O'), ('with', 'IN', 'O'), ('nearly', 'RB', 'O'), ('90', 'CD', 'O'), ('percent', 'NN', 'O'), ('of', 'IN', 'O'), ('the', 'DT', 'O'), ('votes', 'NNS', 'O'), ('counted', 'VBN', 'O'), ('.', '.', 'O')]\n",
            "Реальные:  ['O', 'O', 'B-tim', 'O', 'O', 'O', 'B-per', 'I-per', 'O', 'O', 'O', 'B-per', 'I-per', 'O', 'O', 'O', 'O', 'O', 'O', 'O', 'O', 'O', 'O', 'O', 'O', 'O', 'O', 'O', 'O', 'O', 'O', 'O', 'O', 'O', 'O', 'O', 'O', 'O', 'O', 'O', 'O', 'O', 'O', 'O', 'O', 'O', 'O', 'O', 'O', 'O', 'O', 'O', 'O', 'O', 'O', 'O', 'O', 'O', 'O', 'O']\n",
            "Предсказанные:  ['O', 'O', 'B-tim', 'O', 'O', 'O', 'B-per', 'I-per', 'O', 'O', 'O', 'O', 'B-geo', 'O', 'O', 'O', 'O', 'O', 'O', 'O', 'O', 'O', 'O', 'O', 'O', 'O', 'O', 'O', 'O', 'O', 'O', 'O', 'O', 'O', 'O', 'O', 'O', 'O', 'O', 'O', 'O', 'O', 'O', 'O', 'O', 'O', 'O', 'O', 'O', 'O', 'O', 'O', 'O', 'O', 'O', 'O', 'O', 'O', 'O', 'O']\n",
            "\n",
            "--->Лейбл который должен стоятть / лейбл который предсказан:  B-per O\n",
            "Какое слово:  ('Lourdes', 'NNP', 'B-per')\n",
            "\n",
            "--->Лейбл который должен стоятть / лейбл который предсказан:  I-per B-geo\n",
            "Какое слово:  ('Flores', 'NNP', 'I-per')\n",
            "\n",
            "======\n",
            "\n",
            "Текст  83 :  [('Garcia', 'NNP', 'B-per'), ('led', 'VBD', 'O'), ('Flores', 'NNP', 'B-per'), ('by', 'IN', 'O'), ('nearly', 'RB', 'O'), ('1,10,000', 'CD', 'O'), ('votes', 'NNS', 'O'), ('on', 'IN', 'O'), ('Saturday', 'NNP', 'B-tim'), ('.', '.', 'O')]\n",
            "Реальные:  ['B-per', 'O', 'B-per', 'O', 'O', 'O', 'O', 'O', 'B-tim', 'O', 'O', 'O', 'O', 'O', 'O', 'O', 'O', 'O', 'O', 'O', 'O', 'O', 'O', 'O', 'O', 'O', 'O', 'O', 'O', 'O', 'O', 'O', 'O', 'O', 'O', 'O', 'O', 'O', 'O', 'O', 'O', 'O', 'O', 'O', 'O', 'O', 'O', 'O', 'O', 'O', 'O', 'O', 'O', 'O', 'O', 'O', 'O', 'O', 'O', 'O']\n",
            "Предсказанные:  ['O', 'O', 'B-geo', 'O', 'O', 'O', 'O', 'O', 'B-tim', 'O', 'O', 'O', 'O', 'O', 'O', 'O', 'O', 'O', 'O', 'O', 'O', 'O', 'O', 'O', 'O', 'O', 'O', 'O', 'O', 'O', 'O', 'O', 'O', 'O', 'O', 'O', 'O', 'O', 'O', 'O', 'O', 'O', 'O', 'O', 'O', 'O', 'O', 'O', 'O', 'O', 'O', 'O', 'O', 'O', 'O', 'O', 'O', 'O', 'O', 'O']\n",
            "\n",
            "--->Лейбл который должен стоятть / лейбл который предсказан:  B-per O\n",
            "Какое слово:  ('Garcia', 'NNP', 'B-per')\n",
            "\n",
            "--->Лейбл который должен стоятть / лейбл который предсказан:  B-per B-geo\n",
            "Какое слово:  ('Flores', 'NNP', 'B-per')\n",
            "\n",
            "======\n",
            "\n",
            "Текст  84 :  [('The', 'DT', 'O'), ('surge', 'NN', 'O'), ('by', 'IN', 'O'), ('Flores', 'NNP', 'B-per'), ('is', 'VBZ', 'O'), ('attributed', 'VBN', 'O'), ('to', 'TO', 'O'), ('heavy', 'JJ', 'O'), ('support', 'NN', 'O'), ('among', 'IN', 'O'), ('Peruvians', 'NNS', 'B-gpe'), ('living', 'VBG', 'O'), ('abroad', 'RB', 'O'), ('whose', 'WP$', 'O'), ('votes', 'NNS', 'O'), ('are', 'VBP', 'O'), ('apparently', 'RB', 'O'), ('starting', 'VBG', 'O'), ('to', 'TO', 'O'), ('impact', 'VB', 'O'), ('the', 'DT', 'O'), ('election', 'NN', 'O'), ('tally', 'RB', 'O'), ('.', '.', 'O')]\n",
            "Реальные:  ['O', 'O', 'O', 'B-per', 'O', 'O', 'O', 'O', 'O', 'O', 'B-gpe', 'O', 'O', 'O', 'O', 'O', 'O', 'O', 'O', 'O', 'O', 'O', 'O', 'O', 'O', 'O', 'O', 'O', 'O', 'O', 'O', 'O', 'O', 'O', 'O', 'O', 'O', 'O', 'O', 'O', 'O', 'O', 'O', 'O', 'O', 'O', 'O', 'O', 'O', 'O', 'O', 'O', 'O', 'O', 'O', 'O', 'O', 'O', 'O', 'O']\n",
            "Предсказанные:  ['O', 'O', 'O', 'B-geo', 'O', 'O', 'O', 'O', 'O', 'O', 'O', 'O', 'O', 'O', 'O', 'O', 'O', 'O', 'O', 'O', 'O', 'O', 'O', 'O', 'O', 'O', 'O', 'O', 'O', 'O', 'O', 'O', 'O', 'O', 'O', 'O', 'O', 'O', 'O', 'O', 'O', 'O', 'O', 'O', 'O', 'O', 'O', 'O', 'O', 'O', 'O', 'O', 'O', 'O', 'O', 'O', 'O', 'O', 'O', 'O']\n",
            "\n",
            "--->Лейбл который должен стоятть / лейбл который предсказан:  B-per B-geo\n",
            "Какое слово:  ('Flores', 'NNP', 'B-per')\n",
            "\n",
            "--->Лейбл который должен стоятть / лейбл который предсказан:  B-gpe O\n",
            "Какое слово:  ('Peruvians', 'NNS', 'B-gpe')\n",
            "\n",
            "======\n",
            "\n",
            "Текст  86 :  [('Either', 'CC', 'O'), ('Garcia', 'NNP', 'B-per'), ('or', 'CC', 'O'), ('Flores', 'NNP', 'B-per'), ('will', 'MD', 'O'), ('take', 'VB', 'O'), ('on', 'RP', 'O'), ('nationalist', 'NN', 'O'), ('Ollanta', 'NNP', 'B-per'), ('Humala', 'NNP', 'I-per'), (',', ',', 'O'), ('who', 'WP', 'O'), ('took', 'VBD', 'O'), ('31', 'CD', 'O'), ('percent', 'NN', 'O'), ('of', 'IN', 'O'), ('the', 'DT', 'O'), ('vote', 'NN', 'O'), ('.', '.', 'O')]\n",
            "Реальные:  ['O', 'B-per', 'O', 'B-per', 'O', 'O', 'O', 'O', 'B-per', 'I-per', 'O', 'O', 'O', 'O', 'O', 'O', 'O', 'O', 'O', 'O', 'O', 'O', 'O', 'O', 'O', 'O', 'O', 'O', 'O', 'O', 'O', 'O', 'O', 'O', 'O', 'O', 'O', 'O', 'O', 'O', 'O', 'O', 'O', 'O', 'O', 'O', 'O', 'O', 'O', 'O', 'O', 'O', 'O', 'O', 'O', 'O', 'O', 'O', 'O', 'O']\n",
            "Предсказанные:  ['B-per', 'I-per', 'O', 'B-geo', 'O', 'O', 'O', 'O', 'O', 'O', 'O', 'O', 'O', 'O', 'O', 'O', 'O', 'O', 'O', 'O', 'O', 'O', 'O', 'O', 'O', 'O', 'O', 'O', 'O', 'O', 'O', 'O', 'O', 'O', 'O', 'O', 'O', 'O', 'O', 'O', 'O', 'O', 'O', 'O', 'O', 'O', 'O', 'O', 'O', 'O', 'O', 'O', 'O', 'O', 'O', 'O', 'O', 'O', 'O', 'O']\n",
            "\n",
            "--->Лейбл который должен стоятть / лейбл который предсказан:  O B-per\n",
            "Какое слово:  ('Either', 'CC', 'O')\n",
            "\n",
            "--->Лейбл который должен стоятть / лейбл который предсказан:  B-per I-per\n",
            "Какое слово:  ('Garcia', 'NNP', 'B-per')\n",
            "\n",
            "--->Лейбл который должен стоятть / лейбл который предсказан:  B-per B-geo\n",
            "Какое слово:  ('Flores', 'NNP', 'B-per')\n",
            "\n",
            "--->Лейбл который должен стоятть / лейбл который предсказан:  B-per O\n",
            "Какое слово:  ('Ollanta', 'NNP', 'B-per')\n",
            "\n",
            "--->Лейбл который должен стоятть / лейбл который предсказан:  I-per O\n",
            "Какое слово:  ('Humala', 'NNP', 'I-per')\n",
            "\n",
            "======\n",
            "\n",
            "Текст  89 :  [('A', 'DT', 'O'), ('fifth', 'JJ', 'O'), ('child', 'NN', 'O'), (',', ',', 'O'), ('daughter', 'NN', 'O'), ('Lucia', 'NNP', 'B-per'), (',', ',', 'O'), ('is', 'VBZ', 'O'), ('also', 'RB', 'O'), ('charged', 'VBN', 'O'), (',', ',', 'O'), ('but', 'CC', 'O'), ('her', 'PRP$', 'O'), ('whereabouts', 'NNS', 'O'), ('are', 'VBP', 'O'), ('unknown', 'JJ', 'O'), ('.', '.', 'O')]\n",
            "Реальные:  ['O', 'O', 'O', 'O', 'O', 'B-per', 'O', 'O', 'O', 'O', 'O', 'O', 'O', 'O', 'O', 'O', 'O', 'O', 'O', 'O', 'O', 'O', 'O', 'O', 'O', 'O', 'O', 'O', 'O', 'O', 'O', 'O', 'O', 'O', 'O', 'O', 'O', 'O', 'O', 'O', 'O', 'O', 'O', 'O', 'O', 'O', 'O', 'O', 'O', 'O', 'O', 'O', 'O', 'O', 'O', 'O', 'O', 'O', 'O', 'O']\n",
            "Предсказанные:  ['O', 'O', 'O', 'O', 'O', 'B-geo', 'O', 'O', 'O', 'O', 'O', 'O', 'O', 'O', 'O', 'O', 'O', 'O', 'O', 'O', 'O', 'O', 'O', 'O', 'O', 'O', 'O', 'O', 'O', 'O', 'O', 'O', 'O', 'O', 'O', 'O', 'O', 'O', 'O', 'O', 'O', 'O', 'O', 'O', 'O', 'O', 'O', 'O', 'O', 'O', 'O', 'O', 'O', 'O', 'O', 'O', 'O', 'O', 'O', 'O']\n",
            "\n",
            "--->Лейбл который должен стоятть / лейбл который предсказан:  B-per B-geo\n",
            "Какое слово:  ('Lucia', 'NNP', 'B-per')\n",
            "\n",
            "======\n",
            "\n",
            "Текст  95 :  [('Rebel', 'NN', 'O'), ('sources', 'NNS', 'O'), ('in', 'IN', 'O'), ('Mexico', 'NNP', 'B-geo'), ('say', 'VBP', 'O'), ('a', 'DT', 'O'), ('female', 'JJ', 'O'), ('leader', 'NN', 'O'), ('of', 'IN', 'O'), ('the', 'DT', 'O'), ('Zapatista', 'NNP', 'B-geo'), ('rebel', 'NN', 'O'), ('movement', 'NN', 'O'), ('has', 'VBZ', 'O'), ('died', 'VBN', 'O'), ('.', '.', 'O')]\n",
            "Реальные:  ['O', 'O', 'O', 'B-geo', 'O', 'O', 'O', 'O', 'O', 'O', 'B-geo', 'O', 'O', 'O', 'O', 'O', 'O', 'O', 'O', 'O', 'O', 'O', 'O', 'O', 'O', 'O', 'O', 'O', 'O', 'O', 'O', 'O', 'O', 'O', 'O', 'O', 'O', 'O', 'O', 'O', 'O', 'O', 'O', 'O', 'O', 'O', 'O', 'O', 'O', 'O', 'O', 'O', 'O', 'O', 'O', 'O', 'O', 'O', 'O', 'O']\n",
            "Предсказанные:  ['O', 'O', 'O', 'B-geo', 'O', 'O', 'O', 'O', 'O', 'O', 'B-org', 'O', 'O', 'O', 'O', 'O', 'O', 'O', 'O', 'O', 'O', 'O', 'O', 'O', 'O', 'O', 'O', 'O', 'O', 'O', 'O', 'O', 'O', 'O', 'O', 'O', 'O', 'O', 'O', 'O', 'O', 'O', 'O', 'O', 'O', 'O', 'O', 'O', 'O', 'O', 'O', 'O', 'O', 'O', 'O', 'O', 'O', 'O', 'O', 'O']\n",
            "\n",
            "--->Лейбл который должен стоятть / лейбл который предсказан:  B-geo B-org\n",
            "Какое слово:  ('Zapatista', 'NNP', 'B-geo')\n",
            "\n",
            "======\n",
            "\n",
            "Текст  96 :  [('Zapatista', 'NNP', 'B-geo'), ('leader', 'NN', 'O'), ('Subcomandante', 'NNP', 'B-geo'), ('Marcos', 'NNP', 'I-geo'), ('Friday', 'NNP', 'B-tim'), ('announced', 'VBD', 'O'), ('the', 'DT', 'O'), ('death', 'NN', 'O'), ('of', 'IN', 'O'), ('Comandante', 'NNP', 'B-geo'), ('Ramona', 'NNP', 'I-geo'), (',', ',', 'O'), ('saying', 'VBG', 'O'), ('Mexico', 'NNP', 'B-geo'), ('had', 'VBD', 'O'), ('lost', 'VBN', 'O'), ('a', 'DT', 'O'), ('fighter', 'NN', 'O'), ('and', 'CC', 'O'), ('the', 'DT', 'O'), ('Zapatistas', 'NNP', 'B-geo'), ('had', 'VBD', 'O'), ('lost', 'VBN', 'O'), ('a', 'DT', 'O'), ('piece', 'NN', 'O'), ('of', 'IN', 'O'), ('their', 'PRP$', 'O'), ('heart', 'NN', 'O'), ('.', '.', 'O')]\n",
            "Реальные:  ['B-geo', 'O', 'B-geo', 'I-geo', 'B-tim', 'O', 'O', 'O', 'O', 'B-geo', 'I-geo', 'O', 'O', 'B-geo', 'O', 'O', 'O', 'O', 'O', 'O', 'B-geo', 'O', 'O', 'O', 'O', 'O', 'O', 'O', 'O', 'O', 'O', 'O', 'O', 'O', 'O', 'O', 'O', 'O', 'O', 'O', 'O', 'O', 'O', 'O', 'O', 'O', 'O', 'O', 'O', 'O', 'O', 'O', 'O', 'O', 'O', 'O', 'O', 'O', 'O', 'O']\n",
            "Предсказанные:  ['B-org', 'O', 'B-per', 'I-per', 'B-tim', 'O', 'O', 'O', 'O', 'B-geo', 'O', 'O', 'O', 'B-geo', 'O', 'O', 'O', 'O', 'O', 'O', 'B-geo', 'O', 'O', 'O', 'O', 'O', 'O', 'O', 'O', 'O', 'O', 'O', 'O', 'O', 'O', 'O', 'O', 'O', 'O', 'O', 'O', 'O', 'O', 'O', 'O', 'O', 'O', 'O', 'O', 'O', 'O', 'O', 'O', 'O', 'O', 'O', 'O', 'O', 'O', 'O']\n",
            "\n",
            "--->Лейбл который должен стоятть / лейбл который предсказан:  B-geo B-org\n",
            "Какое слово:  ('Zapatista', 'NNP', 'B-geo')\n",
            "\n",
            "--->Лейбл который должен стоятть / лейбл который предсказан:  B-geo B-per\n",
            "Какое слово:  ('Subcomandante', 'NNP', 'B-geo')\n",
            "\n",
            "--->Лейбл который должен стоятть / лейбл который предсказан:  I-geo I-per\n",
            "Какое слово:  ('Marcos', 'NNP', 'I-geo')\n",
            "\n",
            "--->Лейбл который должен стоятть / лейбл который предсказан:  I-geo O\n",
            "Какое слово:  ('Ramona', 'NNP', 'I-geo')\n",
            "\n",
            "======\n",
            "\n",
            "Текст  97 :  [('The', 'DT', 'O'), ('announcement', 'NN', 'O'), ('came', 'VBD', 'O'), ('during', 'IN', 'O'), ('a', 'DT', 'O'), ('stop', 'NN', 'O'), ('in', 'IN', 'O'), ('Chiapas', 'NNP', 'B-geo'), (',', ',', 'O'), ('six', 'CD', 'O'), ('days', 'NNS', 'O'), ('into', 'IN', 'O'), ('the', 'DT', 'O'), ('leader', 'NN', 'O'), (\"'s\", 'POS', 'O'), ('nationwide', 'JJ', 'O'), ('tour', 'NN', 'O'), ('.', '.', 'O')]\n",
            "Реальные:  ['O', 'O', 'O', 'O', 'O', 'O', 'O', 'B-geo', 'O', 'O', 'O', 'O', 'O', 'O', 'O', 'O', 'O', 'O', 'O', 'O', 'O', 'O', 'O', 'O', 'O', 'O', 'O', 'O', 'O', 'O', 'O', 'O', 'O', 'O', 'O', 'O', 'O', 'O', 'O', 'O', 'O', 'O', 'O', 'O', 'O', 'O', 'O', 'O', 'O', 'O', 'O', 'O', 'O', 'O', 'O', 'O', 'O', 'O', 'O', 'O']\n",
            "Предсказанные:  ['O', 'O', 'O', 'O', 'O', 'O', 'O', 'B-geo', 'O', 'B-tim', 'O', 'O', 'O', 'O', 'O', 'O', 'O', 'O', 'O', 'O', 'O', 'O', 'O', 'O', 'O', 'O', 'O', 'O', 'O', 'O', 'O', 'O', 'O', 'O', 'O', 'O', 'O', 'O', 'O', 'O', 'O', 'O', 'O', 'O', 'O', 'O', 'O', 'O', 'O', 'O', 'O', 'O', 'O', 'O', 'O', 'O', 'O', 'O', 'O', 'O']\n",
            "\n",
            "--->Лейбл который должен стоятть / лейбл который предсказан:  O B-tim\n",
            "Какое слово:  ('six', 'CD', 'O')\n",
            "\n",
            "======\n",
            "\n",
            "Текст  98 :  [('The', 'DT', 'O'), ('nature', 'NN', 'O'), ('of', 'IN', 'O'), ('Comandante', 'NNP', 'B-geo'), ('Ramona', 'NNP', 'I-geo'), (\"'s\", 'POS', 'O'), ('death', 'NN', 'O'), ('was', 'VBD', 'O'), ('not', 'RB', 'O'), ('immediately', 'RB', 'O'), ('clear', 'JJ', 'O'), (',', ',', 'O'), ('but', 'CC', 'O'), ('it', 'PRP', 'O'), ('was', 'VBD', 'O'), ('rumored', 'VBN', 'O'), ('that', 'IN', 'O'), ('she', 'PRP', 'O'), ('had', 'VBD', 'O'), ('cancer', 'NN', 'O'), ('or', 'CC', 'O'), ('a', 'DT', 'O'), ('kidney', 'NN', 'O'), ('disease', 'NN', 'O'), ('.', '.', 'O')]\n",
            "Реальные:  ['O', 'O', 'O', 'B-geo', 'I-geo', 'O', 'O', 'O', 'O', 'O', 'O', 'O', 'O', 'O', 'O', 'O', 'O', 'O', 'O', 'O', 'O', 'O', 'O', 'O', 'O', 'O', 'O', 'O', 'O', 'O', 'O', 'O', 'O', 'O', 'O', 'O', 'O', 'O', 'O', 'O', 'O', 'O', 'O', 'O', 'O', 'O', 'O', 'O', 'O', 'O', 'O', 'O', 'O', 'O', 'O', 'O', 'O', 'O', 'O', 'O']\n",
            "Предсказанные:  ['O', 'O', 'O', 'O', 'O', 'O', 'O', 'O', 'O', 'O', 'O', 'O', 'O', 'O', 'O', 'O', 'O', 'O', 'O', 'O', 'O', 'O', 'O', 'O', 'O', 'O', 'O', 'O', 'O', 'O', 'O', 'O', 'O', 'O', 'O', 'O', 'O', 'O', 'O', 'O', 'O', 'O', 'O', 'O', 'O', 'O', 'O', 'O', 'O', 'O', 'O', 'O', 'O', 'O', 'O', 'O', 'O', 'O', 'O', 'O']\n",
            "\n",
            "--->Лейбл который должен стоятть / лейбл который предсказан:  B-geo O\n",
            "Какое слово:  ('Comandante', 'NNP', 'B-geo')\n",
            "\n",
            "--->Лейбл который должен стоятть / лейбл который предсказан:  I-geo O\n",
            "Какое слово:  ('Ramona', 'NNP', 'I-geo')\n",
            "\n",
            "======\n",
            "\n",
            "Текст  100 :  [('The', 'DT', 'O'), ('mysterious', 'JJ', 'O'), ('female', 'JJ', 'O'), ('leader', 'NN', 'O'), ('was', 'VBD', 'O'), ('a', 'DT', 'O'), ('Tzotzil', 'NNP', 'B-org'), ('Indian', 'NN', 'B-gpe'), ('and', 'CC', 'O'), ('a', 'DT', 'O'), ('promoter', 'NN', 'O'), ('of', 'IN', 'O'), ('women', 'NNS', 'O'), (\"'s\", 'POS', 'O'), ('rights', 'NNS', 'O'), ('.', '.', 'O')]\n",
            "Реальные:  ['O', 'O', 'O', 'O', 'O', 'O', 'B-org', 'B-gpe', 'O', 'O', 'O', 'O', 'O', 'O', 'O', 'O', 'O', 'O', 'O', 'O', 'O', 'O', 'O', 'O', 'O', 'O', 'O', 'O', 'O', 'O', 'O', 'O', 'O', 'O', 'O', 'O', 'O', 'O', 'O', 'O', 'O', 'O', 'O', 'O', 'O', 'O', 'O', 'O', 'O', 'O', 'O', 'O', 'O', 'O', 'O', 'O', 'O', 'O', 'O', 'O']\n",
            "Предсказанные:  ['O', 'O', 'O', 'O', 'O', 'O', 'O', 'B-gpe', 'O', 'O', 'O', 'O', 'O', 'O', 'O', 'O', 'O', 'O', 'O', 'O', 'O', 'O', 'O', 'O', 'O', 'O', 'O', 'O', 'O', 'O', 'O', 'O', 'O', 'O', 'O', 'O', 'O', 'O', 'O', 'O', 'O', 'O', 'O', 'O', 'O', 'O', 'O', 'O', 'O', 'O', 'O', 'O', 'O', 'O', 'O', 'O', 'O', 'O', 'O', 'O']\n",
            "\n",
            "--->Лейбл который должен стоятть / лейбл который предсказан:  B-org O\n",
            "Какое слово:  ('Tzotzil', 'NNP', 'B-org')\n",
            "\n",
            "======\n",
            "\n"
          ],
          "name": "stdout"
        }
      ]
    },
    {
      "cell_type": "code",
      "metadata": {
        "colab": {
          "base_uri": "https://localhost:8080/"
        },
        "id": "jwqgT472hC47",
        "outputId": "96861eee-7488-444b-ff88-2227b37165dd"
      },
      "source": [
        "sorted(dict_ner.items(), key=lambda x: x[1], reverse=True)"
      ],
      "execution_count": 102,
      "outputs": [
        {
          "output_type": "execute_result",
          "data": {
            "text/plain": [
              "[('B-org_VS_B-geo', 10),\n",
              " ('B-per_VS_O', 8),\n",
              " ('B-per_VS_B-geo', 5),\n",
              " ('B-per_VS_I-per', 5),\n",
              " ('B-geo_VS_B-org', 4),\n",
              " ('O_VS_B-tim', 4),\n",
              " ('O_VS_I-tim', 4),\n",
              " ('I-per_VS_O', 4),\n",
              " ('B-geo_VS_O', 3),\n",
              " ('O_VS_I-per', 3),\n",
              " ('B-art_VS_O', 3),\n",
              " ('I-org_VS_O', 3),\n",
              " ('I-art_VS_I-org', 2),\n",
              " ('B-geo_VS_B-per', 2),\n",
              " ('I-org_VS_B-geo', 2),\n",
              " ('O_VS_B-per', 2),\n",
              " ('B-org_VS_O', 2),\n",
              " ('O_VS_I-org', 2),\n",
              " ('I-geo_VS_O', 2),\n",
              " ('B-tim_VS_B-geo', 1),\n",
              " ('B-gpe_VS_I-geo', 1),\n",
              " ('I-per_VS_B-per', 1),\n",
              " ('I-per_VS_I-geo', 1),\n",
              " ('B-tim_VS_O', 1),\n",
              " ('B-art_VS_B-org', 1),\n",
              " ('O_VS_B-geo', 1),\n",
              " ('B-geo_VS_I-geo', 1),\n",
              " ('B-org_VS_B-per', 1),\n",
              " ('O_VS_B-org', 1),\n",
              " ('I-per_VS_B-geo', 1),\n",
              " ('B-gpe_VS_O', 1),\n",
              " ('I-geo_VS_I-per', 1)]"
            ]
          },
          "metadata": {
            "tags": []
          },
          "execution_count": 102
        }
      ]
    },
    {
      "cell_type": "markdown",
      "metadata": {
        "id": "_CNT2ysqahNH"
      },
      "source": [
        ""
      ]
    },
    {
      "cell_type": "code",
      "metadata": {
        "colab": {
          "base_uri": "https://localhost:8080/"
        },
        "id": "xcEgVtquSas6",
        "outputId": "1bb5ce81-f9b9-46a1-8b81-46b31306d2c4"
      },
      "source": [
        "print(classification_report(test_labels, pred_labels))"
      ],
      "execution_count": 71,
      "outputs": [
        {
          "output_type": "stream",
          "text": [
            "              precision    recall  f1-score   support\n",
            "\n",
            "         art       0.33      0.02      0.04        45\n",
            "         eve       0.56      0.24      0.33        38\n",
            "         geo       0.80      0.86      0.83      3746\n",
            "         gpe       0.96      0.94      0.95      1653\n",
            "         nat       0.37      0.30      0.33        23\n",
            "         org       0.70      0.61      0.65      2205\n",
            "         per       0.70      0.69      0.70      1732\n",
            "         tim       0.82      0.86      0.84      2100\n",
            "\n",
            "   micro avg       0.79      0.79      0.79     11542\n",
            "   macro avg       0.66      0.57      0.59     11542\n",
            "weighted avg       0.79      0.79      0.79     11542\n",
            "\n"
          ],
          "name": "stdout"
        }
      ]
    }
  ]
}