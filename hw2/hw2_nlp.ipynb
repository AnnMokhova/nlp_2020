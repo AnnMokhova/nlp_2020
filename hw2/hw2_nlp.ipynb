{
  "nbformat": 4,
  "nbformat_minor": 0,
  "metadata": {
    "colab": {
      "name": "hw2_nlp.ipynb",
      "provenance": [],
      "authorship_tag": "ABX9TyPkKhDNSHyy0hbfM6yyOcPy",
      "include_colab_link": true
    },
    "kernelspec": {
      "name": "python3",
      "display_name": "Python 3"
    }
  },
  "cells": [
    {
      "cell_type": "markdown",
      "metadata": {
        "id": "view-in-github",
        "colab_type": "text"
      },
      "source": [
        "<a href=\"https://colab.research.google.com/github/AnnMokhova/nlp_2020/blob/main/hw2/hw2_nlp.ipynb\" target=\"_parent\"><img src=\"https://colab.research.google.com/assets/colab-badge.svg\" alt=\"Open In Colab\"/></a>"
      ]
    },
    {
      "cell_type": "markdown",
      "metadata": {
        "id": "P89t_TOi0L9O"
      },
      "source": [
        "# Домашнее задание 2. Извлечение коллокаций + NER"
      ]
    },
    {
      "cell_type": "markdown",
      "metadata": {
        "id": "eJjDIf7dC5dz"
      },
      "source": [
        "'Beauty.txt.gz' взято из http://snap.stanford.edu/data/web-Amazon-links.html"
      ]
    },
    {
      "cell_type": "code",
      "metadata": {
        "colab": {
          "base_uri": "https://localhost:8080/"
        },
        "id": "jVovWfIu0Uty",
        "outputId": "e4ea2180-450d-427e-eb99-633a4db82f43"
      },
      "source": [
        "from google.colab import drive\n",
        "drive.mount('gdrive')"
      ],
      "execution_count": 1,
      "outputs": [
        {
          "output_type": "stream",
          "text": [
            "Drive already mounted at gdrive; to attempt to forcibly remount, call drive.mount(\"gdrive\", force_remount=True).\n"
          ],
          "name": "stdout"
        }
      ]
    },
    {
      "cell_type": "code",
      "metadata": {
        "colab": {
          "base_uri": "https://localhost:8080/"
        },
        "id": "Dbt34YHP0oVq",
        "outputId": "0154b8ed-bfb5-4c25-de2e-e4cf6cac4b65"
      },
      "source": [
        "%cd /content/gdrive/My Drive/"
      ],
      "execution_count": 2,
      "outputs": [
        {
          "output_type": "stream",
          "text": [
            "/content/gdrive/My Drive\n"
          ],
          "name": "stdout"
        }
      ]
    },
    {
      "cell_type": "code",
      "metadata": {
        "id": "xsNnxhCtGrca"
      },
      "source": [
        "#pip install simplejson"
      ],
      "execution_count": 3,
      "outputs": []
    },
    {
      "cell_type": "code",
      "metadata": {
        "id": "ngaE6hWF0k1i"
      },
      "source": [
        "import gzip\n",
        "import simplejson\n",
        "import re\n",
        "import pandas as pd"
      ],
      "execution_count": 4,
      "outputs": []
    },
    {
      "cell_type": "code",
      "metadata": {
        "id": "ZW27vXUy0y-w"
      },
      "source": [
        "def parse(filename):\n",
        "    f = gzip.open(filename, 'rt')\n",
        "    entry = {}\n",
        "    for l in f:\n",
        "        l = l.strip()\n",
        "        colonPos = l.find(':')\n",
        "        if colonPos == -1:\n",
        "            yield entry\n",
        "            entry = {}\n",
        "            continue\n",
        "        eName = l[:colonPos]\n",
        "        rest = l[colonPos+2:]\n",
        "        entry[eName] = rest\n",
        "        yield entry\n",
        "\n",
        "\n",
        "data = []\n",
        "\n",
        "for e in parse('Beauty.txt.gz'):\n",
        "    line = simplejson.dumps(e)\n",
        "    if 'review/text' in line:\n",
        "        line = re.findall('\"review/text\": \".*?\"', line)\n",
        "        data.append(line)"
      ],
      "execution_count": 5,
      "outputs": []
    },
    {
      "cell_type": "code",
      "metadata": {
        "id": "Nq2cyVfyCb1n"
      },
      "source": [
        "data = [re.sub('\"review/text\": ', '', ''.join(line)) for line in data]"
      ],
      "execution_count": 6,
      "outputs": []
    },
    {
      "cell_type": "code",
      "metadata": {
        "id": "Kz5OYIjaCvBq"
      },
      "source": [
        "# убираем повторяющиеся отзывы\n",
        "data = list(set(data))"
      ],
      "execution_count": 7,
      "outputs": []
    },
    {
      "cell_type": "code",
      "metadata": {
        "id": "du1LXqsv3Axv"
      },
      "source": [
        "import nltk"
      ],
      "execution_count": 8,
      "outputs": []
    },
    {
      "cell_type": "code",
      "metadata": {
        "colab": {
          "base_uri": "https://localhost:8080/"
        },
        "id": "-EJXexq73C7w",
        "outputId": "76b0c8e9-17af-41dd-afdd-41001bfb639a"
      },
      "source": [
        "nltk.download('wordnet')"
      ],
      "execution_count": 9,
      "outputs": [
        {
          "output_type": "stream",
          "text": [
            "[nltk_data] Downloading package wordnet to /root/nltk_data...\n",
            "[nltk_data]   Package wordnet is already up-to-date!\n"
          ],
          "name": "stdout"
        },
        {
          "output_type": "execute_result",
          "data": {
            "text/plain": [
              "True"
            ]
          },
          "metadata": {
            "tags": []
          },
          "execution_count": 9
        }
      ]
    },
    {
      "cell_type": "code",
      "metadata": {
        "colab": {
          "base_uri": "https://localhost:8080/"
        },
        "id": "Xqaj7Q0R3G5R",
        "outputId": "2996a251-15ea-474a-e3de-f8d3fb8fba40"
      },
      "source": [
        "nltk.download('punkt')"
      ],
      "execution_count": 10,
      "outputs": [
        {
          "output_type": "stream",
          "text": [
            "[nltk_data] Downloading package punkt to /root/nltk_data...\n",
            "[nltk_data]   Package punkt is already up-to-date!\n"
          ],
          "name": "stdout"
        },
        {
          "output_type": "execute_result",
          "data": {
            "text/plain": [
              "True"
            ]
          },
          "metadata": {
            "tags": []
          },
          "execution_count": 10
        }
      ]
    },
    {
      "cell_type": "code",
      "metadata": {
        "id": "zrWhrtOv3HJL"
      },
      "source": [
        "from nltk.stem import WordNetLemmatizer"
      ],
      "execution_count": 11,
      "outputs": []
    },
    {
      "cell_type": "code",
      "metadata": {
        "id": "T-1qbvAW3It4"
      },
      "source": [
        "lemmatizer = WordNetLemmatizer()\n",
        "\n",
        "def lemmatize_eng(text):\n",
        "    text = text.lower()\n",
        "    text = re.sub('[.|,|\"|`]', '', text)\n",
        "    tokens = [w for w in nltk.word_tokenize(text) if w not in '1234567890,.!?-();:\"\"«»—_–#' and '.' not in w]\n",
        "    lemmas = [lemmatizer.lemmatize(t) for t in tokens]\n",
        "    return ' '.join(lemmas)"
      ],
      "execution_count": 12,
      "outputs": []
    },
    {
      "cell_type": "code",
      "metadata": {
        "colab": {
          "base_uri": "https://localhost:8080/",
          "height": 202
        },
        "id": "m4EwYh5MD9ao",
        "outputId": "c35a7560-12a8-4776-b7bc-04b6f6b849df"
      },
      "source": [
        "df = pd.DataFrame({'text': data})\n",
        "df['normalized_text'] = df['text'].apply(lemmatize_eng)\n",
        "df.head()"
      ],
      "execution_count": 13,
      "outputs": [
        {
          "output_type": "execute_result",
          "data": {
            "text/html": [
              "<div>\n",
              "<style scoped>\n",
              "    .dataframe tbody tr th:only-of-type {\n",
              "        vertical-align: middle;\n",
              "    }\n",
              "\n",
              "    .dataframe tbody tr th {\n",
              "        vertical-align: top;\n",
              "    }\n",
              "\n",
              "    .dataframe thead th {\n",
              "        text-align: right;\n",
              "    }\n",
              "</style>\n",
              "<table border=\"1\" class=\"dataframe\">\n",
              "  <thead>\n",
              "    <tr style=\"text-align: right;\">\n",
              "      <th></th>\n",
              "      <th>text</th>\n",
              "      <th>normalized_text</th>\n",
              "    </tr>\n",
              "  </thead>\n",
              "  <tbody>\n",
              "    <tr>\n",
              "      <th>0</th>\n",
              "      <td>\"I gave my son a sample of the Kiss My Face Or...</td>\n",
              "      <td>i gave my son a sample of the kiss my face org...</td>\n",
              "    </tr>\n",
              "    <tr>\n",
              "      <th>1</th>\n",
              "      <td>\"I was shocked to see how well this product wo...</td>\n",
              "      <td>i wa shocked to see how well this product work...</td>\n",
              "    </tr>\n",
              "    <tr>\n",
              "      <th>2</th>\n",
              "      <td>\"Works better than I expected, was able to cov...</td>\n",
              "      <td>work better than i expected wa able to cover t...</td>\n",
              "    </tr>\n",
              "    <tr>\n",
              "      <th>3</th>\n",
              "      <td>\"This smells so good! If you like warm scents ...</td>\n",
              "      <td>this smell so good if you like warm scent like...</td>\n",
              "    </tr>\n",
              "    <tr>\n",
              "      <th>4</th>\n",
              "      <td>\"I disagree with the other reviewer. It's true...</td>\n",
              "      <td>i disagree with the other reviewer it 's true ...</td>\n",
              "    </tr>\n",
              "  </tbody>\n",
              "</table>\n",
              "</div>"
            ],
            "text/plain": [
              "                                                text                                    normalized_text\n",
              "0  \"I gave my son a sample of the Kiss My Face Or...  i gave my son a sample of the kiss my face org...\n",
              "1  \"I was shocked to see how well this product wo...  i wa shocked to see how well this product work...\n",
              "2  \"Works better than I expected, was able to cov...  work better than i expected wa able to cover t...\n",
              "3  \"This smells so good! If you like warm scents ...  this smell so good if you like warm scent like...\n",
              "4  \"I disagree with the other reviewer. It's true...  i disagree with the other reviewer it 's true ..."
            ]
          },
          "metadata": {
            "tags": []
          },
          "execution_count": 13
        }
      ]
    },
    {
      "cell_type": "markdown",
      "metadata": {
        "id": "U1jUvYetEf1V"
      },
      "source": [
        "## Способы поиска упоминаний товаров в отзывах\n",
        "\n",
        "1. Ruled-based подход: составление шаблонов n-грамм по типу \"*тип косметического продукта* + n-1 слов после типа товара\", поиск соотвутствующих n-грамм, выделение из них названия товаров (удаление первого слова в шаблоне). Для реализации этого способа необходим примерный перечень наиболее популярных средств, которые представлены в отзывах. Минус: возможное отсутствие готовых метаданных о содержании отзывов; тогда необходимо либо использовать очень большой список шаблонов, либо перед составлением шаблонов сделать частотный словарь существительных в текстах отзывов, и по ним определить вручную главные слова для шаблонов. Плюс: если использовать разное количество слов в n-граммах, можно получить список, из которого с большой вероятностью можно выделить нужные названия. Однако невсегда в текстах люди используют формат тип продукта + название, а просто пишут название, поэтому шаблоны такого вида могут не выявить упоминание товара + такой способ больше подходит для поиска названий торговых марок, а настоящая задача заключается в поиске упоминаний типов товаров\n",
        "2. Условные случайные поля: использование готовой библиотеки stanza. Плюсы: находит сложные зависимости; готовый инструмент. Минус: будет находить вообще все именованные сущности в отзывах, а не только упоминания товаров. Для избавления от этого недостатка можно выбирать только сущности определенного типа, которые указывали бы на продукт (например, организации). Другой недостаток: не будет находить такие упоминания товаров как \"телефон\", \"модель\" и т.д.\n",
        "3. Составление словаря ключевых слов + расширение с помощью эмбеддингов + поиск н-грамм по списку ключевых слов. Плюс: в данных текстах, скорее всего, мало семантической неоднозначности, тексты одной тематики. Минусы: не учитываются названия брендов, если не использовать дополнительно более длинные n-граммы."
      ]
    },
    {
      "cell_type": "markdown",
      "metadata": {
        "id": "Gcm-j2N12VSW"
      },
      "source": [
        "## Составление словаря ключевых слов и расширение с помощью эмбеддингов"
      ]
    },
    {
      "cell_type": "code",
      "metadata": {
        "colab": {
          "base_uri": "https://localhost:8080/"
        },
        "id": "LaD67O-Ez7tC",
        "outputId": "0b539692-af60-42b5-e157-54430387c9a9"
      },
      "source": [
        "!wget http://vectors.nlpl.eu/repository/20/5.zip"
      ],
      "execution_count": 14,
      "outputs": [
        {
          "output_type": "stream",
          "text": [
            "--2020-11-23 13:47:25--  http://vectors.nlpl.eu/repository/20/5.zip\n",
            "Resolving vectors.nlpl.eu (vectors.nlpl.eu)... 129.240.189.225\n",
            "Connecting to vectors.nlpl.eu (vectors.nlpl.eu)|129.240.189.225|:80... connected.\n",
            "HTTP request sent, awaiting response... 200 OK\n",
            "Length: 574653290 (548M) [application/zip]\n",
            "Saving to: ‘5.zip.2’\n",
            "\n",
            "5.zip.2             100%[===================>] 548.03M  23.3MB/s    in 32s     \n",
            "\n",
            "2020-11-23 13:47:57 (17.3 MB/s) - ‘5.zip.2’ saved [574653290/574653290]\n",
            "\n"
          ],
          "name": "stdout"
        }
      ]
    },
    {
      "cell_type": "code",
      "metadata": {
        "colab": {
          "base_uri": "https://localhost:8080/"
        },
        "id": "qju-cAF7272K",
        "outputId": "ebbb92e6-ec8f-4fa1-feaf-0a8e7f8a4145"
      },
      "source": [
        "!unzip '5.zip'"
      ],
      "execution_count": 15,
      "outputs": [
        {
          "output_type": "stream",
          "text": [
            "Archive:  5.zip\n",
            "replace meta.json? [y]es, [n]o, [A]ll, [N]one, [r]ename: y\n",
            "  inflating: meta.json               \n",
            "replace model.bin? [y]es, [n]o, [A]ll, [N]one, [r]ename: y\n",
            "  inflating: model.bin               \n",
            "replace model.txt? [y]es, [n]o, [A]ll, [N]one, [r]ename: y\n",
            "  inflating: model.txt               \n",
            "replace README? [y]es, [n]o, [A]ll, [N]one, [r]ename: y\n",
            "  inflating: README                  \n"
          ],
          "name": "stdout"
        }
      ]
    },
    {
      "cell_type": "code",
      "metadata": {
        "id": "-7rkl3N3297H"
      },
      "source": [
        "from gensim.models.keyedvectors import KeyedVectors\n",
        "\n",
        "model = KeyedVectors.load_word2vec_format('model.bin', binary=True)\n",
        "model.save_word2vec_format('model.txt', binary=False)"
      ],
      "execution_count": 16,
      "outputs": []
    },
    {
      "cell_type": "code",
      "metadata": {
        "id": "DYYdK6r_3mNl"
      },
      "source": [
        "def word2vec_eng(word, model=model):\n",
        "    if word in model:\n",
        "        return model.most_similar(word, topn=1)[0][0]"
      ],
      "execution_count": 17,
      "outputs": []
    },
    {
      "cell_type": "code",
      "metadata": {
        "id": "QCpmTIAc4j3C"
      },
      "source": [
        "#pip install python-rake"
      ],
      "execution_count": 18,
      "outputs": []
    },
    {
      "cell_type": "code",
      "metadata": {
        "colab": {
          "base_uri": "https://localhost:8080/"
        },
        "id": "ermfVXqX40TM",
        "outputId": "ca2944e3-900b-4157-9816-6b1e8204220f"
      },
      "source": [
        "nltk.download('stopwords')"
      ],
      "execution_count": 19,
      "outputs": [
        {
          "output_type": "stream",
          "text": [
            "[nltk_data] Downloading package stopwords to /root/nltk_data...\n",
            "[nltk_data]   Package stopwords is already up-to-date!\n"
          ],
          "name": "stdout"
        },
        {
          "output_type": "execute_result",
          "data": {
            "text/plain": [
              "True"
            ]
          },
          "metadata": {
            "tags": []
          },
          "execution_count": 19
        }
      ]
    },
    {
      "cell_type": "code",
      "metadata": {
        "id": "dxEmJfLS4Hud"
      },
      "source": [
        "import RAKE\n",
        "from nltk.corpus import stopwords"
      ],
      "execution_count": 20,
      "outputs": []
    },
    {
      "cell_type": "code",
      "metadata": {
        "id": "EBrKLedy4hKr"
      },
      "source": [
        "stop = stopwords.words('english')"
      ],
      "execution_count": 21,
      "outputs": []
    },
    {
      "cell_type": "markdown",
      "metadata": {
        "id": "P9l1vUigdgEl"
      },
      "source": [
        "Выберем ключевые слова в каждом отзыве с помощью RAKE, составим топ ключевых слов всего корпуса и выделим наиболее релевантные существительные"
      ]
    },
    {
      "cell_type": "code",
      "metadata": {
        "id": "LhCjcsTp4vtP"
      },
      "source": [
        "rake = RAKE.Rake(stop)"
      ],
      "execution_count": 22,
      "outputs": []
    },
    {
      "cell_type": "code",
      "metadata": {
        "id": "nxc829gs5LpI"
      },
      "source": [
        "all_kw = []\n",
        "for i, row in df.iterrows():\n",
        "    kw = rake.run(df['normalized_text'][i], maxWords=3, minFrequency=1)\n",
        "    for k in kw:\n",
        "        all_kw.append(k[0])"
      ],
      "execution_count": 23,
      "outputs": []
    },
    {
      "cell_type": "code",
      "metadata": {
        "colab": {
          "base_uri": "https://localhost:8080/"
        },
        "id": "sw4r-PeO6u4o",
        "outputId": "99ec7037-eb58-4bad-8939-92027021302e"
      },
      "source": [
        "from collections import Counter\n",
        "Counter(all_kw).most_common(150)"
      ],
      "execution_count": 24,
      "outputs": [
        {
          "output_type": "execute_result",
          "data": {
            "text/plain": [
              "[('product', 47038),\n",
              " ('n', 38785),\n",
              " ('use', 34436),\n",
              " ('love', 27675),\n",
              " ('hair', 26306),\n",
              " ('used', 23852),\n",
              " ('wa', 23479),\n",
              " ('using', 18905),\n",
              " ('get', 17869),\n",
              " ('one', 17609),\n",
              " ('like', 17172),\n",
              " ('bought', 16273),\n",
              " ('skin', 15659),\n",
              " ('make', 13873),\n",
              " ('time', 13692),\n",
              " ('year', 13620),\n",
              " ('find', 13545),\n",
              " ('day', 12706),\n",
              " ('work', 12705),\n",
              " ('well', 11863),\n",
              " ('ha', 11552),\n",
              " ('doe n', 11284),\n",
              " ('smell', 11155),\n",
              " ('buy', 10533),\n",
              " ('found', 10406),\n",
              " ('tried', 9820),\n",
              " ('doe', 9819),\n",
              " ('think', 9728),\n",
              " ('try', 9571),\n",
              " ('great', 9519),\n",
              " ('much', 9413),\n",
              " ('good', 9024),\n",
              " ('would', 8962),\n",
              " ('price', 8939),\n",
              " ('face', 8908),\n",
              " ('lot', 8826),\n",
              " ('know', 8823),\n",
              " ('amazon', 8748),\n",
              " ('got', 8519),\n",
              " ('dry', 8300),\n",
              " ('need', 8288),\n",
              " ('give', 8175),\n",
              " ('put', 8174),\n",
              " ('want', 7886),\n",
              " ('say', 7877),\n",
              " ('scent', 7831),\n",
              " ('ca n', 7723),\n",
              " ('go', 7607),\n",
              " ('see', 7285),\n",
              " ('week', 7271),\n",
              " ('last', 7118),\n",
              " ('purchased', 6884),\n",
              " ('way', 6880),\n",
              " ('keep', 6374),\n",
              " ('happy', 6203),\n",
              " ('thought', 6083),\n",
              " ('take', 5946),\n",
              " ('perfume', 5898),\n",
              " ('month', 5883),\n",
              " ('bottle', 5856),\n",
              " ('money', 5770),\n",
              " ('easy', 5739),\n",
              " ('problem', 5652),\n",
              " ('stuff', 5569),\n",
              " ('color', 5561),\n",
              " ('far', 5447),\n",
              " ('review', 5440),\n",
              " ('ordered', 5326),\n",
              " ('purchase', 5312),\n",
              " ('wear', 5278),\n",
              " ('hand', 5220),\n",
              " ('made', 5220),\n",
              " ('recommend', 5177),\n",
              " ('sure', 5119),\n",
              " ('best', 5082),\n",
              " ('decided', 4991),\n",
              " ('fragrance', 4795),\n",
              " ('long', 4703),\n",
              " ('received', 4653),\n",
              " ('come', 4624),\n",
              " ('thing', 4580),\n",
              " ('shampoo', 4560),\n",
              " ('feel', 4544),\n",
              " ('going', 4544),\n",
              " ('leave', 4394),\n",
              " ('also', 4388),\n",
              " ('soft', 4369),\n",
              " ('little', 4359),\n",
              " ('order', 4301),\n",
              " ('store', 4285),\n",
              " ('apply', 4272),\n",
              " ('even', 4244),\n",
              " ('hard', 4240),\n",
              " ('wash', 4196),\n",
              " ('result', 4146),\n",
              " ('still', 4109),\n",
              " ('first', 4076),\n",
              " ('worth', 4023),\n",
              " ('wanted', 4015),\n",
              " ('back', 3958),\n",
              " ('help', 3931),\n",
              " ('item', 3890),\n",
              " ('could', 3868),\n",
              " ('leaf', 3823),\n",
              " ('look', 3816),\n",
              " ('lotion', 3789),\n",
              " ('brush', 3781),\n",
              " ('conditioner', 3746),\n",
              " ('friend', 3742),\n",
              " ('shower', 3686),\n",
              " ('light', 3665),\n",
              " ('difference', 3664),\n",
              " ('looking', 3611),\n",
              " ('anyone', 3602),\n",
              " ('end', 3579),\n",
              " ('loved', 3553),\n",
              " ('soap', 3550),\n",
              " ('wo n', 3533),\n",
              " ('smooth', 3529),\n",
              " ('really', 3528),\n",
              " ('able', 3524),\n",
              " ('bit', 3515),\n",
              " ('clean', 3482),\n",
              " ('noticed', 3476),\n",
              " ('nice', 3455),\n",
              " ('wish', 3455),\n",
              " ('said', 3446),\n",
              " ('long time', 3392),\n",
              " ('people', 3366),\n",
              " ('night', 3328),\n",
              " ('perfect', 3278),\n",
              " ('highly recommend', 3255),\n",
              " ('better', 3242),\n",
              " ('could n', 3241),\n",
              " ('eye', 3215),\n",
              " ('fact', 3208),\n",
              " ('read', 3197),\n",
              " ('great product', 3168),\n",
              " ('hold', 3166),\n",
              " ('cologne', 3131),\n",
              " ('glad', 3099),\n",
              " ('gave', 3088),\n",
              " ('wa n', 3078),\n",
              " ('since', 3033),\n",
              " ('pleased', 3027),\n",
              " ('gift', 3021),\n",
              " ('believe', 3011),\n",
              " ('couple', 3003),\n",
              " ('buying', 3002),\n",
              " ('kind', 2983)]"
            ]
          },
          "metadata": {
            "tags": []
          },
          "execution_count": 24
        }
      ]
    },
    {
      "cell_type": "code",
      "metadata": {
        "colab": {
          "base_uri": "https://localhost:8080/"
        },
        "id": "TNt2IcGL63b_",
        "outputId": "05e9f285-fc97-4344-a8bd-4c7c90fc0231"
      },
      "source": [
        "entities =  ['product', 'hair', 'skin', 'face', 'parfume', 'fragrance', 'shampoo', \n",
        "             'lotion', 'item', 'shower', 'conditioner', 'cream']\n",
        "result = []\n",
        "\n",
        "# расширение списка дескрипторов с помощью эмбеддингов\n",
        "for e in entities:\n",
        "    new_e = word2vec_eng(e)\n",
        "    if new_e not in entities and new_e != None:\n",
        "        result.append(new_e)\n",
        "entities.extend(result)"
      ],
      "execution_count": 86,
      "outputs": [
        {
          "output_type": "stream",
          "text": [
            "/usr/local/lib/python3.6/dist-packages/gensim/matutils.py:737: FutureWarning: Conversion of the second argument of issubdtype from `int` to `np.signedinteger` is deprecated. In future, it will be treated as `np.int64 == np.dtype(int).type`.\n",
            "  if np.issubdtype(vec.dtype, np.int):\n"
          ],
          "name": "stderr"
        }
      ]
    },
    {
      "cell_type": "code",
      "metadata": {
        "colab": {
          "base_uri": "https://localhost:8080/"
        },
        "id": "pJYCkzik-8Xm",
        "outputId": "2695828f-9aac-410b-b229-cb9ccb8eb382"
      },
      "source": [
        "entities"
      ],
      "execution_count": 87,
      "outputs": [
        {
          "output_type": "execute_result",
          "data": {
            "text/plain": [
              "['product',\n",
              " 'hair',\n",
              " 'skin',\n",
              " 'face',\n",
              " 'parfume',\n",
              " 'fragrance',\n",
              " 'shampoo',\n",
              " 'lotion',\n",
              " 'item',\n",
              " 'shower',\n",
              " 'conditioner',\n",
              " 'cream',\n",
              " 'consumer',\n",
              " 'beard',\n",
              " 'mucous',\n",
              " 'overcome',\n",
              " 'perfume',\n",
              " 'trinket',\n",
              " 'bathroom',\n",
              " 'dehumidifier',\n",
              " 'chocolate']"
            ]
          },
          "metadata": {
            "tags": []
          },
          "execution_count": 87
        }
      ]
    },
    {
      "cell_type": "markdown",
      "metadata": {
        "id": "z0wly-Dk_Sbv"
      },
      "source": [
        "## Биграммы с полученными сущностями"
      ]
    },
    {
      "cell_type": "code",
      "metadata": {
        "id": "9NNAVvUA_M9q"
      },
      "source": [
        "def left_context(text, entities=entities):\n",
        "    text = text.split()\n",
        "    res = []\n",
        "    for w in text:\n",
        "        if w in entities:\n",
        "            n = text.index(w)\n",
        "            try:\n",
        "                res.append(' '.join([text[n-1], text[n]]))\n",
        "            except IndexError:\n",
        "                continue\n",
        "    return res"
      ],
      "execution_count": 88,
      "outputs": []
    },
    {
      "cell_type": "code",
      "metadata": {
        "id": "i1pI9BipAlZj"
      },
      "source": [
        "def right_context(text, entities=entities):\n",
        "    text = text.split()\n",
        "    res = []\n",
        "    for w in text:\n",
        "        if w in entities:\n",
        "            n = text.index(w)\n",
        "            try:\n",
        "                res.append(' '.join([text[n], text[n+1]]))\n",
        "            except IndexError:\n",
        "                continue\n",
        "    return res"
      ],
      "execution_count": 89,
      "outputs": []
    },
    {
      "cell_type": "code",
      "metadata": {
        "id": "YuTx595qAcC_"
      },
      "source": [
        "n_gramms = []\n",
        "for i, row in df.iterrows():\n",
        "    n_gramms.extend(left_context(df['normalized_text'][i]))\n",
        "    n_gramms.extend(right_context(df['normalized_text'][i]))"
      ],
      "execution_count": 90,
      "outputs": []
    },
    {
      "cell_type": "code",
      "metadata": {
        "id": "rgmGBJe613bI"
      },
      "source": [
        "words = ' '.join(n_gramms)\n",
        "count_dict_words = Counter(words.split())\n",
        "count_dict_bigram = Counter(n_gramms)"
      ],
      "execution_count": 91,
      "outputs": []
    },
    {
      "cell_type": "code",
      "metadata": {
        "id": "pQiqe9VC2LAz"
      },
      "source": [
        "# размер всего корпуса\n",
        "N = len(''.join(df['normalized_text']).split())"
      ],
      "execution_count": 92,
      "outputs": []
    },
    {
      "cell_type": "code",
      "metadata": {
        "colab": {
          "base_uri": "https://localhost:8080/"
        },
        "id": "Ko0yEbua8A8n",
        "outputId": "49038133-220f-45cd-95b2-e32548bd3199"
      },
      "source": [
        "N"
      ],
      "execution_count": 93,
      "outputs": [
        {
          "output_type": "execute_result",
          "data": {
            "text/plain": [
              "13407765"
            ]
          },
          "metadata": {
            "tags": []
          },
          "execution_count": 93
        }
      ]
    },
    {
      "cell_type": "markdown",
      "metadata": {
        "id": "fRpCABh2s6KG"
      },
      "source": [
        "# Ранжирование биграмм по коллокационным метрикам"
      ]
    },
    {
      "cell_type": "code",
      "metadata": {
        "id": "zBTXmvbbCbQA"
      },
      "source": [
        "from nltk.metrics import *"
      ],
      "execution_count": 94,
      "outputs": []
    },
    {
      "cell_type": "code",
      "metadata": {
        "id": "zjKR9v4z7huc"
      },
      "source": [
        "bam = BigramAssocMeasures"
      ],
      "execution_count": 95,
      "outputs": []
    },
    {
      "cell_type": "code",
      "metadata": {
        "id": "PJHvvO5G7h4P"
      },
      "source": [
        "# список выделенных сочетаний без повторений \n",
        "ngr_list = list(set(n_gramms))"
      ],
      "execution_count": 96,
      "outputs": []
    },
    {
      "cell_type": "code",
      "metadata": {
        "id": "87XtVp6h8i0F"
      },
      "source": [
        "student_t = {}\n",
        "chi_sq = {}\n",
        "pmi = {}\n",
        "for n in ngr_list:\n",
        "    student_t[n] = bam.student_t(count_dict_bigram[n], (count_dict_words[n.split()[0]], \n",
        "                                                        count_dict_words[n.split()[1]]), N)\n",
        "    try:\n",
        "        chi_sq[n] = bam.chi_sq(count_dict_bigram[n], (count_dict_words[n.split()[0]], \n",
        "                                                          count_dict_words[n.split()[1]]), N)\n",
        "    except ZeroDivisionError:\n",
        "        chi_sq[n] = 0\n",
        "    pmi[n] = bam.pmi(count_dict_bigram[n], (count_dict_words[n.split()[0]], \n",
        "                                                        count_dict_words[n.split()[1]]), N)"
      ],
      "execution_count": 97,
      "outputs": []
    },
    {
      "cell_type": "markdown",
      "metadata": {
        "id": "MSD-_f1UbDfT"
      },
      "source": [
        "### t-score"
      ]
    },
    {
      "cell_type": "code",
      "metadata": {
        "colab": {
          "base_uri": "https://localhost:8080/"
        },
        "id": "pmjU-tBwbIvF",
        "outputId": "c3efa075-2be6-48be-aa74-fc5a117203dc"
      },
      "source": [
        "student_t = list(student_t.items())\n",
        "student_t.sort(key=lambda i: i[1], reverse=True)\n",
        "student_t[:100]"
      ],
      "execution_count": 98,
      "outputs": [
        {
          "output_type": "execute_result",
          "data": {
            "text/plain": [
              "[('this product', 241.39499677195764),\n",
              " ('my hair', 198.8117157936411),\n",
              " ('my skin', 140.41074757153976),\n",
              " ('my face', 108.87295970316607),\n",
              " ('hair and', 108.83724046558943),\n",
              " ('the product', 106.83496723018041),\n",
              " ('product i', 106.37673838250775),\n",
              " ('product for', 101.5123704347583),\n",
              " ('product is', 89.36878982506649),\n",
              " ('your hair', 85.12382779660255),\n",
              " ('hair i', 83.81009060488375),\n",
              " ('skin and', 83.52698010335799),\n",
              " ('hair dryer', 82.32412811285086),\n",
              " ('product and', 78.003098200727),\n",
              " ('hair is', 73.51689361248167),\n",
              " ('your skin', 73.11440463210077),\n",
              " ('this perfume', 70.70719199654063),\n",
              " ('curly hair', 70.30457946807134),\n",
              " ('sensitive skin', 69.6724083306759),\n",
              " ('great product', 69.50552984885773),\n",
              " ('dry skin', 64.72956635100938),\n",
              " ('hair that', 64.62432390431321),\n",
              " ('the skin', 64.3968960516785),\n",
              " ('product it', 62.68648307380003),\n",
              " ('product that', 62.42537805328627),\n",
              " ('skin i', 61.52297676723383),\n",
              " ('this item', 60.638089588010445),\n",
              " ('this shampoo', 58.89969784586411),\n",
              " ('hair it', 56.280620241620866),\n",
              " ('product to', 55.89948746445469),\n",
              " ('product wa', 52.61470858492548),\n",
              " ('the shower', 52.32894793364697),\n",
              " ('shampoo and', 52.30824748112263),\n",
              " ('fine hair', 51.93774931971182),\n",
              " ('your face', 51.40367302507081),\n",
              " ('skin is', 51.351108665586466),\n",
              " ('product but', 50.51845297592225),\n",
              " ('thick hair', 49.71638036809114),\n",
              " ('this fragrance', 48.92660510206284),\n",
              " ('this lotion', 48.378173183478516),\n",
              " ('product in', 48.26978099354695),\n",
              " ('hair but', 47.82713355106272),\n",
              " ('long hair', 47.120539383198896),\n",
              " ('face and', 46.85269077790159),\n",
              " ('the fragrance', 46.364611649759816),\n",
              " ('the hair', 45.866073216419025),\n",
              " ('this cream', 45.838961685683074),\n",
              " ('product on', 45.32850593620762),\n",
              " ('a product', 44.71906587158818),\n",
              " ('oily skin', 44.23954973045396),\n",
              " ('good product', 43.64531358881465),\n",
              " ('wavy hair', 42.84491557232251),\n",
              " ('product a', 42.577026747956275),\n",
              " ('hair with', 42.379592762094255),\n",
              " ('skin it', 41.891644484828234),\n",
              " ('product because', 41.626847805976105),\n",
              " ('hair so', 41.40934630045471),\n",
              " ('skin feel', 41.397938367220604),\n",
              " ('of hair', 41.22575948561222),\n",
              " ('hair wa', 40.86524114019036),\n",
              " ('product work', 40.487541443595624),\n",
              " ('this hair', 40.462879319463475),\n",
              " ('other product', 40.228127842772494),\n",
              " ('perfume i', 38.504003933321144),\n",
              " ('and conditioner', 38.22183063173228),\n",
              " ('the perfume', 38.02316849148206),\n",
              " ('hair color', 37.79321435181781),\n",
              " ('the shampoo', 37.42382343253773),\n",
              " ('the item', 37.17550212741372),\n",
              " ('product from', 36.68281457780874),\n",
              " ('face wash', 36.312172211272966),\n",
              " ('hair in', 36.27638056060593),\n",
              " ('dry hair', 35.93587158370173),\n",
              " ('fragrance is', 35.91963457859623),\n",
              " ('skin so', 35.47769862080211),\n",
              " ('product ha', 35.237070073259645),\n",
              " ('product doe', 35.19252725004139),\n",
              " ('skin but', 34.9274660460631),\n",
              " ('skin care', 34.915131267284266),\n",
              " ('hair a', 34.828582326352524),\n",
              " ('her hair', 34.684688022078795),\n",
              " ('of product', 34.621555755665085),\n",
              " ('shampoo i', 34.577358485945396),\n",
              " ('the lotion', 34.554226984647975),\n",
              " ('this conditioner', 34.50922088165091),\n",
              " ('skin tone', 33.992300860079574),\n",
              " ('straight hair', 33.66838873715005),\n",
              " ('cream and', 33.62396235257833),\n",
              " ('face i', 33.58755370333738),\n",
              " ('a hair', 33.54118877586024),\n",
              " ('lotion i', 33.23961875516369),\n",
              " ('product at', 33.19567728902083),\n",
              " ('hair look', 33.11017838072069),\n",
              " ('hair feel', 33.09376507895832),\n",
              " ('cream is', 33.01636567831032),\n",
              " ('cream i', 32.782074943230825),\n",
              " ('perfume and', 32.65836235553287),\n",
              " ('shower and', 32.5990289056641),\n",
              " ('lotion and', 32.54435961518696),\n",
              " ('fragrance i', 32.393341595302594)]"
            ]
          },
          "metadata": {
            "tags": []
          },
          "execution_count": 98
        }
      ]
    },
    {
      "cell_type": "markdown",
      "metadata": {
        "id": "QDli2kkmbI9a"
      },
      "source": [
        "### хи-квадрат"
      ]
    },
    {
      "cell_type": "code",
      "metadata": {
        "colab": {
          "base_uri": "https://localhost:8080/"
        },
        "id": "ifwMrOT1bReJ",
        "outputId": "2b2b44bd-622d-4ec1-afa6-e3f85165ec5f"
      },
      "source": [
        "chi_sq = list(chi_sq.items())\n",
        "chi_sq.sort(key=lambda i: i[1], reverse=True)\n",
        "chi_sq[:100]"
      ],
      "execution_count": 99,
      "outputs": [
        {
          "output_type": "execute_result",
          "data": {
            "text/plain": [
              "[('this product', 2096874.6537405218),\n",
              " ('mucous membrane', 1915393.28571403),\n",
              " ('tacky trinket', 1532313.371428531),\n",
              " ('my hair', 1112709.101151513),\n",
              " ('consumer report', 1112465.224376499),\n",
              " ('my skin', 548704.9295787879),\n",
              " ('my face', 531209.944400166),\n",
              " ('sensitive skin', 514951.2339483805),\n",
              " ('eye cream', 410898.44103360345),\n",
              " ('shower gel', 375278.0263907055),\n",
              " ('hair dryer', 366840.32928688795),\n",
              " ('face wash', 336668.1292690976),\n",
              " ('nasal mucous', 319230.90476294),\n",
              " ('body lotion', 316555.72561237606),\n",
              " ('de parfume', 310669.3085143854),\n",
              " ('product for', 296364.19996057806),\n",
              " ('dry skin', 287582.69262206246),\n",
              " ('hand cream', 286210.71752970567),\n",
              " ('night cream', 285738.4472078389),\n",
              " ('curly hair', 265286.0256938251),\n",
              " ('overcome genetics', 223461.76666659332),\n",
              " ('overcome thatthanks', 223461.76666659332),\n",
              " ('product i', 215280.6618061443),\n",
              " ('trinket laundry', 212819.9206374612),\n",
              " ('bathroom sink', 194149.77110185605),\n",
              " ('your skin', 193642.4070934743),\n",
              " ('leave-in conditioner', 192047.88217990682),\n",
              " ('the product', 190235.86965722515),\n",
              " ('great product', 188320.055479068),\n",
              " ('hair and', 187243.8790815182),\n",
              " ('your hair', 184140.0530001316),\n",
              " ('guest bathroom', 183991.27952260058),\n",
              " ('oily skin', 168010.68880424177),\n",
              " ('the shower', 164885.07659398764),\n",
              " ('watery mucous', 159614.48809880036),\n",
              " ('product is', 149922.5652601116),\n",
              " ('chocolate chip', 147128.05486496352),\n",
              " ('fine hair', 139625.4156850823),\n",
              " ('shower cap', 133788.88071435367),\n",
              " ('favorite perfume', 132216.5744903198),\n",
              " ('beard lube', 128774.31482859519),\n",
              " ('deep conditioner', 128687.84385285989),\n",
              " ('your face', 128489.51073397155),\n",
              " ('skin and', 126347.70996347256),\n",
              " ('thick hair', 125537.45163485009),\n",
              " ('this perfume', 122341.60573912693),\n",
              " ('skin tone', 121433.88104481365),\n",
              " ('this item', 119135.48811721083),\n",
              " ('bathroom counter', 117516.61370286583),\n",
              " ('bathroom mirror', 116813.21805175675),\n",
              " ('long hair', 111852.80914636186),\n",
              " ('fragrance free', 108166.83139684304),\n",
              " ('tanning lotion', 99861.7760158176),\n",
              " ('bathroom floor', 99636.22861361796),\n",
              " ('wavy hair', 99123.57279309239),\n",
              " ('ugly mucous', 95767.92143566541),\n",
              " ('dandruff shampoo', 92199.14399139823),\n",
              " ('hair i', 87654.7786466022),\n",
              " ('skin feel', 87067.26590138138),\n",
              " ('combination skin', 80667.50288463476),\n",
              " ('tiny trinket', 79806.30953206746),\n",
              " ('shaving cream', 77229.46403370038),\n",
              " ('consumer proteston', 76721.43061397801),\n",
              " ('hair that', 75471.38227812429),\n",
              " ('shampoo and', 74528.90154971436),\n",
              " ('bathroom drawer', 74084.46798326436),\n",
              " ('hair is', 71679.98537059639),\n",
              " ('bathroom cabinet', 71338.8263935682),\n",
              " ('bathroom vanity', 70372.87561385213),\n",
              " ('good product', 66618.64895645999),\n",
              " ('product that', 66523.46970965643),\n",
              " ('product to', 65963.24758225249),\n",
              " ('skin care', 64446.7782703293),\n",
              " ('product work', 64205.78470753502),\n",
              " ('hair color', 62734.86316604219),\n",
              " ('product it', 62674.63345276941),\n",
              " ('this shampoo', 61995.35789956196),\n",
              " ('a shower', 60793.26413693983),\n",
              " ('fair skin', 57478.97086869433),\n",
              " ('product wa', 57410.038071803145),\n",
              " ('the fragrance', 55915.097826404875),\n",
              " ('prone skin', 55771.06615456058),\n",
              " ('product and', 55186.7678531478),\n",
              " ('belgian chocolate', 55172.99999933151),\n",
              " ('chocolate peanut', 55172.99999933151),\n",
              " ('shower head', 51721.134992670464),\n",
              " ('the skin', 51678.91157711864),\n",
              " ('dead skin', 50927.72613960086),\n",
              " ('skin i', 49888.24191543295),\n",
              " ('frizzy hair', 49254.642246073156),\n",
              " ('thin hair', 48649.39502836666),\n",
              " ('clarifying shampoo', 47567.03992890541),\n",
              " ('straight hair', 47327.70240140746),\n",
              " ('product because', 47244.682239258495),\n",
              " ('skin feeling', 46463.826444530816),\n",
              " ('other product', 45618.53184744365),\n",
              " ('signature fragrance', 45580.27694704523),\n",
              " ('excelente perfume', 43304.76940359468),\n",
              " ('consumer demand', 43154.304732949306),\n",
              " ('entire face', 43064.54448524258)]"
            ]
          },
          "metadata": {
            "tags": []
          },
          "execution_count": 99
        }
      ]
    },
    {
      "cell_type": "markdown",
      "metadata": {
        "id": "y40hliJebR_9"
      },
      "source": [
        "###PMI"
      ]
    },
    {
      "cell_type": "code",
      "metadata": {
        "colab": {
          "base_uri": "https://localhost:8080/"
        },
        "id": "ZboRjRT2-aGy",
        "outputId": "8dfa0d6f-66fe-4a22-df72-443da2edb9dd"
      },
      "source": [
        "pmi = list(pmi.items())\n",
        "pmi.sort(key=lambda i: i[1], reverse=True)\n",
        "pmi[:100]"
      ],
      "execution_count": 100,
      "outputs": [
        {
          "output_type": "execute_result",
          "data": {
            "text/plain": [
              "[('mucous membrane', 19.86921051018318),\n",
              " ('tacky trinket', 19.547282415295815),\n",
              " ('nasal mucous', 18.284248009462026),\n",
              " ('overcome genetics', 17.769674836632266),\n",
              " ('overcome thatthanks', 17.769674836632266),\n",
              " ('trinket laundry', 17.699285508740868),\n",
              " ('watery mucous', 17.284248009462026),\n",
              " ('ugly mucous', 16.54728241529582),\n",
              " ('tiny trinket', 16.284248009462026),\n",
              " ('tryingbest parfume', 15.208959882157789),\n",
              " ('picking parfume', 15.208959882157789),\n",
              " ('favorate parfume', 15.208959882157789),\n",
              " ('overcome addiction', 15.18471233591111),\n",
              " ('consumer rep', 14.22741678686535),\n",
              " ('frugal consumer', 14.22741678686535),\n",
              " ('consumer familiarize', 14.22741678686535),\n",
              " ('consumer fraud', 14.22741678686535),\n",
              " ('consumer advocate', 14.22741678686535),\n",
              " ('fad consumer', 14.22741678686535),\n",
              " ('consumer consequently', 14.22741678686535),\n",
              " ('health-conscious consumer', 14.22741678686535),\n",
              " ('haira consumer', 14.22741678686535),\n",
              " ('cologne/perfume consumer', 14.22741678686535),\n",
              " ('choosy consumer', 14.22741678686535),\n",
              " ('consumer mode', 14.22741678686535),\n",
              " ('consumer affair', 14.22741678686535),\n",
              " ('caring consumer', 14.22741678686535),\n",
              " ('consumer digest', 14.22741678686535),\n",
              " ('well-seasoned consumer', 14.22741678686535),\n",
              " ('dear consumer', 14.22741678686535),\n",
              " ('consumer device', 14.22741678686535),\n",
              " ('consumer illogical', 14.22741678686535),\n",
              " ('overcharge consumer', 14.22741678686535),\n",
              " ('consumer bascially', 14.22741678686535),\n",
              " ('fact consumer', 14.22741678686535),\n",
              " ('consumer radar', 14.22741678686535),\n",
              " ('consumer desiring', 14.22741678686535),\n",
              " ('consumer forgosh', 14.22741678686535),\n",
              " ('consumer advocate\\\\', 14.22741678686535),\n",
              " ('interested consumer', 14.22741678686535),\n",
              " ('chemical-conscious consumer', 14.22741678686535),\n",
              " ('disgruntled consumer', 14.22741678686535),\n",
              " ('rob consumer', 14.22741678686535),\n",
              " ('budget-conscious consumer', 14.22741678686535),\n",
              " ('discerning consumer', 14.22741678686535),\n",
              " ('consumer interest', 14.22741678686535),\n",
              " ('thoughtful consumer', 14.22741678686535),\n",
              " ('life-long consumer', 14.22741678686535),\n",
              " ('loyal consumer', 14.22741678686535),\n",
              " ('consumer awareness', 14.22741678686535),\n",
              " ('warn consumer', 14.22741678686535),\n",
              " ('consumer relation', 14.22741678686535),\n",
              " ('ploy consumer', 14.22741678686535),\n",
              " ('consumer theory', 14.22741678686535),\n",
              " ('consumer impression', 14.22741678686535),\n",
              " ('consumer worried', 14.22741678686535),\n",
              " ('uneducated consumer', 14.22741678686535),\n",
              " ('luck consumer', 14.22741678686535),\n",
              " ('rabid consumer', 14.22741678686535),\n",
              " ('consumer proteston', 14.227416786865348),\n",
              " ('consumer report', 14.227416786865348),\n",
              " ('consumer demandand', 14.227416786865344),\n",
              " ('informed consumer', 14.227416786865344),\n",
              " ('parfume ty', 14.208959882157789),\n",
              " ('dutch chocolate', 14.166790427913847),\n",
              " ('mahogany chocolate', 14.166790427913847),\n",
              " ('chocolate macaroon', 14.166790427913847),\n",
              " ('chocolate indulgence', 14.166790427913847),\n",
              " ('eating chocolate', 14.166790427913847),\n",
              " ('chocolate craving', 14.166790427913847),\n",
              " ('vanilla-white chocolate', 14.166790427913847),\n",
              " ('chocolate fling', 14.166790427913847),\n",
              " ('pronounced chocolate', 14.166790427913847),\n",
              " ('aahhh chocolate', 14.166790427913847),\n",
              " ('soulless chocolate', 14.166790427913847),\n",
              " ('chocolate chip', 14.166790427913847),\n",
              " ('wheat chocolate', 14.166790427913847),\n",
              " ('chocolate shell', 14.166790427913847),\n",
              " ('chocolate blackpros', 14.166790427913847),\n",
              " ('chocolate syrup', 14.166790427913847),\n",
              " ('darkest chocolate', 14.166790427913847),\n",
              " ('chocolate brownthank', 14.166790427913847),\n",
              " ('chocolate drydownits', 14.166790427913847),\n",
              " ('vanilla/ chocolate', 14.166790427913847),\n",
              " ('chocolate cane', 14.166790427913847),\n",
              " ('chocolate undercurrent', 14.166790427913847),\n",
              " ('chocolate pipe', 14.166790427913847),\n",
              " ('minty- chocolate', 14.166790427913847),\n",
              " ('jam chocolate', 14.166790427913847),\n",
              " ('giant chocolate', 14.166790427913847),\n",
              " ('chocolate factory', 14.166790427913847),\n",
              " ('chocolate 645', 14.166790427913847),\n",
              " ('belgian chocolate', 14.166790427913845),\n",
              " ('chocolate peanut', 14.166790427913845),\n",
              " ('carb chocolate', 14.166790427913844),\n",
              " ('sp chocolate', 14.166790427913844),\n",
              " ('chocolate pudding', 14.166790427913844),\n",
              " ('chocolate orchid', 14.166790427913844),\n",
              " ('mucous colour', 13.846842697154727),\n",
              " ('consumer demand', 13.812379287586502)]"
            ]
          },
          "metadata": {
            "tags": []
          },
          "execution_count": 100
        }
      ]
    },
    {
      "cell_type": "markdown",
      "metadata": {
        "id": "_qfe9ToqiWt5"
      },
      "source": [
        "Метрика хи-квадрат показывает наилучший результат, так как она ранжирует выше коллокации, где содержатся значимые по смыслу слова (меньше артиклей или метоимений по сравнению с результатами метрики t-score) и при этом выбирает наиболее обобщенные словосочетания (по сравнению с результатами метрики pmi)"
      ]
    },
    {
      "cell_type": "markdown",
      "metadata": {
        "id": "YWHwNRAVpAGy"
      },
      "source": [
        "### Группировка сочетаний по NE"
      ]
    },
    {
      "cell_type": "code",
      "metadata": {
        "id": "_Elc7XYryE2P"
      },
      "source": [
        "best_collocations = [col[0] for col in chi_sq[:100]]"
      ],
      "execution_count": 101,
      "outputs": []
    },
    {
      "cell_type": "code",
      "metadata": {
        "id": "YxRXlOCLkZ6O"
      },
      "source": [
        "examples = {}\n",
        "\n",
        "for col in best_collocations:\n",
        "    if col.split()[0] in entities:\n",
        "        if col.split()[0] in examples.keys():\n",
        "            examples[col.split()[0]].append(col)\n",
        "        else:\n",
        "            examples[col.split()[0]] = [col]\n",
        "    else:\n",
        "        if col.split()[1] in examples.keys():\n",
        "            examples[col.split()[1]].append(col)\n",
        "        else:\n",
        "            examples[col.split()[1]] = [col]"
      ],
      "execution_count": 102,
      "outputs": []
    },
    {
      "cell_type": "code",
      "metadata": {
        "colab": {
          "base_uri": "https://localhost:8080/"
        },
        "id": "-v83s2K-kdE1",
        "outputId": "b45d0f2c-a56c-4979-e839-4fe02daa53bc"
      },
      "source": [
        "for e in entities[:5]:\n",
        "    print('NE:', e)\n",
        "    print('\\n'.join(examples[e]))\n",
        "    print('.....')"
      ],
      "execution_count": 103,
      "outputs": [
        {
          "output_type": "stream",
          "text": [
            "NE: product\n",
            "this product\n",
            "product for\n",
            "product i\n",
            "the product\n",
            "great product\n",
            "product is\n",
            "good product\n",
            "product that\n",
            "product to\n",
            "product work\n",
            "product it\n",
            "product wa\n",
            "product and\n",
            "product because\n",
            "other product\n",
            ".....\n",
            "NE: hair\n",
            "my hair\n",
            "hair dryer\n",
            "curly hair\n",
            "hair and\n",
            "your hair\n",
            "fine hair\n",
            "thick hair\n",
            "long hair\n",
            "wavy hair\n",
            "hair i\n",
            "hair that\n",
            "hair is\n",
            "hair color\n",
            "frizzy hair\n",
            "thin hair\n",
            "straight hair\n",
            ".....\n",
            "NE: skin\n",
            "my skin\n",
            "sensitive skin\n",
            "dry skin\n",
            "your skin\n",
            "oily skin\n",
            "skin and\n",
            "skin tone\n",
            "skin feel\n",
            "combination skin\n",
            "skin care\n",
            "fair skin\n",
            "prone skin\n",
            "the skin\n",
            "dead skin\n",
            "skin i\n",
            "skin feeling\n",
            ".....\n",
            "NE: face\n",
            "my face\n",
            "face wash\n",
            "your face\n",
            "entire face\n",
            ".....\n",
            "NE: parfume\n",
            "de parfume\n",
            ".....\n"
          ],
          "name": "stdout"
        }
      ]
    },
    {
      "cell_type": "markdown",
      "metadata": {
        "id": "fCiOS9Ij1WoC"
      },
      "source": [
        "### Способы группировки по синонимам:\n",
        "Частеречная разметка послеследующих и предшествующих NE слов (предположительно, перед существительном следует прилагательное, а после -- глагол). Составить список из слов, которые входят в левый и правый контекст, объединить синонимы по векторной близости слов одной части речи"
      ]
    }
  ]
}